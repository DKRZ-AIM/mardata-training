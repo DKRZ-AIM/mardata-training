{
 "cells": [
  {
   "cell_type": "markdown",
   "metadata": {},
   "source": [
    "# Objective\n",
    "Use an Artificial Neural Net to fit a model to classify hand-written digits (MNIST) with PyTorch Lightning.\n",
    "\n",
    "PyTorch Lightning gives the possibility to structure the PyTorch code. A lot in this notebook is exactly the same as in the classification of MNIST using PyTorch.\n",
    "\n",
    "Sources:\n",
    "    \n",
    "* https://towardsdatascience.com/from-pytorch-to-pytorch-lightning-a-gentle-introduction-b371b7caaf09"
   ]
  },
  {
   "cell_type": "markdown",
   "metadata": {},
   "source": [
    "# Setup\n",
    "Import the relevant packages"
   ]
  },
  {
   "cell_type": "code",
   "execution_count": 1,
   "metadata": {},
   "outputs": [
    {
     "name": "stderr",
     "output_type": "stream",
     "text": [
      "/home/frauke/anaconda3/lib/python3.8/site-packages/setuptools/distutils_patch.py:25: UserWarning: Distutils was imported before Setuptools. This usage is discouraged and may exhibit undesirable behaviors or errors. Please use Setuptools' objects directly or at least import Setuptools first.\n",
      "  warnings.warn(\n"
     ]
    }
   ],
   "source": [
    "import os\n",
    "import pandas as pd\n",
    "import numpy as np\n",
    "import random\n",
    "\n",
    "# packages for modelling and evaluation\n",
    "import pytorch_lightning as pl\n",
    "from pytorch_lightning.callbacks import Callback\n",
    "import torch\n",
    "from torch import nn\n",
    "import torch.functional as F\n",
    "from torch.utils.data import DataLoader, Dataset\n",
    "from torchvision import datasets, transforms\n",
    "from sklearn.model_selection import train_test_split\n",
    "    \n",
    "# packages for plotting\n",
    "import matplotlib.pyplot as plt\n",
    "\n",
    "# set a fixed random state to produce the same results\n",
    "RANDOM_STATE = 42\n",
    "random.seed(RANDOM_STATE)\n",
    "np.random.seed(RANDOM_STATE)"
   ]
  },
  {
   "cell_type": "markdown",
   "metadata": {},
   "source": [
    "# Read Data\n",
    "    \n",
    "The data are given in a csv table. The first column is the label, the other coloumns are the pixels of the flattened image."
   ]
  },
  {
   "cell_type": "code",
   "execution_count": 2,
   "metadata": {},
   "outputs": [
    {
     "data": {
      "text/html": [
       "<div>\n",
       "<style scoped>\n",
       "    .dataframe tbody tr th:only-of-type {\n",
       "        vertical-align: middle;\n",
       "    }\n",
       "\n",
       "    .dataframe tbody tr th {\n",
       "        vertical-align: top;\n",
       "    }\n",
       "\n",
       "    .dataframe thead th {\n",
       "        text-align: right;\n",
       "    }\n",
       "</style>\n",
       "<table border=\"1\" class=\"dataframe\">\n",
       "  <thead>\n",
       "    <tr style=\"text-align: right;\">\n",
       "      <th></th>\n",
       "      <th>label</th>\n",
       "      <th>pixel0</th>\n",
       "      <th>pixel1</th>\n",
       "      <th>pixel2</th>\n",
       "      <th>pixel3</th>\n",
       "      <th>pixel4</th>\n",
       "      <th>pixel5</th>\n",
       "      <th>pixel6</th>\n",
       "      <th>pixel7</th>\n",
       "      <th>pixel8</th>\n",
       "      <th>...</th>\n",
       "      <th>pixel774</th>\n",
       "      <th>pixel775</th>\n",
       "      <th>pixel776</th>\n",
       "      <th>pixel777</th>\n",
       "      <th>pixel778</th>\n",
       "      <th>pixel779</th>\n",
       "      <th>pixel780</th>\n",
       "      <th>pixel781</th>\n",
       "      <th>pixel782</th>\n",
       "      <th>pixel783</th>\n",
       "    </tr>\n",
       "  </thead>\n",
       "  <tbody>\n",
       "    <tr>\n",
       "      <th>0</th>\n",
       "      <td>1</td>\n",
       "      <td>0</td>\n",
       "      <td>0</td>\n",
       "      <td>0</td>\n",
       "      <td>0</td>\n",
       "      <td>0</td>\n",
       "      <td>0</td>\n",
       "      <td>0</td>\n",
       "      <td>0</td>\n",
       "      <td>0</td>\n",
       "      <td>...</td>\n",
       "      <td>0</td>\n",
       "      <td>0</td>\n",
       "      <td>0</td>\n",
       "      <td>0</td>\n",
       "      <td>0</td>\n",
       "      <td>0</td>\n",
       "      <td>0</td>\n",
       "      <td>0</td>\n",
       "      <td>0</td>\n",
       "      <td>0</td>\n",
       "    </tr>\n",
       "    <tr>\n",
       "      <th>1</th>\n",
       "      <td>0</td>\n",
       "      <td>0</td>\n",
       "      <td>0</td>\n",
       "      <td>0</td>\n",
       "      <td>0</td>\n",
       "      <td>0</td>\n",
       "      <td>0</td>\n",
       "      <td>0</td>\n",
       "      <td>0</td>\n",
       "      <td>0</td>\n",
       "      <td>...</td>\n",
       "      <td>0</td>\n",
       "      <td>0</td>\n",
       "      <td>0</td>\n",
       "      <td>0</td>\n",
       "      <td>0</td>\n",
       "      <td>0</td>\n",
       "      <td>0</td>\n",
       "      <td>0</td>\n",
       "      <td>0</td>\n",
       "      <td>0</td>\n",
       "    </tr>\n",
       "    <tr>\n",
       "      <th>2</th>\n",
       "      <td>1</td>\n",
       "      <td>0</td>\n",
       "      <td>0</td>\n",
       "      <td>0</td>\n",
       "      <td>0</td>\n",
       "      <td>0</td>\n",
       "      <td>0</td>\n",
       "      <td>0</td>\n",
       "      <td>0</td>\n",
       "      <td>0</td>\n",
       "      <td>...</td>\n",
       "      <td>0</td>\n",
       "      <td>0</td>\n",
       "      <td>0</td>\n",
       "      <td>0</td>\n",
       "      <td>0</td>\n",
       "      <td>0</td>\n",
       "      <td>0</td>\n",
       "      <td>0</td>\n",
       "      <td>0</td>\n",
       "      <td>0</td>\n",
       "    </tr>\n",
       "    <tr>\n",
       "      <th>3</th>\n",
       "      <td>4</td>\n",
       "      <td>0</td>\n",
       "      <td>0</td>\n",
       "      <td>0</td>\n",
       "      <td>0</td>\n",
       "      <td>0</td>\n",
       "      <td>0</td>\n",
       "      <td>0</td>\n",
       "      <td>0</td>\n",
       "      <td>0</td>\n",
       "      <td>...</td>\n",
       "      <td>0</td>\n",
       "      <td>0</td>\n",
       "      <td>0</td>\n",
       "      <td>0</td>\n",
       "      <td>0</td>\n",
       "      <td>0</td>\n",
       "      <td>0</td>\n",
       "      <td>0</td>\n",
       "      <td>0</td>\n",
       "      <td>0</td>\n",
       "    </tr>\n",
       "    <tr>\n",
       "      <th>4</th>\n",
       "      <td>0</td>\n",
       "      <td>0</td>\n",
       "      <td>0</td>\n",
       "      <td>0</td>\n",
       "      <td>0</td>\n",
       "      <td>0</td>\n",
       "      <td>0</td>\n",
       "      <td>0</td>\n",
       "      <td>0</td>\n",
       "      <td>0</td>\n",
       "      <td>...</td>\n",
       "      <td>0</td>\n",
       "      <td>0</td>\n",
       "      <td>0</td>\n",
       "      <td>0</td>\n",
       "      <td>0</td>\n",
       "      <td>0</td>\n",
       "      <td>0</td>\n",
       "      <td>0</td>\n",
       "      <td>0</td>\n",
       "      <td>0</td>\n",
       "    </tr>\n",
       "  </tbody>\n",
       "</table>\n",
       "<p>5 rows × 785 columns</p>\n",
       "</div>"
      ],
      "text/plain": [
       "   label  pixel0  pixel1  pixel2  pixel3  pixel4  pixel5  pixel6  pixel7  \\\n",
       "0      1       0       0       0       0       0       0       0       0   \n",
       "1      0       0       0       0       0       0       0       0       0   \n",
       "2      1       0       0       0       0       0       0       0       0   \n",
       "3      4       0       0       0       0       0       0       0       0   \n",
       "4      0       0       0       0       0       0       0       0       0   \n",
       "\n",
       "   pixel8  ...  pixel774  pixel775  pixel776  pixel777  pixel778  pixel779  \\\n",
       "0       0  ...         0         0         0         0         0         0   \n",
       "1       0  ...         0         0         0         0         0         0   \n",
       "2       0  ...         0         0         0         0         0         0   \n",
       "3       0  ...         0         0         0         0         0         0   \n",
       "4       0  ...         0         0         0         0         0         0   \n",
       "\n",
       "   pixel780  pixel781  pixel782  pixel783  \n",
       "0         0         0         0         0  \n",
       "1         0         0         0         0  \n",
       "2         0         0         0         0  \n",
       "3         0         0         0         0  \n",
       "4         0         0         0         0  \n",
       "\n",
       "[5 rows x 785 columns]"
      ]
     },
     "execution_count": 2,
     "metadata": {},
     "output_type": "execute_result"
    }
   ],
   "source": [
    "path = \"/home/frauke/GAN/data/MNIST\"\n",
    "data = pd.read_csv(os.path.join(path, \"train.csv\"))\n",
    "data.head()"
   ]
  },
  {
   "cell_type": "markdown",
   "metadata": {},
   "source": [
    "# Prepare the Data\n",
    "\n",
    "**Note**:\n",
    " \n",
    "In general 3 datasets are needed. In addition to the here generated training and validation set an independent test set is used for final evaluation of the model."
   ]
  },
  {
   "cell_type": "code",
   "execution_count": 3,
   "metadata": {},
   "outputs": [
    {
     "name": "stdout",
     "output_type": "stream",
     "text": [
      "Data shape after splitting:\n",
      "Train Dataset: (33600, 785)\n",
      "Validation Dataset: (8400, 785)\n"
     ]
    }
   ],
   "source": [
    "# generate train and validation set\n",
    "train_data, valid_data = train_test_split(data, test_size=0.2, shuffle=True, random_state=RANDOM_STATE)\n",
    "print(f'Data shape after splitting:')\n",
    "print(f'Train Dataset: {train_data.shape}')\n",
    "print(f'Validation Dataset: {valid_data.shape}')"
   ]
  },
  {
   "cell_type": "markdown",
   "metadata": {},
   "source": [
    "# Example Plots"
   ]
  },
  {
   "cell_type": "code",
   "execution_count": 4,
   "metadata": {},
   "outputs": [
    {
     "data": {
      "image/png": "[encoded data removed]",
      "text/plain": [
       "<Figure size 1440x720 with 40 Axes>"
      ]
     },
     "metadata": {
      "needs_background": "light"
     },
     "output_type": "display_data"
    }
   ],
   "source": [
    "X_train = train_data.iloc[:,1:].values\n",
    "y_train = train_data.iloc[:,0].values\n",
    "\n",
    "fig, axes = plt.subplots(4,10, figsize=(20,10))\n",
    "    \n",
    "for i, ax in enumerate(axes.flatten()):\n",
    "    ax.imshow(X_train[i].reshape(28, 28), cmap=\"gray\")\n",
    "    ax.axis('off')\n",
    "    ax.set_title(f'Label: {int(y_train[i])}')"
   ]
  },
  {
   "cell_type": "markdown",
   "metadata": {},
   "source": [
    "# Define the Dataset\n",
    "\n",
    "**Note:**\n",
    "    \n",
    "For MNIST it is possible to directly download the Dataset via ```from torchvision.datasets import MNIST```. In this notebook however a dataset is constructed by hand in order to demonstrate the workflow. \n",
    "    \n",
    "For more detailed information about pytorch datasets see https://github.com/utkuozbulak/pytorch-custom-dataset-examples"
   ]
  },
  {
   "cell_type": "code",
   "execution_count": 5,
   "metadata": {},
   "outputs": [],
   "source": [
    "class MNISTDataset(Dataset):\n",
    "    def __init__(self, dataframe, transform=None):\n",
    "        '''\n",
    "        data_frame: data as csv data frame\n",
    "        transform: optional transform to be applied to a sample\n",
    "        '''\n",
    "        \n",
    "        self.X = np.array(dataframe.iloc[:,1:]).astype(float)/255 # normalize the data\n",
    "        self.y = np.array(dataframe.iloc[:,0]).astype(int)\n",
    "        # reshape X (#samples, #channels, width, height)\n",
    "        self.X = self.X.reshape(self.X.shape[0], 28, 28, 1)\n",
    "        self.transform = transform\n",
    "        print(f'Data shape: X: {self.X.shape}, y: {self.y.shape}')\n",
    "    \n",
    "    def __len__(self):\n",
    "        return len(self.X)\n",
    "    \n",
    "    def __getitem__(self, idx):\n",
    "        x = self.X[idx]\n",
    "        y = self.y[idx]\n",
    "        \n",
    "        if self.transform:\n",
    "            x = self.transform(x)\n",
    "        return x, y"
   ]
  },
  {
   "cell_type": "markdown",
   "metadata": {},
   "source": [
    "# Define the Data Module\n",
    "\n",
    "In the Lightning Data Module the same steps as in plane PyTorch code, but organized in a more structured way:\n",
    "\n",
    "* prepare_data\n",
    "\n",
    "This function handles downloads and any data processing. This function makes sure that when you use multiple GPUs you don’t download multiple datasets or apply double manipulations to the data.\n",
    "This is because each GPU will execute the same PyTorch thereby causing duplication. ALL of the code in Lightning makes sure the critical parts are called from ONLY one GPU.\n",
    "\n",
    "In this exampe this function is not used and could be ommited. If you use the MNIST data from ```from torchvision.datasets import MNIST``` you might use it in the following way:\n",
    "\n",
    "```\n",
    "def prepare_data(self)\n",
    "    MNIST(os.getcwd(), train=True, download=True, \n",
    "    MNIST(os.getcwd(), train=False, download=True)\n",
    "```\n",
    "\n",
    "* setup\n",
    "\n",
    "For operations you want to perform on every GPU (e.g. count number of classes, perform train/val/test splits, \n",
    "apply transforms, ...)\n",
    "\n",
    "\n",
    "* train_dataloader / val_dataloader\n",
    "\n",
    "Each of these is responsible for returning the appropriate data split. Lightning structures it this way so that it is VERY clear HOW the data are being manipulated. \n",
    "\n",
    "This code is organized under what we call a DataModule. Although this is 100% optional and lightning can use DataLoaders directly, a DataModule makes your data reusable and easy to share.\n",
    "\n",
    "(source: https://towardsdatascience.com/from-pytorch-to-pytorch-lightning-a-gentle-introduction-b371b7caaf09)\n",
    "\n",
    "Further reading:\n",
    "\n",
    "https://pytorch-lightning.readthedocs.io/en/stable/extensions/datamodules.html"
   ]
  },
  {
   "cell_type": "code",
   "execution_count": 6,
   "metadata": {},
   "outputs": [],
   "source": [
    "class MNISTDataModule(pl.LightningDataModule):\n",
    "    def __init__(self, batch_size=64):\n",
    "        super().__init__()\n",
    "        self.batch_size = batch_size\n",
    "        # transforms\n",
    "        self.transform = transforms.Compose([transforms.ToTensor()\n",
    "                                             , transforms.Normalize((0.13101,), (0.30856,))])\n",
    "\n",
    "    def prepare_data(self):\n",
    "        pass\n",
    "    \n",
    "    def setup(self, stage):\n",
    "        if stage == 'fit' or stage is None:\n",
    "        \n",
    "            self.data_frame_train = train_data\n",
    "            self.data_frame_valid = valid_data\n",
    "            \n",
    "    def train_dataloader(self):\n",
    "        # create dataset\n",
    "        train_dataset = MNISTDataset(self.data_frame_train, transform=self.transform)\n",
    "        # wrap dataset into dataloader\n",
    "        train_dataloader = DataLoader(train_dataset, batch_size=self.batch_size, shuffle=True, drop_last=True)\n",
    "\n",
    "        return train_dataloader\n",
    "        \n",
    "    def val_dataloader(self):\n",
    "        # create dataset\n",
    "        val_dataset = MNISTDataset(self.data_frame_valid, transform=self.transform)\n",
    "        # wrap dataset into dataloader\n",
    "        val_dataloader = DataLoader(val_dataset, batch_size=self.batch_size)\n",
    "        print(f'val dataloader X: {next(iter(val_dataloader))[0].shape}')\n",
    "        print(f'val dataloader y: {next(iter(val_dataloader))[1].shape}')\n",
    "\n",
    "        return val_dataloader"
   ]
  },
  {
   "cell_type": "markdown",
   "metadata": {},
   "source": [
    "# Define the Model\n",
    "    \n",
    "This is a dense neural net using linear layers (https://pytorch.org/docs/stable/generated/torch.nn.Linear.html). \n",
    "\n",
    "The model is defined the same way as in plane PyTorch, however optimizer, loss, training and validation loop are included.\n",
    "\n",
    "<img src=\"mnist_neural_net_example.png\" alt=\"neural net illustration\" width=\"500\"/>\n"
   ]
  },
  {
   "cell_type": "code",
   "execution_count": 7,
   "metadata": {},
   "outputs": [],
   "source": [
    "class MNISTClassifierLightning(pl.LightningModule):\n",
    "    def __init__(self, learning_rate=1e-3):\n",
    "        super(MNISTClassifierLightning, self).__init__()\n",
    "        \n",
    "        # mnist images are (1, 28, 28) (channels, width, height)\n",
    "        self.layer1 = nn.Linear(28*28, 128) # in_features, out_features\n",
    "        self.layer2 = nn.Linear(128, 256)\n",
    "        self.layer3 = nn.Linear(256, 10)\n",
    "        \n",
    "        self.learning_rate = learning_rate\n",
    "        self.accuracy = pl.metrics.Accuracy()\n",
    "        \n",
    "    def forward(self, x):\n",
    "        \n",
    "        batch_size, channels, width, height = x.size()\n",
    "        \n",
    "        x = x.view(batch_size, -1)\n",
    "        x = self.layer1(x)\n",
    "        x = torch.relu(x)\n",
    "        x = self.layer2(x)\n",
    "        x = torch.relu(x)\n",
    "        x = self.layer3(x)\n",
    "        x = torch.log_softmax(x, dim=1)\n",
    "        \n",
    "        return x\n",
    "    \n",
    "    def configure_optimizers(self):\n",
    "        optimizer = torch.optim.Adam(self.parameters(), lr=self.learning_rate)\n",
    "        return optimizer\n",
    "    \n",
    "    def cross_entropy_loss(self, y_hat, y):\n",
    "        criterium = nn.NLLLoss()\n",
    "        loss = criterium(y_hat, y) \n",
    "        return loss\n",
    "    \n",
    "    def training_step(self, train_batch, batch_idx):\n",
    "        x, y = train_batch\n",
    "        y_hat = self.forward(x.float())\n",
    "        loss = self.cross_entropy_loss(y_hat, y.long())\n",
    "        acc = self.accuracy(y_hat, y)\n",
    "        self.log('train_loss', loss, on_step=False, on_epoch=True)\n",
    "        self.log('train_accuracy', acc, on_step=False, on_epoch=True)\n",
    "        return loss\n",
    "        \n",
    "    def validation_step(self, val_batch, batch_idx):\n",
    "        x, y = val_batch\n",
    "        y_hat = self.forward(x.float())\n",
    "        loss = self.cross_entropy_loss(y_hat, y.long())\n",
    "        acc = self.accuracy(y_hat, y)\n",
    "        self.log('val_loss', loss, on_epoch=True)\n",
    "        self.log('val_accuracy', acc, on_epoch=True)\n",
    "        \n",
    "    def predict_step(self, val_batch, batch_idx):\n",
    "        x, y = val_batch\n",
    "        y_pred = self.forward(x.float())\n",
    "        return y_pred"
   ]
  },
  {
   "cell_type": "markdown",
   "metadata": {},
   "source": [
    "# Callbacks\n",
    "\n",
    "Lightning has a callback system to execute callbacks when needed. Callbacks should capture NON-ESSENTIAL logic that is NOT required for your lightning module to run\n",
    "\n",
    "Further reading: https://pytorch-lightning.readthedocs.io/en/latest/extensions/callbacks.html"
   ]
  },
  {
   "cell_type": "code",
   "execution_count": 8,
   "metadata": {},
   "outputs": [],
   "source": [
    "class MNISTCallbacks(Callback):\n",
    "    def __init__(self):\n",
    "        super().__init__()\n",
    "\n",
    "    def on_validation_epoch_end(self, trainer, pl_module):\n",
    "        metrics = trainer.callback_metrics\n",
    "        epoch = trainer.current_epoch\n",
    "        print()\n",
    "        print(f'\\nValidation epoch {epoch} end:')\n",
    "        for key, item in metrics.items():\n",
    "            print(f'{key}: {item:.4f}')"
   ]
  },
  {
   "cell_type": "markdown",
   "metadata": {},
   "source": [
    "# Train the Model\n",
    "\n",
    "The Lightning Trainer handles the training loop details for you, e.g:\n",
    "\n",
    "* Automatically enabling/disabling grads\n",
    "\n",
    "* Running the training, validation and test dataloaders\n",
    "\n",
    "* Calling the Callbacks at the appropriate times\n",
    "\n",
    "* Putting batches and computations on the correct devices\n",
    "\n",
    "Here’s the pseudocode for what the trainer does under the hood (showing the train loop only)\n",
    "\n",
    "```\n",
    "# put model in train mode\n",
    "model.train()\n",
    "torch.set_grad_enabled(True)\n",
    "\n",
    "losses = []\n",
    "for batch in train_dataloader:\n",
    "    # calls hooks like this one\n",
    "    on_train_batch_start()\n",
    "\n",
    "    # train step\n",
    "    loss = training_step(batch)\n",
    "\n",
    "    # clear gradients\n",
    "    optimizer.zero_grad()\n",
    "\n",
    "    # backward\n",
    "    loss.backward()\n",
    "\n",
    "    # update parameters\n",
    "    optimizer.step()\n",
    "\n",
    "    losses.append(loss)\n",
    "```\n",
    "\n",
    "Source and further reading: https://pytorch-lightning.readthedocs.io/en/stable/common/trainer.html"
   ]
  },
  {
   "cell_type": "code",
   "execution_count": 9,
   "metadata": {},
   "outputs": [
    {
     "name": "stderr",
     "output_type": "stream",
     "text": [
      "/home/frauke/anaconda3/lib/python3.8/site-packages/torch/cuda/__init__.py:52: UserWarning: CUDA initialization: The NVIDIA driver on your system is too old (found version 9010). Please update your GPU driver by downloading and installing a new version from the URL: http://www.nvidia.com/Download/index.aspx Alternatively, go to: https://pytorch.org to install a PyTorch version that has been compiled with your version of the CUDA driver. (Triggered internally at  /pytorch/c10/cuda/CUDAFunctions.cpp:115.)\n",
      "  return torch._C._cuda_getDeviceCount() > 0\n",
      "/home/frauke/anaconda3/lib/python3.8/site-packages/deprecate/deprecation.py:115: LightningDeprecationWarning: The `Accuracy` was deprecated since v1.3.0 in favor of `torchmetrics.classification.accuracy.Accuracy`. It will be removed in v1.5.0.\n",
      "  stream(template_mgs % msg_args)\n",
      "GPU available: False, used: False\n",
      "TPU available: False, using: 0 TPU cores\n",
      "IPU available: False, using: 0 IPUs\n",
      "\n",
      "  | Name     | Type     | Params\n",
      "--------------------------------------\n",
      "0 | layer1   | Linear   | 100 K \n",
      "1 | layer2   | Linear   | 33.0 K\n",
      "2 | layer3   | Linear   | 2.6 K \n",
      "3 | accuracy | Accuracy | 0     \n",
      "--------------------------------------\n",
      "136 K     Trainable params\n",
      "0         Non-trainable params\n",
      "136 K     Total params\n",
      "0.544     Total estimated model params size (MB)\n"
     ]
    },
    {
     "data": {
      "application/vnd.jupyter.widget-view+json": {
       "model_id": "",
       "version_major": 2,
       "version_minor": 0
      },
      "text/plain": [
       "HBox(children=(FloatProgress(value=1.0, bar_style='info', description='Validation sanity check', layout=Layout…"
      ]
     },
     "metadata": {},
     "output_type": "display_data"
    },
    {
     "name": "stdout",
     "output_type": "stream",
     "text": [
      "Data shape: X: (8400, 28, 28, 1), y: (8400,)\n",
      "val dataloader X: torch.Size([32, 1, 28, 28])\n",
      "val dataloader y: torch.Size([32])\n",
      "\n",
      "\n",
      "Validation epoch 0 end:\n",
      "val_loss: 2.3167\n",
      "val_accuracy: 0.0781\n"
     ]
    },
    {
     "name": "stderr",
     "output_type": "stream",
     "text": [
      "/home/frauke/anaconda3/lib/python3.8/site-packages/pytorch_lightning/trainer/data_loading.py:105: UserWarning: The dataloader, val dataloader 0, does not have many workers which may be a bottleneck. Consider increasing the value of the `num_workers` argument` (try 8 which is the number of cpus on this machine) in the `DataLoader` init to improve performance.\n",
      "  rank_zero_warn(\n"
     ]
    },
    {
     "name": "stdout",
     "output_type": "stream",
     "text": [
      "Data shape: X: (33600, 28, 28, 1), y: (33600,)\n"
     ]
    },
    {
     "name": "stderr",
     "output_type": "stream",
     "text": [
      "/home/frauke/anaconda3/lib/python3.8/site-packages/pytorch_lightning/trainer/data_loading.py:105: UserWarning: The dataloader, train dataloader, does not have many workers which may be a bottleneck. Consider increasing the value of the `num_workers` argument` (try 8 which is the number of cpus on this machine) in the `DataLoader` init to improve performance.\n",
      "  rank_zero_warn(\n"
     ]
    },
    {
     "data": {
      "application/vnd.jupyter.widget-view+json": {
       "model_id": "3dfe6f203f494cb4855c1375370c5491",
       "version_major": 2,
       "version_minor": 0
      },
      "text/plain": [
       "HBox(children=(FloatProgress(value=1.0, bar_style='info', description='Training', layout=Layout(flex='2'), max…"
      ]
     },
     "metadata": {},
     "output_type": "display_data"
    },
    {
     "data": {
      "application/vnd.jupyter.widget-view+json": {
       "model_id": "",
       "version_major": 2,
       "version_minor": 0
      },
      "text/plain": [
       "HBox(children=(FloatProgress(value=1.0, bar_style='info', description='Validating', layout=Layout(flex='2'), m…"
      ]
     },
     "metadata": {},
     "output_type": "display_data"
    },
    {
     "name": "stdout",
     "output_type": "stream",
     "text": [
      "\n",
      "\n",
      "Validation epoch 0 end:\n",
      "val_loss: 1.1043\n",
      "val_accuracy: 0.7765\n"
     ]
    },
    {
     "data": {
      "application/vnd.jupyter.widget-view+json": {
       "model_id": "",
       "version_major": 2,
       "version_minor": 0
      },
      "text/plain": [
       "HBox(children=(FloatProgress(value=1.0, bar_style='info', description='Validating', layout=Layout(flex='2'), m…"
      ]
     },
     "metadata": {},
     "output_type": "display_data"
    },
    {
     "name": "stdout",
     "output_type": "stream",
     "text": [
      "\n",
      "\n",
      "Validation epoch 1 end:\n",
      "val_loss: 0.6141\n",
      "val_accuracy: 0.8592\n",
      "train_loss: 1.7721\n",
      "train_accuracy: 0.5682\n"
     ]
    },
    {
     "data": {
      "application/vnd.jupyter.widget-view+json": {
       "model_id": "",
       "version_major": 2,
       "version_minor": 0
      },
      "text/plain": [
       "HBox(children=(FloatProgress(value=1.0, bar_style='info', description='Validating', layout=Layout(flex='2'), m…"
      ]
     },
     "metadata": {},
     "output_type": "display_data"
    },
    {
     "name": "stdout",
     "output_type": "stream",
     "text": [
      "\n",
      "\n",
      "Validation epoch 2 end:\n",
      "val_loss: 0.4702\n",
      "val_accuracy: 0.8811\n",
      "train_loss: 0.7961\n",
      "train_accuracy: 0.8305\n"
     ]
    },
    {
     "data": {
      "application/vnd.jupyter.widget-view+json": {
       "model_id": "",
       "version_major": 2,
       "version_minor": 0
      },
      "text/plain": [
       "HBox(children=(FloatProgress(value=1.0, bar_style='info', description='Validating', layout=Layout(flex='2'), m…"
      ]
     },
     "metadata": {},
     "output_type": "display_data"
    },
    {
     "name": "stdout",
     "output_type": "stream",
     "text": [
      "\n",
      "\n",
      "Validation epoch 3 end:\n",
      "val_loss: 0.4055\n",
      "val_accuracy: 0.8912\n",
      "train_loss: 0.5253\n",
      "train_accuracy: 0.8722\n"
     ]
    },
    {
     "data": {
      "application/vnd.jupyter.widget-view+json": {
       "model_id": "",
       "version_major": 2,
       "version_minor": 0
      },
      "text/plain": [
       "HBox(children=(FloatProgress(value=1.0, bar_style='info', description='Validating', layout=Layout(flex='2'), m…"
      ]
     },
     "metadata": {},
     "output_type": "display_data"
    },
    {
     "name": "stdout",
     "output_type": "stream",
     "text": [
      "\n",
      "\n",
      "Validation epoch 4 end:\n",
      "val_loss: 0.3703\n",
      "val_accuracy: 0.8975\n",
      "train_loss: 0.4262\n",
      "train_accuracy: 0.8889\n",
      "\n",
      "Data shape: X: (8400, 28, 28, 1), y: (8400,)\n",
      "val dataloader X: torch.Size([32, 1, 28, 28])\n",
      "val dataloader y: torch.Size([32])\n"
     ]
    },
    {
     "name": "stderr",
     "output_type": "stream",
     "text": [
      "/home/frauke/anaconda3/lib/python3.8/site-packages/pytorch_lightning/trainer/data_loading.py:105: UserWarning: The dataloader, predict dataloader 0, does not have many workers which may be a bottleneck. Consider increasing the value of the `num_workers` argument` (try 8 which is the number of cpus on this machine) in the `DataLoader` init to improve performance.\n",
      "  rank_zero_warn(\n"
     ]
    },
    {
     "data": {
      "application/vnd.jupyter.widget-view+json": {
       "model_id": "b7558501c7c645a0bcef7cbc430e19a3",
       "version_major": 2,
       "version_minor": 0
      },
      "text/plain": [
       "HBox(children=(FloatProgress(value=1.0, bar_style='info', description='Predicting', layout=Layout(flex='2'), m…"
      ]
     },
     "metadata": {},
     "output_type": "display_data"
    },
    {
     "name": "stdout",
     "output_type": "stream",
     "text": [
      "\n"
     ]
    }
   ],
   "source": [
    "# hyperparamters \n",
    "max_epochs = 5\n",
    "# set device to GPU, if available\n",
    "device = torch.device(\"cuda\" if torch.cuda.is_available() else \"cpu\")\n",
    "\n",
    "model = MNISTClassifierLightning(learning_rate=1e-5)#.to(device)\n",
    "data_module = MNISTDataModule(batch_size=32)\n",
    "trainer = pl.Trainer(max_epochs=max_epochs, callbacks=[MNISTCallbacks()])\n",
    "trainer.fit(model, data_module)\n",
    "y_pred = trainer.predict(model, data_module.val_dataloader())\n",
    "y_pred = torch.cat(y_pred)\n",
    "y_pred = y_pred.argmax(dim=1, keepdim=True)\n",
    "y_pred = y_pred.detach().cpu().numpy()"
   ]
  },
  {
   "cell_type": "markdown",
   "metadata": {},
   "source": [
    "# Plot Predictions\n",
    "    \n",
    "Visualize the model's results with some example plots from the validation set."
   ]
  },
  {
   "cell_type": "code",
   "execution_count": 10,
   "metadata": {},
   "outputs": [
    {
     "data": {
      "image/png": "[encoded data removed]",
      "text/plain": [
       "<Figure size 1440x720 with 40 Axes>"
      ]
     },
     "metadata": {
      "needs_background": "light"
     },
     "output_type": "display_data"
    }
   ],
   "source": [
    "X_valid = valid_data.iloc[:,1:].values\n",
    "y_valid = valid_data.iloc[:,0].values\n",
    "\n",
    "fig, axes = plt.subplots(4,10, figsize=(20,10))\n",
    "    \n",
    "for i, ax in enumerate(axes.flatten()):\n",
    "    ax.imshow(X_valid[i].reshape(28, 28), cmap=\"gray\")\n",
    "    ax.axis('off')\n",
    "    ax.set_title(f'Pred: {y_pred[i][0]} - True: {int(y_valid[i])}',\n",
    "                color=(\"green\" if y_pred[i]==y_valid[i] else \"red\"))"
   ]
  },
  {
   "cell_type": "code",
   "execution_count": null,
   "metadata": {},
   "outputs": [],
   "source": []
  }
 ],
 "metadata": {
  "kernelspec": {
   "display_name": "Python 3",
   "language": "python",
   "name": "python3"
  },
  "language_info": {
   "codemirror_mode": {
    "name": "ipython",
    "version": 3
   },
   "file_extension": ".py",
   "mimetype": "text/x-python",
   "name": "python",
   "nbconvert_exporter": "python",
   "pygments_lexer": "ipython3",
   "version": "3.8.3"
  }
 },
 "nbformat": 4,
 "nbformat_minor": 5
}
