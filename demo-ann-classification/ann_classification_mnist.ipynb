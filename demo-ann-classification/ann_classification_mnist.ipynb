{
 "cells": [
  {
   "cell_type": "markdown",
   "id": "bb04a0ef",
   "metadata": {},
   "source": [
    "# Objective\n",
    "Use an Artificial Neural Net to fit a model to classify hand-written digits (MNIST).\n",
    "\n",
    "Sources:\n",
    "    \n",
    "* https://towardsdatascience.com/from-pytorch-to-pytorch-lightning-a-gentle-introduction-b371b7caaf09\n",
    "\n",
    "* https://github.com/pytorch/examples/blob/master/mnist/main.py\n",
    "\n",
    "Data:\n",
    "\n",
    "https://www.kaggle.com/c/digit-recognizer/data"
   ]
  },
  {
   "cell_type": "markdown",
   "id": "e74e291a",
   "metadata": {},
   "source": [
    "# Setup\n",
    "Import the relevant packages"
   ]
  },
  {
   "cell_type": "code",
   "execution_count": 1,
   "id": "02784527",
   "metadata": {},
   "outputs": [],
   "source": [
    "import os\n",
    "import pandas as pd\n",
    "import numpy as np\n",
    "import random\n",
    "\n",
    "# packages for modelling and evaluation\n",
    "import torch\n",
    "from torch import nn\n",
    "import torch.functional as F\n",
    "from torch.utils.data import DataLoader, Dataset\n",
    "from torchvision import datasets, transforms\n",
    "from sklearn.model_selection import train_test_split\n",
    "    \n",
    "# packages for plotting\n",
    "import matplotlib.pyplot as plt\n",
    "\n",
    "# set a fixed random state to produce the same results\n",
    "RANDOM_STATE = 42\n",
    "random.seed(RANDOM_STATE)\n",
    "np.random.seed(RANDOM_STATE)"
   ]
  },
  {
   "cell_type": "markdown",
   "id": "e89a3aed",
   "metadata": {},
   "source": [
    "# Read Data\n",
    "    \n",
    "The data are given in a csv table. The first column is the label, the other coloumns are the pixels of the flattened image."
   ]
  },
  {
   "cell_type": "code",
   "execution_count": 2,
   "id": "02ace0a3",
   "metadata": {},
   "outputs": [
    {
     "data": {
      "text/html": [
       "<div>\n",
       "<style scoped>\n",
       "    .dataframe tbody tr th:only-of-type {\n",
       "        vertical-align: middle;\n",
       "    }\n",
       "\n",
       "    .dataframe tbody tr th {\n",
       "        vertical-align: top;\n",
       "    }\n",
       "\n",
       "    .dataframe thead th {\n",
       "        text-align: right;\n",
       "    }\n",
       "</style>\n",
       "<table border=\"1\" class=\"dataframe\">\n",
       "  <thead>\n",
       "    <tr style=\"text-align: right;\">\n",
       "      <th></th>\n",
       "      <th>label</th>\n",
       "      <th>pixel0</th>\n",
       "      <th>pixel1</th>\n",
       "      <th>pixel2</th>\n",
       "      <th>pixel3</th>\n",
       "      <th>pixel4</th>\n",
       "      <th>pixel5</th>\n",
       "      <th>pixel6</th>\n",
       "      <th>pixel7</th>\n",
       "      <th>pixel8</th>\n",
       "      <th>...</th>\n",
       "      <th>pixel774</th>\n",
       "      <th>pixel775</th>\n",
       "      <th>pixel776</th>\n",
       "      <th>pixel777</th>\n",
       "      <th>pixel778</th>\n",
       "      <th>pixel779</th>\n",
       "      <th>pixel780</th>\n",
       "      <th>pixel781</th>\n",
       "      <th>pixel782</th>\n",
       "      <th>pixel783</th>\n",
       "    </tr>\n",
       "  </thead>\n",
       "  <tbody>\n",
       "    <tr>\n",
       "      <th>0</th>\n",
       "      <td>1</td>\n",
       "      <td>0</td>\n",
       "      <td>0</td>\n",
       "      <td>0</td>\n",
       "      <td>0</td>\n",
       "      <td>0</td>\n",
       "      <td>0</td>\n",
       "      <td>0</td>\n",
       "      <td>0</td>\n",
       "      <td>0</td>\n",
       "      <td>...</td>\n",
       "      <td>0</td>\n",
       "      <td>0</td>\n",
       "      <td>0</td>\n",
       "      <td>0</td>\n",
       "      <td>0</td>\n",
       "      <td>0</td>\n",
       "      <td>0</td>\n",
       "      <td>0</td>\n",
       "      <td>0</td>\n",
       "      <td>0</td>\n",
       "    </tr>\n",
       "    <tr>\n",
       "      <th>1</th>\n",
       "      <td>0</td>\n",
       "      <td>0</td>\n",
       "      <td>0</td>\n",
       "      <td>0</td>\n",
       "      <td>0</td>\n",
       "      <td>0</td>\n",
       "      <td>0</td>\n",
       "      <td>0</td>\n",
       "      <td>0</td>\n",
       "      <td>0</td>\n",
       "      <td>...</td>\n",
       "      <td>0</td>\n",
       "      <td>0</td>\n",
       "      <td>0</td>\n",
       "      <td>0</td>\n",
       "      <td>0</td>\n",
       "      <td>0</td>\n",
       "      <td>0</td>\n",
       "      <td>0</td>\n",
       "      <td>0</td>\n",
       "      <td>0</td>\n",
       "    </tr>\n",
       "    <tr>\n",
       "      <th>2</th>\n",
       "      <td>1</td>\n",
       "      <td>0</td>\n",
       "      <td>0</td>\n",
       "      <td>0</td>\n",
       "      <td>0</td>\n",
       "      <td>0</td>\n",
       "      <td>0</td>\n",
       "      <td>0</td>\n",
       "      <td>0</td>\n",
       "      <td>0</td>\n",
       "      <td>...</td>\n",
       "      <td>0</td>\n",
       "      <td>0</td>\n",
       "      <td>0</td>\n",
       "      <td>0</td>\n",
       "      <td>0</td>\n",
       "      <td>0</td>\n",
       "      <td>0</td>\n",
       "      <td>0</td>\n",
       "      <td>0</td>\n",
       "      <td>0</td>\n",
       "    </tr>\n",
       "    <tr>\n",
       "      <th>3</th>\n",
       "      <td>4</td>\n",
       "      <td>0</td>\n",
       "      <td>0</td>\n",
       "      <td>0</td>\n",
       "      <td>0</td>\n",
       "      <td>0</td>\n",
       "      <td>0</td>\n",
       "      <td>0</td>\n",
       "      <td>0</td>\n",
       "      <td>0</td>\n",
       "      <td>...</td>\n",
       "      <td>0</td>\n",
       "      <td>0</td>\n",
       "      <td>0</td>\n",
       "      <td>0</td>\n",
       "      <td>0</td>\n",
       "      <td>0</td>\n",
       "      <td>0</td>\n",
       "      <td>0</td>\n",
       "      <td>0</td>\n",
       "      <td>0</td>\n",
       "    </tr>\n",
       "    <tr>\n",
       "      <th>4</th>\n",
       "      <td>0</td>\n",
       "      <td>0</td>\n",
       "      <td>0</td>\n",
       "      <td>0</td>\n",
       "      <td>0</td>\n",
       "      <td>0</td>\n",
       "      <td>0</td>\n",
       "      <td>0</td>\n",
       "      <td>0</td>\n",
       "      <td>0</td>\n",
       "      <td>...</td>\n",
       "      <td>0</td>\n",
       "      <td>0</td>\n",
       "      <td>0</td>\n",
       "      <td>0</td>\n",
       "      <td>0</td>\n",
       "      <td>0</td>\n",
       "      <td>0</td>\n",
       "      <td>0</td>\n",
       "      <td>0</td>\n",
       "      <td>0</td>\n",
       "    </tr>\n",
       "  </tbody>\n",
       "</table>\n",
       "<p>5 rows × 785 columns</p>\n",
       "</div>"
      ],
      "text/plain": [
       "   label  pixel0  pixel1  pixel2  pixel3  pixel4  pixel5  pixel6  pixel7  \\\n",
       "0      1       0       0       0       0       0       0       0       0   \n",
       "1      0       0       0       0       0       0       0       0       0   \n",
       "2      1       0       0       0       0       0       0       0       0   \n",
       "3      4       0       0       0       0       0       0       0       0   \n",
       "4      0       0       0       0       0       0       0       0       0   \n",
       "\n",
       "   pixel8  ...  pixel774  pixel775  pixel776  pixel777  pixel778  pixel779  \\\n",
       "0       0  ...         0         0         0         0         0         0   \n",
       "1       0  ...         0         0         0         0         0         0   \n",
       "2       0  ...         0         0         0         0         0         0   \n",
       "3       0  ...         0         0         0         0         0         0   \n",
       "4       0  ...         0         0         0         0         0         0   \n",
       "\n",
       "   pixel780  pixel781  pixel782  pixel783  \n",
       "0         0         0         0         0  \n",
       "1         0         0         0         0  \n",
       "2         0         0         0         0  \n",
       "3         0         0         0         0  \n",
       "4         0         0         0         0  \n",
       "\n",
       "[5 rows x 785 columns]"
      ]
     },
     "execution_count": 2,
     "metadata": {},
     "output_type": "execute_result"
    }
   ],
   "source": [
    "path = \"/home/frauke/GAN/data/MNIST\"\n",
    "data = pd.read_csv(os.path.join(path, \"train.csv\"))\n",
    "data.head()"
   ]
  },
  {
   "cell_type": "markdown",
   "id": "ee0e9cd4",
   "metadata": {},
   "source": [
    "# Prepare the Data\n",
    "\n",
    "**Note**:\n",
    " \n",
    "In general 3 datasets are needed. In addition to the here generated training and validation set an independent test set is used for final evaluation of the model."
   ]
  },
  {
   "cell_type": "code",
   "execution_count": 3,
   "id": "36ea509f",
   "metadata": {},
   "outputs": [
    {
     "name": "stdout",
     "output_type": "stream",
     "text": [
      "Data shape after splitting:\n",
      "Train Dataset: (33600, 785)\n",
      "Validation Dataset: (8400, 785)\n"
     ]
    }
   ],
   "source": [
    "# generate train and validation set\n",
    "train_data, valid_data = train_test_split(data, test_size=0.2, shuffle=True, random_state=RANDOM_STATE)\n",
    "print(f'Data shape after splitting:')\n",
    "print(f'Train Dataset: {train_data.shape}')\n",
    "print(f'Validation Dataset: {valid_data.shape}')"
   ]
  },
  {
   "cell_type": "markdown",
   "id": "42cc33bc",
   "metadata": {},
   "source": [
    "# Example Plots"
   ]
  },
  {
   "cell_type": "code",
   "execution_count": 4,
   "id": "2c61837c",
   "metadata": {},
   "outputs": [
    {
     "data": {
      "image/png": "[encoded data removed]",
      "text/plain": [
       "<Figure size 1440x720 with 40 Axes>"
      ]
     },
     "metadata": {
      "needs_background": "light"
     },
     "output_type": "display_data"
    }
   ],
   "source": [
    "X_train = train_data.iloc[:,1:].values\n",
    "y_train = train_data.iloc[:,0].values\n",
    "\n",
    "fig, axes = plt.subplots(4,10, figsize=(20,10))\n",
    "    \n",
    "for i, ax in enumerate(axes.flatten()):\n",
    "    ax.imshow(X_train[i].reshape(28, 28), cmap=\"gray\")\n",
    "    ax.axis('off')\n",
    "    ax.set_title(f'Label: {int(y_train[i])}')"
   ]
  },
  {
   "cell_type": "markdown",
   "id": "4b82bda7",
   "metadata": {},
   "source": [
    "# Define the Dataset\n",
    "\n",
    "**Note:**\n",
    "    \n",
    "For MNIST it is possible to directly download the Dataset via ```from torchvision.datasets import MNIST```. In this notebook however a dataset is constructed by hand in order to demonstrate the workflow. \n",
    "    \n",
    "For more detailed information about pytorch datasets see https://github.com/utkuozbulak/pytorch-custom-dataset-examples"
   ]
  },
  {
   "cell_type": "code",
   "execution_count": 5,
   "id": "d38d1808",
   "metadata": {},
   "outputs": [],
   "source": [
    "class MNISTDataset(Dataset):\n",
    "    def __init__(self, data_frame, transform=None):\n",
    "        '''\n",
    "        data_frame: data as csv data frame\n",
    "        transform: optional transform to be applied to a sample\n",
    "        '''\n",
    "\n",
    "        self.X = np.array(data_frame.iloc[:,1:]).astype(float)#/255 # normalize pixels\n",
    "        self.y = np.array(data_frame.iloc[:,0]).astype(float)\n",
    "        # reshape X (#samples, #channels, width, height)\n",
    "        self.X = self.X.reshape(self.X.shape[0], 28, 28, 1)\n",
    "        self.transform = transform\n",
    "        print(f'Data shape: X: {self.X.shape}, y: {self.y.shape}')\n",
    "        \n",
    "    def __len__(self):\n",
    "        return len(self.X)\n",
    "    \n",
    "    def __getitem__(self, idx):\n",
    "        x = self.X[idx]\n",
    "        y = self.y[idx]\n",
    "        \n",
    "        if self.transform:\n",
    "            x = self.transform(x)\n",
    "        return x, y"
   ]
  },
  {
   "cell_type": "markdown",
   "id": "7433f36f",
   "metadata": {},
   "source": [
    "# Define the Model\n",
    "    \n",
    "This is a dense neural net using linear layers (https://pytorch.org/docs/stable/generated/torch.nn.Linear.html)\n",
    "\n",
    "<img src=\"mnist_neural_net_example.png\" alt=\"neural net illustration\" width=\"500\"/>"
   ]
  },
  {
   "cell_type": "code",
   "execution_count": 6,
   "id": "fc581505",
   "metadata": {},
   "outputs": [],
   "source": [
    "class MNISTClassifier(nn.Module):\n",
    "    def __init__(self):\n",
    "        super(MNISTClassifier, self).__init__()\n",
    "        \n",
    "        # mnist images are (1, 28, 28) (channels, width, height)\n",
    "        self.layer1 = nn.Linear(28*28, 128) # in_features, out_features\n",
    "        self.layer2 = nn.Linear(128, 256)\n",
    "        self.layer3 = nn.Linear(256, 10)\n",
    "         \n",
    "    def forward(self, x):\n",
    "        batch_size, channels, width, height = x.size()\n",
    "        \n",
    "        # (b, 1, 28, 28) -> (b, 1*28*28)\n",
    "        x = x.view(batch_size, -1)\n",
    "        x = self.layer1(x)\n",
    "        x = torch.relu(x)\n",
    "        x = self.layer2(x)\n",
    "        x = torch.relu(x)\n",
    "        x = self.layer3(x)\n",
    "        x = torch.log_softmax(x, dim=1)\n",
    "        \n",
    "        return x"
   ]
  },
  {
   "cell_type": "markdown",
   "id": "68530953",
   "metadata": {},
   "source": [
    "# Define Training Loop\n",
    "\n",
    "The training loop is used to train the model and to learn the optimal parameters. The important steps within the training are:\n",
    "\n",
    "1. forward pass (y_hat = model(x.float()))\n",
    "2. compute the loss (loss = criterion(y_hat, y.long()))\n",
    "3. perform backward pass / backpropagation (loss.backward())\n",
    "4. update the weights with the gradients (optimizer.step())\n",
    "\n",
    "These steps are done for all batches."
   ]
  },
  {
   "cell_type": "code",
   "execution_count": 7,
   "id": "7de19ab2",
   "metadata": {},
   "outputs": [],
   "source": [
    "def train(model, device, train_dataloader, optimizer, criterion, epoch, print_every):\n",
    "\n",
    "    # create empty list to store the train losses\n",
    "    train_loss = []\n",
    "    # variable to count correct classified images\n",
    "    correct = 0\n",
    "    # create an empty list to store the predictions\n",
    "    predictions = []\n",
    "\n",
    "    # set model to training mode, i.e. the model is used for training\n",
    "    model.train()\n",
    "\n",
    "    # loop over batches\n",
    "    for batch_idx, (x, y) in enumerate(train_dataloader):\n",
    "        \n",
    "        # set data to device\n",
    "        x, y = x.to(device), y.to(device)\n",
    "\n",
    "        # set optimizer to zero\n",
    "        optimizer.zero_grad()\n",
    "\n",
    "        # apply model\n",
    "        y_hat = model(x.float())\n",
    "\n",
    "        # calculate loss\n",
    "        loss = criterion(y_hat, y.long())\n",
    "        train_loss.append(loss.item())\n",
    "\n",
    "        # backpropagation\n",
    "        loss.backward()\n",
    "        \n",
    "        # update the weights\n",
    "        optimizer.step()\n",
    "        \n",
    "        # print the loss every x batches\n",
    "        if batch_idx % print_every == 0:\n",
    "            percent = 100. * batch_idx / len(train_dataloader)\n",
    "            print(f'Train Epoch {epoch} \\\n",
    "            [{batch_idx * len(data)}/{len(train_dataloader.dataset)} \\\n",
    "            ({percent:.0f}%)]\\\\tLoss: {loss.item():.6f}')\n",
    "\n",
    "        # get the index of the max log-probability\n",
    "        y_pred = y_hat.argmax(dim=1, keepdim=True)  \n",
    "        predictions.append(y_pred)\n",
    "        correct += y_pred.eq(y.view_as(y_pred)).sum().item()\n",
    "\n",
    "    # total training loss over all batches\n",
    "    train_loss = torch.mean(torch.tensor(train_loss))\n",
    "    epoch_accuracy = correct/len(train_dataloader.dataset)\n",
    "\n",
    "    return epoch_accuracy, train_loss"
   ]
  },
  {
   "cell_type": "markdown",
   "id": "336e595f",
   "metadata": {},
   "source": [
    "# Define Validation Loop\n",
    "\n",
    "The validation loop applies the model only for evaluation purpose. In this part nothing is learned by the Neural Net, i.e. no backpropagation is performed. That is only step 1 and 2 from above are calculated in the validation loop.\n",
    "\n",
    "\n",
    "* https://pytorch.org/docs/stable/generated/torch.no_grad.html"
   ]
  },
  {
   "cell_type": "code",
   "execution_count": 8,
   "id": "f84c86ce",
   "metadata": {},
   "outputs": [],
   "source": [
    "def valid(model, device, val_dataloader, criterion):\n",
    "    \n",
    "    # create an empty list to store the loss\n",
    "    val_loss = []\n",
    "    # variable to count correct classified images\n",
    "    correct = 0\n",
    "    # create an empty list to store the predictions\n",
    "    predictions = []\n",
    "\n",
    "    # set model to evaluation mode, i.e. \n",
    "    # the model is only used for inference, this as effects on\n",
    "    # dropout-layers, which are ignored in this mode and batchnorm-layers, which use running statistics\n",
    "    model.eval()\n",
    "\n",
    "    # disable gradient calculation \n",
    "    # this is useful for inference, when you are sure that you will not call Tensor.backward(). \n",
    "    # It will reduce memory consumption for computations that would otherwise have requires_grad=True.\n",
    "    with torch.no_grad():\n",
    "        # loop over batches\n",
    "        for x, y in val_dataloader:\n",
    "            \n",
    "            # set data to device\n",
    "            x, y = x.to(device), y.to(device)\n",
    "\n",
    "            # apply model\n",
    "            y_hat = model(x.float()).double()\n",
    "\n",
    "            # append current loss\n",
    "            loss = criterion(y_hat, y.long())\n",
    "            val_loss.append(loss.item())\n",
    "\n",
    "            # get the index of the max log-probability\n",
    "            y_pred = y_hat.argmax(dim=1, keepdim=True)  \n",
    "            predictions.append(y_pred)\n",
    "            correct += y_pred.eq(y.view_as(y_pred)).sum().item()\n",
    "\n",
    "        # total validation loss over all batches\n",
    "        val_loss = torch.mean(torch.tensor(val_loss))\n",
    "        epoch_accuracy = correct/len(val_dataloader.dataset)\n",
    "\n",
    "        print(f'Validation: Average loss: {val_loss.item():.4f}, \\\n",
    "                Accuracy: {epoch_accuracy:.4f} \\\n",
    "               ({100. * correct/len(val_dataloader.dataset):.0f}%)')\n",
    "        \n",
    "    return predictions, epoch_accuracy, val_loss"
   ]
  },
  {
   "cell_type": "markdown",
   "id": "f568de55",
   "metadata": {},
   "source": [
    "# Putting it all together\n",
    "\n",
    "To finally train the model you need to:\n",
    "\n",
    "* Generate Datasets from the data and wrap them into a Dataloader\n",
    "* Define the model\n",
    "* Define the optimizer\n",
    "\n",
    "Then loop over the desired number of epochs for training and validation."
   ]
  },
  {
   "cell_type": "code",
   "execution_count": 9,
   "id": "5603fc0f",
   "metadata": {},
   "outputs": [
    {
     "name": "stdout",
     "output_type": "stream",
     "text": [
      "Data shape: X: (33600, 28, 28, 1), y: (33600,)\n",
      "Data shape: X: (8400, 28, 28, 1), y: (8400,)\n",
      "train dataloader X: torch.Size([64, 1, 28, 28])\n",
      "train dataloader y: torch.Size([64])\n",
      "val dataloader X: torch.Size([64, 1, 28, 28])\n",
      "val dataloader y: torch.Size([64])\n",
      "Train Epoch 0             [0/33600             (0%)]\\tLoss: 13.809766\n",
      "Train Epoch 0             [4200000/33600             (19%)]\\tLoss: 0.551256\n",
      "Train Epoch 0             [8400000/33600             (38%)]\\tLoss: 0.312296\n",
      "Train Epoch 0             [12600000/33600             (57%)]\\tLoss: 0.301414\n",
      "Train Epoch 0             [16800000/33600             (76%)]\\tLoss: 0.219274\n",
      "Train Epoch 0             [21000000/33600             (95%)]\\tLoss: 0.121712\n",
      "Validation: Average loss: 0.2320,                 Accuracy: 0.9332                (93%)\n",
      "Train Epoch 1             [0/33600             (0%)]\\tLoss: 0.081998\n",
      "Train Epoch 1             [4200000/33600             (19%)]\\tLoss: 0.286622\n",
      "Train Epoch 1             [8400000/33600             (38%)]\\tLoss: 0.208567\n",
      "Train Epoch 1             [12600000/33600             (57%)]\\tLoss: 0.176156\n",
      "Train Epoch 1             [16800000/33600             (76%)]\\tLoss: 0.169256\n",
      "Train Epoch 1             [21000000/33600             (95%)]\\tLoss: 0.218579\n",
      "Validation: Average loss: 0.1958,                 Accuracy: 0.9490                (95%)\n",
      "Train Epoch 2             [0/33600             (0%)]\\tLoss: 0.144771\n",
      "Train Epoch 2             [4200000/33600             (19%)]\\tLoss: 0.195146\n",
      "Train Epoch 2             [8400000/33600             (38%)]\\tLoss: 0.036496\n",
      "Train Epoch 2             [12600000/33600             (57%)]\\tLoss: 0.306879\n",
      "Train Epoch 2             [16800000/33600             (76%)]\\tLoss: 0.136453\n",
      "Train Epoch 2             [21000000/33600             (95%)]\\tLoss: 0.067934\n",
      "Validation: Average loss: 0.1867,                 Accuracy: 0.9515                (95%)\n",
      "Train Epoch 3             [0/33600             (0%)]\\tLoss: 0.057334\n",
      "Train Epoch 3             [4200000/33600             (19%)]\\tLoss: 0.094878\n",
      "Train Epoch 3             [8400000/33600             (38%)]\\tLoss: 0.019636\n",
      "Train Epoch 3             [12600000/33600             (57%)]\\tLoss: 0.053125\n",
      "Train Epoch 3             [16800000/33600             (76%)]\\tLoss: 0.500432\n",
      "Train Epoch 3             [21000000/33600             (95%)]\\tLoss: 0.155380\n",
      "Validation: Average loss: 0.1815,                 Accuracy: 0.9518                (95%)\n",
      "Train Epoch 4             [0/33600             (0%)]\\tLoss: 0.119420\n",
      "Train Epoch 4             [4200000/33600             (19%)]\\tLoss: 0.279897\n",
      "Train Epoch 4             [8400000/33600             (38%)]\\tLoss: 0.104075\n",
      "Train Epoch 4             [12600000/33600             (57%)]\\tLoss: 0.431325\n",
      "Train Epoch 4             [16800000/33600             (76%)]\\tLoss: 0.010884\n",
      "Train Epoch 4             [21000000/33600             (95%)]\\tLoss: 0.077761\n",
      "Validation: Average loss: 0.1608,                 Accuracy: 0.9615                (96%)\n"
     ]
    }
   ],
   "source": [
    "# hyperparamters \n",
    "batch_size = 64\n",
    "epochs = 5\n",
    "learning_rate = 1e-3\n",
    "print_every = 100\n",
    "# set device to GPU, if available\n",
    "device = torch.device(\"cuda\" if torch.cuda.is_available() else \"cpu\")\n",
    "\n",
    "# transforms\n",
    "transform = transforms.Compose([transforms.ToTensor() \n",
    "                                #, transforms.Normalize((0.13101,), (0.30856,))\n",
    "                               ])\n",
    "# create datasets\n",
    "train_dataset = MNISTDataset(train_data, transform)\n",
    "valid_dataset = MNISTDataset(valid_data, transform)\n",
    "\n",
    "# wrap into dataloader\n",
    "train_dataloader = DataLoader(train_dataset, batch_size=batch_size, shuffle=True, drop_last=True)\n",
    "val_dataloader = DataLoader(valid_dataset, batch_size=batch_size)\n",
    "print(f'train dataloader X: {next(iter(train_dataloader))[0].shape}')\n",
    "print(f'train dataloader y: {next(iter(train_dataloader))[1].shape}')\n",
    "print(f'val dataloader X: {next(iter(val_dataloader))[0].shape}')\n",
    "print(f'val dataloader y: {next(iter(val_dataloader))[1].shape}')\n",
    "\n",
    "# define the model\n",
    "model = MNISTClassifier().to(device)\n",
    "\n",
    "# define the optimizer\n",
    "optimizer = torch.optim.Adam(model.parameters(), lr=learning_rate)\n",
    "\n",
    "# define loss \n",
    "criterion = nn.NLLLoss()\n",
    "\n",
    "# create empty lists to store the accuracy and loss per validation epoch \n",
    "train_epoch_accuracy = []\n",
    "train_epoch_loss = []\n",
    "val_epoch_accuracy = []\n",
    "val_epoch_loss = []\n",
    "\n",
    "# loop over number of epochs\n",
    "for epoch in range(epochs):\n",
    "    \n",
    "    # train model for each epoch\n",
    "    train_accuracy, train_loss = train(model, device, train_dataloader, optimizer, criterion, epoch, print_every)\n",
    "    # save training loss and accuracy for each epoch\n",
    "    train_epoch_accuracy.append(train_accuracy)\n",
    "    train_epoch_loss.append(train_loss)\n",
    "    \n",
    "    # validate model for each epoch\n",
    "    predictions, val_accuracy, val_loss = valid(model, device, val_dataloader, criterion)\n",
    "    # save validation loss and accuracy for each epoch\n",
    "    val_epoch_accuracy.append(val_accuracy)\n",
    "    val_epoch_loss.append(val_loss)"
   ]
  },
  {
   "cell_type": "code",
   "execution_count": 10,
   "id": "a863c679",
   "metadata": {},
   "outputs": [
    {
     "data": {
      "image/png": "[encoded data removed]",
      "text/plain": [
       "<Figure size 720x360 with 1 Axes>"
      ]
     },
     "metadata": {
      "needs_background": "light"
     },
     "output_type": "display_data"
    }
   ],
   "source": [
    "fig, ax = plt.subplots(1,1, figsize=(10,5))\n",
    "x = np.arange(1, epochs+1)\n",
    "ax.plot(x, val_epoch_accuracy, label=\"Validation\", color=\"#9DC209\")\n",
    "ax.plot(x, train_epoch_accuracy, label=\"Training\", color=\"#FF7F50\")\n",
    "ax.set_title(\"Accuracy\")\n",
    "ax.legend()\n",
    "ax.set_ylim(0,1);"
   ]
  },
  {
   "cell_type": "markdown",
   "id": "15fe6a0d",
   "metadata": {},
   "source": [
    "# Predictive Modelling"
   ]
  },
  {
   "cell_type": "code",
   "execution_count": 11,
   "id": "0e992e47",
   "metadata": {},
   "outputs": [
    {
     "data": {
      "image/png": "[encoded data removed]",
      "text/plain": [
       "<Figure size 720x360 with 1 Axes>"
      ]
     },
     "metadata": {
      "needs_background": "light"
     },
     "output_type": "display_data"
    }
   ],
   "source": [
    "fig, ax = plt.subplots(1,1, figsize=(10,5))\n",
    "x = np.arange(1, epochs+1)\n",
    "ax.plot(x, val_epoch_loss, label=\"Validation\", color=\"#9DC209\")\n",
    "ax.plot(x, train_epoch_loss, label=\"Training\", color=\"#FF7F50\")\n",
    "ax.legend()\n",
    "ax.set_title(\"Loss\");"
   ]
  },
  {
   "cell_type": "markdown",
   "id": "8053d5b2",
   "metadata": {},
   "source": [
    "# Plot Predictions\n",
    "    \n",
    "Visualize the model's results with some example plots from the validation set."
   ]
  },
  {
   "cell_type": "code",
   "execution_count": 12,
   "id": "2a2e9e19",
   "metadata": {},
   "outputs": [
    {
     "data": {
      "image/png": "[encoded data removed]",
      "text/plain": [
       "<Figure size 1440x720 with 40 Axes>"
      ]
     },
     "metadata": {
      "needs_background": "light"
     },
     "output_type": "display_data"
    }
   ],
   "source": [
    "# first batch of validation data\n",
    "X_valid = next(iter(val_dataloader))[0]\n",
    "y_valid = next(iter(val_dataloader))[1]\n",
    "\n",
    "fig, axes = plt.subplots(4,10, figsize=(20,10))\n",
    "    \n",
    "for i, ax in enumerate(axes.flatten()):\n",
    "    ax.imshow(X_valid[i].reshape(28, 28), cmap=\"gray\")\n",
    "    ax.axis('off')\n",
    "    ax.set_title(f'Pred: {predictions[0][i].item()} - True: {int(y_valid[i].item())}',\n",
    "                color=(\"green\" if predictions[0][i]==y_valid[i] else \"red\"))"
   ]
  },
  {
   "cell_type": "markdown",
   "id": "0a22d1b3",
   "metadata": {},
   "source": [
    "# Note on Normalization\n",
    "\n",
    "If you ran the notebook several times you probably have seen that it happens that the predictions were not very good. But the model just predicted one class all the times. \n",
    "\n",
    "The MNIST images we used have pixel values from 0 to 255. One step that might improve the training using a neural net is normalizing the input, that is to transform the values to be between 0 and 1. In this case it helps to devide the pixels by 255. Uncoment the according step in the Dataset class and run the notebook again. Now the predictions should be much better.\n",
    "\n",
    "Often the data is not only normalized, but standardized, that is the data is transformed such that it has mean 0 and standard deviation 1. In this example we could calculate the mean and standard deviation of the (normalized) training dataset:"
   ]
  },
  {
   "cell_type": "code",
   "execution_count": 13,
   "id": "3189659d",
   "metadata": {},
   "outputs": [
    {
     "name": "stdout",
     "output_type": "stream",
     "text": [
      "Mean of normalized MNIST training dataset 0.1310099032172396\n",
      "Standard deviation of normalized MNIST training dataset 0.30855361493694317\n"
     ]
    }
   ],
   "source": [
    "print(f'Mean of normalized MNIST training dataset {np.mean(np.array(train_data.iloc[:,1:]/255))}')\n",
    "print(f'Standard deviation of normalized MNIST training dataset {np.std(np.array(train_data.iloc[:,1:]/255))}')"
   ]
  },
  {
   "cell_type": "markdown",
   "id": "7fa01708",
   "metadata": {},
   "source": [
    "The normalization then can be applied in the transformation:"
   ]
  },
  {
   "cell_type": "code",
   "execution_count": 14,
   "id": "f805840c",
   "metadata": {},
   "outputs": [],
   "source": [
    "transform = transforms.Compose([transforms.ToTensor() \n",
    "                               , transforms.Normalize((0.13101,), (0.30856,))\n",
    "                               ])"
   ]
  },
  {
   "cell_type": "markdown",
   "id": "b7a1848f",
   "metadata": {},
   "source": [
    "However, in this example you won't see improvement.\n",
    "\n",
    "Normalization or standardization ensures that the input parameters (pixels, in this case) have a common scale, without distorting differences in the ranges of values. In other applications of neural networks you may have several input variables in different units (e.g. feet, kilometers, and hours) that, in turn, may mean the variables have different scales. Normalizing the data generally speeds up learning and leads to faster convergence.\n",
    "\n",
    "When backpropagation is performed the gradient of the loss function depends on the input. If the inputs are on very different scales this is likely also to happen for the gradients. This may lead to convergence problems of the neural net.\n",
    "\n",
    "\n",
    "Further readings:\n",
    "\n",
    "* https://towardsdatascience.com/why-data-should-be-normalized-before-training-a-neural-network-c626b7f66c7d\n",
    "* https://stats.stackexchange.com/questions/211436/why-normalize-images-by-subtracting-datasets-image-mean-instead-of-the-current\n",
    "* https://stackoverflow.com/questions/4674623/why-do-we-have-to-normalize-the-input-for-an-artificial-neural-network u.a.:\n",
    "\n",
    "\"When you use unnormalized input features, the loss function is likely to have very elongated valleys. When optimizing with gradient descent, this becomes an issue because the gradient will be steep with respect some of the parameters. That leads to large oscillations in the search space, as you are bouncing between steep slopes. To compensate, you have to stabilize optimization with small learning rates.\n",
    "\n",
    "Consider features x1 and x2, where range from 0 to 1 and 0 to 1 million, respectively. It turns out the ratios for the corresponding parameters (say, w1 and w2) will also be large.\n",
    "\n",
    "Normalizing tends to make the loss function more symmetrical/spherical. These are easier to optimize because the gradients tend to point towards the global minimum and you can take larger steps.\"\n"
   ]
  },
  {
   "cell_type": "code",
   "execution_count": null,
   "id": "f4588adb",
   "metadata": {},
   "outputs": [],
   "source": []
  }
 ],
 "metadata": {
  "kernelspec": {
   "display_name": "Python 3",
   "language": "python",
   "name": "python3"
  },
  "language_info": {
   "codemirror_mode": {
    "name": "ipython",
    "version": 3
   },
   "file_extension": ".py",
   "mimetype": "text/x-python",
   "name": "python",
   "nbconvert_exporter": "python",
   "pygments_lexer": "ipython3",
   "version": "3.7.7"
  }
 },
 "nbformat": 4,
 "nbformat_minor": 5
}
