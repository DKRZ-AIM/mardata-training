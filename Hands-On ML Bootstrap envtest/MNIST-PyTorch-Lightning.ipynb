{
 "cells": [
  {
   "cell_type": "markdown",
   "id": "f08da404-face-4dcb-9cb9-700e35524d54",
   "metadata": {},
   "source": [
    "### Prerequisites\n",
    "\n",
    "PyTorch Lightning is a higher level framework on top of PyTorch and can help you to automate some common tasks related setting up your training loop, \n",
    "scaling up scaling across distributed resources, and keeping track of trained models and how they perform. "
   ]
  },
  {
   "cell_type": "code",
   "execution_count": null,
   "id": "c797704b-f9e5-454e-bd9c-4308fec6c575",
   "metadata": {},
   "outputs": [],
   "source": [
    "!pip install pytorch-lightning\n",
    "!pip install ipywidgets"
   ]
  },
  {
   "cell_type": "markdown",
   "id": "74d8d955-9715-405a-8bfd-32757bec8b89",
   "metadata": {},
   "source": [
    "### Please check if all the dependencies are working:\n",
    "\n",
    "If this raises an error, please reach out so we can help ;)"
   ]
  },
  {
   "cell_type": "code",
   "execution_count": 9,
   "id": "dbf5cd20-0bf7-4b84-b981-f8c022f23a18",
   "metadata": {},
   "outputs": [],
   "source": [
    "# check imports\n",
    "import torch\n",
    "import pytorch_lightning as pl\n",
    "import torchvision               # for datasets only"
   ]
  },
  {
   "cell_type": "markdown",
   "id": "54e5981a-8643-4834-8c0a-8838f8b144a3",
   "metadata": {},
   "source": [
    "## PyTorch Lightning\n",
    "\n",
    "Tons of things one could say about lightning :) This just checks for import from a file with a model.\n",
    "\n",
    "trainer\n",
    "Train loop, Validation loop, Test loop, Model or system of Models, Optimizer\n",
    ".. maybe some of the nice gimmicks?\n",
    "debate weather to link models with data by including train_dataloader, etc, or not :)"
   ]
  },
  {
   "cell_type": "markdown",
   "id": "59e05b58-1df3-43d2-b330-a2aefdca7ae5",
   "metadata": {},
   "source": [
    "## Model Setup"
   ]
  },
  {
   "cell_type": "code",
   "execution_count": 3,
   "id": "325da8d5-8e2c-4592-8a62-2fe005c3f2c9",
   "metadata": {},
   "outputs": [
    {
     "name": "stderr",
     "output_type": "stream",
     "text": [
      "/home/pq/AIM/training/Hands-On ML Bootstrap/venv/lib64/python3.9/site-packages/pytorch_lightning/metrics/__init__.py:43: LightningDeprecationWarning: `pytorch_lightning.metrics.*` module has been renamed to `torchmetrics.*` and split off to its own package (https://github.com/PyTorchLightning/metrics) since v1.3 and will be removed in v1.5\n",
      "  rank_zero_deprecation(\n"
     ]
    }
   ],
   "source": [
    "import os\n",
    "\n",
    "import torch\n",
    "import torch.nn as nn\n",
    "from torch.nn import functional as F\n",
    "from torch.utils.data import DataLoader\n",
    "from torchvision.datasets import MNIST\n",
    "from torchvision import transforms\n",
    "\n",
    "import pytorch_lightning as pl\n",
    "\n",
    "class MyModel(pl.LightningModule):\n",
    "\n",
    "    def __init__(self, input_size=784, hidden_layers=None, output_size=10):\n",
    "        super().__init__()\n",
    "        self.save_hyperparameters()\n",
    "\n",
    "        if hidden_layers is None:\n",
    "            hidden_layers = [128, 64]\n",
    "\n",
    "        # attach \n",
    "        self.layer_1 = nn.Linear(28 * 28, 128)\n",
    "        self.layer_2 = nn.Linear(128, 256)\n",
    "        self.layer_3 = nn.Linear(256, 10)\n",
    "\n",
    "    def forward(self, x):\n",
    "        batch_size, channels, width, height = x.size()\n",
    "\n",
    "        # (b, 1, 28, 28) -> (b, 1*28*28)\n",
    "        x = x.view(batch_size, -1)\n",
    "        x = self.layer_1(x)\n",
    "        x = F.relu(x)\n",
    "        x = self.layer_2(x)\n",
    "        x = F.relu(x)\n",
    "        x = self.layer_3(x)\n",
    "\n",
    "        x = F.log_softmax(x, dim=1)\n",
    "        return x\n",
    "\n",
    "    def training_step(self, batch, batch_idx):\n",
    "        x, y = batch\n",
    "        logits = self(x)\n",
    "        loss = F.nll_loss(logits, y)\n",
    "    \n",
    "        tensorboard_logs = {'train_loss': loss}           # I mostly, think something like this should be mentioned\n",
    "        return {'loss': loss, 'log': tensorboard_logs}\n",
    "\n",
    "    def validation_step(self, batch, batch_idx):\n",
    "        x, y = batch\n",
    "        logits = self(x)\n",
    "        loss = F.nll_loss(logits, y)\n",
    "        return {'val_loss': loss}\n",
    "\n",
    "    def validation_epoch_end(self, outputs):\n",
    "        avg_loss = torch.stack([x['val_loss'] for x in outputs]).mean()\n",
    "        return {'val_loss': avg_loss}\n",
    "\n",
    "    def configure_optimizers(self):\n",
    "        return torch.optim.SGD(model.parameters(), lr=0.003)"
   ]
  },
  {
   "cell_type": "markdown",
   "id": "96910f06-4136-451f-8f5a-34fe41fea6db",
   "metadata": {},
   "source": [
    "## Training"
   ]
  },
  {
   "cell_type": "code",
   "execution_count": 6,
   "id": "90ac02f8-0243-44e6-81be-4bea980532ba",
   "metadata": {},
   "outputs": [
    {
     "name": "stderr",
     "output_type": "stream",
     "text": [
      "Global seed set to 0\n",
      "/home/pq/AIM/training/Hands-On ML Bootstrap/venv/lib64/python3.9/site-packages/torchvision/datasets/mnist.py:498: UserWarning: The given NumPy array is not writeable, and PyTorch does not support non-writeable tensors. This means you can write to the underlying (supposedly non-writeable) NumPy array using the tensor. You may want to copy the array to protect its data or make it writeable before converting it to a tensor. This type of warning will be suppressed for the rest of this program. (Triggered internally at  /pytorch/torch/csrc/utils/tensor_numpy.cpp:180.)\n",
      "  return torch.from_numpy(parsed.astype(m[2], copy=False)).view(*s)\n"
     ]
    }
   ],
   "source": [
    "from torchvision.datasets import MNIST\n",
    "\n",
    "from pytorch_lightning import Trainer, seed_everything\n",
    "seed_everything(0)\n",
    "\n",
    "# data\n",
    "mnist_train = MNIST(\"./data/\", train=True, download=True, transform=transforms.ToTensor())\n",
    "mnist_train = DataLoader(mnist_train, batch_size=32, num_workers=4)\n",
    "mnist_val = MNIST(\"./data/\", train=True, download=True, transform=transforms.ToTensor())\n",
    "mnist_val = DataLoader(mnist_val, batch_size=32, num_workers=4)"
   ]
  },
  {
   "cell_type": "code",
   "execution_count": 56,
   "id": "5d053d80-05ce-42d3-a1a5-479b1f518fd3",
   "metadata": {},
   "outputs": [
    {
     "name": "stderr",
     "output_type": "stream",
     "text": [
      "Global seed set to 0\n",
      "GPU available: False, used: False\n",
      "TPU available: False, using: 0 TPU cores\n",
      "\n",
      "  | Name    | Type   | Params\n",
      "-----------------------------------\n",
      "0 | layer_1 | Linear | 100 K \n",
      "1 | layer_2 | Linear | 33.0 K\n",
      "2 | layer_3 | Linear | 2.6 K \n",
      "-----------------------------------\n",
      "136 K     Trainable params\n",
      "0         Non-trainable params\n",
      "136 K     Total params\n",
      "0.544     Total estimated model params size (MB)\n"
     ]
    },
    {
     "data": {
      "application/vnd.jupyter.widget-view+json": {
       "model_id": "17312dc11c494e5ba3ce2d074b5da993",
       "version_major": 2,
       "version_minor": 0
      },
      "text/plain": [
       "Validation sanity check: 0it [00:00, ?it/s]"
      ]
     },
     "metadata": {},
     "output_type": "display_data"
    },
    {
     "name": "stderr",
     "output_type": "stream",
     "text": [
      "Global seed set to 0\n"
     ]
    },
    {
     "data": {
      "application/vnd.jupyter.widget-view+json": {
       "model_id": "5b3b18f3a936416a9c0d19d64baef4b8",
       "version_major": 2,
       "version_minor": 0
      },
      "text/plain": [
       "Training: 0it [00:00, ?it/s]"
      ]
     },
     "metadata": {},
     "output_type": "display_data"
    },
    {
     "data": {
      "application/vnd.jupyter.widget-view+json": {
       "model_id": "2f3cfe45eb334f378d63c22dc114e583",
       "version_major": 2,
       "version_minor": 0
      },
      "text/plain": [
       "Validating: 0it [00:00, ?it/s]"
      ]
     },
     "metadata": {},
     "output_type": "display_data"
    },
    {
     "data": {
      "application/vnd.jupyter.widget-view+json": {
       "model_id": "31d04a653dd64621b57b0dd1f157272a",
       "version_major": 2,
       "version_minor": 0
      },
      "text/plain": [
       "Validating: 0it [00:00, ?it/s]"
      ]
     },
     "metadata": {},
     "output_type": "display_data"
    },
    {
     "data": {
      "application/vnd.jupyter.widget-view+json": {
       "model_id": "77d52c04ca414d0099d2986dea08c31c",
       "version_major": 2,
       "version_minor": 0
      },
      "text/plain": [
       "Validating: 0it [00:00, ?it/s]"
      ]
     },
     "metadata": {},
     "output_type": "display_data"
    },
    {
     "data": {
      "application/vnd.jupyter.widget-view+json": {
       "model_id": "1ee2321247b14ee7ac7892a0619921cf",
       "version_major": 2,
       "version_minor": 0
      },
      "text/plain": [
       "Validating: 0it [00:00, ?it/s]"
      ]
     },
     "metadata": {},
     "output_type": "display_data"
    },
    {
     "data": {
      "application/vnd.jupyter.widget-view+json": {
       "model_id": "b84e07064d3b437ea95de8d9a7b22f0c",
       "version_major": 2,
       "version_minor": 0
      },
      "text/plain": [
       "Validating: 0it [00:00, ?it/s]"
      ]
     },
     "metadata": {},
     "output_type": "display_data"
    },
    {
     "data": {
      "application/vnd.jupyter.widget-view+json": {
       "model_id": "11a2a33fc64741e9a32f29d5619cd735",
       "version_major": 2,
       "version_minor": 0
      },
      "text/plain": [
       "Validating: 0it [00:00, ?it/s]"
      ]
     },
     "metadata": {},
     "output_type": "display_data"
    },
    {
     "data": {
      "application/vnd.jupyter.widget-view+json": {
       "model_id": "53a31ef61d834b8d82116180ce3b981c",
       "version_major": 2,
       "version_minor": 0
      },
      "text/plain": [
       "Validating: 0it [00:00, ?it/s]"
      ]
     },
     "metadata": {},
     "output_type": "display_data"
    },
    {
     "data": {
      "application/vnd.jupyter.widget-view+json": {
       "model_id": "cdd56ae17f8e4a739d8530c6b557f9cd",
       "version_major": 2,
       "version_minor": 0
      },
      "text/plain": [
       "Validating: 0it [00:00, ?it/s]"
      ]
     },
     "metadata": {},
     "output_type": "display_data"
    },
    {
     "data": {
      "application/vnd.jupyter.widget-view+json": {
       "model_id": "44edf0a775e143ca9df7b1a5ecf857d3",
       "version_major": 2,
       "version_minor": 0
      },
      "text/plain": [
       "Validating: 0it [00:00, ?it/s]"
      ]
     },
     "metadata": {},
     "output_type": "display_data"
    },
    {
     "data": {
      "application/vnd.jupyter.widget-view+json": {
       "model_id": "37864c173bca495ab83b640347ba2661",
       "version_major": 2,
       "version_minor": 0
      },
      "text/plain": [
       "Validating: 0it [00:00, ?it/s]"
      ]
     },
     "metadata": {},
     "output_type": "display_data"
    }
   ],
   "source": [
    "# model\n",
    "model = MyModel()\n",
    "\n",
    "# most basic trainer, uses good defaults\n",
    "trainer = Trainer(progress_bar_refresh_rate=20, max_epochs=10)\n",
    "trainer.fit(model, mnist_train, mnist_val)   "
   ]
  },
  {
   "cell_type": "markdown",
   "id": "a4186283-bcb8-4171-b0a4-559a796138e0",
   "metadata": {},
   "source": [
    "### Save a trained model"
   ]
  },
  {
   "cell_type": "code",
   "execution_count": 74,
   "id": "84dc8a4e-43b9-4f64-b616-2093433d3cc0",
   "metadata": {},
   "outputs": [],
   "source": [
    "trainer.save_checkpoint(\"my_trained_model.ckpt\")"
   ]
  },
  {
   "cell_type": "markdown",
   "id": "17567ac1-c59d-41bf-afb3-217bdea842bf",
   "metadata": {},
   "source": [
    "### Load a trained model"
   ]
  },
  {
   "cell_type": "code",
   "execution_count": 8,
   "id": "6d92f3f3-478f-4355-a8a7-ac7b868b4b6e",
   "metadata": {},
   "outputs": [],
   "source": [
    "model = MyModel.load_from_checkpoint(checkpoint_path=\"my_trained_model.ckpt\")"
   ]
  },
  {
   "cell_type": "markdown",
   "id": "53b86bf3-201f-4c21-9157-e6ac943fe3e1",
   "metadata": {},
   "source": [
    "\n"
   ]
  },
  {
   "cell_type": "code",
   "execution_count": 11,
   "id": "1be2ab09-735a-4dc2-8e96-664f26bd9a5a",
   "metadata": {},
   "outputs": [
    {
     "data": {
      "image/png": "[encoded data removed]",
      "text/plain": [
       "<Figure size 432x288 with 2 Axes>"
      ]
     },
     "metadata": {
      "needs_background": "light"
     },
     "output_type": "display_data"
    }
   ],
   "source": [
    "from utils import visualize_prediction\n",
    "\n",
    "# get a sample for which you would like to generate a prediction\n",
    "images, labels = next(iter(mnist_train))\n",
    "image = images[0][0]\n",
    "\n",
    "# Turn off gradients to speed up this part\n",
    "with torch.no_grad():\n",
    "    logps = model(images[0:1])\n",
    "\n",
    "# Output of the network are log-probabilities, need to take exponential for probabilities\n",
    "ps = torch.exp(logps)\n",
    "visualize_prediction(image, ps)"
   ]
  },
  {
   "cell_type": "code",
   "execution_count": null,
   "id": "75181492-c3da-428c-8be1-ea33cef5450a",
   "metadata": {},
   "outputs": [],
   "source": []
  },
  {
   "cell_type": "markdown",
   "id": "4537047f-63c5-4361-b2d3-b9655286552c",
   "metadata": {},
   "source": [
    "## A Earth System Data Example (e.g., Weatherbench, ...)?\n",
    "\n",
    "Same drill as with the others :)"
   ]
  }
 ],
 "metadata": {
  "kernelspec": {
   "display_name": "Python 3",
   "language": "python",
   "name": "python3"
  },
  "language_info": {
   "codemirror_mode": {
    "name": "ipython",
    "version": 3
   },
   "file_extension": ".py",
   "mimetype": "text/x-python",
   "name": "python",
   "nbconvert_exporter": "python",
   "pygments_lexer": "ipython3",
   "version": "3.9.5"
  }
 },
 "nbformat": 4,
 "nbformat_minor": 5
}
