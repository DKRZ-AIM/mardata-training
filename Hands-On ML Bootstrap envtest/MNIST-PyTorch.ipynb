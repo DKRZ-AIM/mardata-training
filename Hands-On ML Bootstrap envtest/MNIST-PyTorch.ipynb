{
 "cells": [
  {
   "cell_type": "markdown",
   "id": "e55d2579-b071-47d6-870a-3e9735f1ef0b",
   "metadata": {},
   "source": [
    "### Prerequisites\n",
    "\n",
    "This example remain simple, but you will need to install a small number of dependencies.\n",
    "In particular these are:\n",
    "    \n",
    "* `(py)torch`: The core framework that implements most of the neural network building blocks.\n",
    "* `numpy`: Which provides efficient handling of numeric data.\n",
    "* `matplotlib`: A library to generate graphs to visualizes data and results."
   ]
  },
  {
   "cell_type": "code",
   "execution_count": 47,
   "id": "a541cefc-a78a-41e1-ba4d-bc6f4c7114d7",
   "metadata": {},
   "outputs": [
    {
     "name": "stdout",
     "output_type": "stream",
     "text": [
      "Requirement already satisfied: torch in ./venv/lib/python3.9/site-packages (1.9.0)\n",
      "Requirement already satisfied: typing-extensions in ./venv/lib/python3.9/site-packages (from torch) (3.10.0.0)\n",
      "\u001b[33mWARNING: You are using pip version 20.2.2; however, version 21.1.2 is available.\n",
      "You should consider upgrading via the '/home/pq/AIM/training/Hands-On ML Bootstrap/venv/bin/python3 -m pip install --upgrade pip' command.\u001b[0m\n",
      "Requirement already satisfied: torchvision in ./venv/lib/python3.9/site-packages (0.10.0)\n",
      "Requirement already satisfied: numpy in ./venv/lib/python3.9/site-packages (from torchvision) (1.20.3)\n",
      "Requirement already satisfied: pillow>=5.3.0 in ./venv/lib/python3.9/site-packages (from torchvision) (8.2.0)\n",
      "Requirement already satisfied: torch==1.9.0 in ./venv/lib/python3.9/site-packages (from torchvision) (1.9.0)\n",
      "Requirement already satisfied: typing-extensions in ./venv/lib/python3.9/site-packages (from torch==1.9.0->torchvision) (3.10.0.0)\n",
      "\u001b[33mWARNING: You are using pip version 20.2.2; however, version 21.1.2 is available.\n",
      "You should consider upgrading via the '/home/pq/AIM/training/Hands-On ML Bootstrap/venv/bin/python3 -m pip install --upgrade pip' command.\u001b[0m\n",
      "Requirement already satisfied: tqdm in ./venv/lib/python3.9/site-packages (4.61.1)\n",
      "\u001b[33mWARNING: You are using pip version 20.2.2; however, version 21.1.2 is available.\n",
      "You should consider upgrading via the '/home/pq/AIM/training/Hands-On ML Bootstrap/venv/bin/python3 -m pip install --upgrade pip' command.\u001b[0m\n"
     ]
    }
   ],
   "source": [
    "!pip install torch\n",
    "!pip install torchvision\n",
    "!pip install tqdm"
   ]
  },
  {
   "cell_type": "markdown",
   "id": "74d8d955-9715-405a-8bfd-32757bec8b89",
   "metadata": {},
   "source": [
    "### Please check if all the dependencies are working:\n",
    "\n",
    "If this raises an error, please reach out so we can help ;)"
   ]
  },
  {
   "cell_type": "code",
   "execution_count": 48,
   "id": "ea5081ae-3c66-46dc-a339-75ff66c16c19",
   "metadata": {},
   "outputs": [],
   "source": [
    "import torch\n",
    "import torch.nn as nn\n",
    "import torch.nn.functional as F\n",
    "from torch import optim\n",
    "\n",
    "import matplotlib.pyplot as plt\n",
    "\n",
    "import numpy as np\n",
    "%matplotlib inline"
   ]
  },
  {
   "cell_type": "markdown",
   "id": "97d712c2-d9d6-47b6-b9b0-91d42e2577c3",
   "metadata": {},
   "source": [
    "## Download the Dataset and Initialize a Dataloader\n",
    "\n",
    "Chances are, that even if MNIST does not mean anything to you, you have seen it in media coverage about machine learning in one way or another. MNIST is a collection of 60.000 **labeled** examples of handwritten digits.\n",
    "\n",
    "Such datasets have been very important for the machine learning community, to mature from toy examples, to the broadly applied tool machine learning has become today.\n",
    "\n",
    "The original MNIST data sets is hosted and pusblished at:\n",
    "http://yann.lecun.com/exdb/mnist/\n",
    "\n",
    "\n",
    "You can download and unpack the files yourself, but you can also use the torchvision package to download MNIST as well as some other popular datasets.\n"
   ]
  },
  {
   "cell_type": "raw",
   "id": "e9e04a6e-5bd6-45ee-93bc-259244a3650d",
   "metadata": {},
   "source": [
    "@ALL: What do you think would be useful, should the participants deal with some of the stuff themselves, or should this be out of the way and all prepared on mistral for them ready to use?"
   ]
  },
  {
   "cell_type": "code",
   "execution_count": 49,
   "id": "7a5c1555-c9f9-4cd0-92b3-c2eacfd3729b",
   "metadata": {},
   "outputs": [],
   "source": [
    "import torchvision\n",
    "from torchvision import datasets, transforms\n",
    "\n",
    "transform = transforms.Compose([\n",
    "    transforms.ToTensor(),\n",
    "    transforms.Normalize((0.5), (0.5))\n",
    "])\n",
    " \n",
    "mnist_train = torchvision.datasets.MNIST('./data/', train=True, transform=transform, download=True)\n",
    "mnist_train = torch.utils.data.DataLoader(trainset, batch_size=64, shuffle=True)"
   ]
  },
  {
   "cell_type": "code",
   "execution_count": 50,
   "id": "8e5c31bd-70c6-42ae-b0f2-25168af64529",
   "metadata": {},
   "outputs": [
    {
     "data": {
      "text/plain": [
       "Dataset MNIST\n",
       "    Number of datapoints: 60000\n",
       "    Root location: ./data/\n",
       "    Split: Train\n",
       "    StandardTransform\n",
       "Transform: Compose(\n",
       "               ToTensor()\n",
       "               Normalize(mean=0.5, std=0.5)\n",
       "           )"
      ]
     },
     "execution_count": 50,
     "metadata": {},
     "output_type": "execute_result"
    }
   ],
   "source": [
    "trainset"
   ]
  },
  {
   "cell_type": "code",
   "execution_count": 51,
   "id": "5eff5f99-2a04-4b38-929d-01c13ed3b7fe",
   "metadata": {},
   "outputs": [
    {
     "data": {
      "text/plain": [
       "<matplotlib.image.AxesImage at 0x7f96ec2b6ca0>"
      ]
     },
     "execution_count": 51,
     "metadata": {},
     "output_type": "execute_result"
    },
    {
     "data": {
      "image/png": "[encoded data removed]",
      "text/plain": [
       "<Figure size 432x288 with 1 Axes>"
      ]
     },
     "metadata": {
      "needs_background": "light"
     },
     "output_type": "display_data"
    }
   ],
   "source": [
    "# You can view an example using:\n",
    "pixels = mnist_train.dataset.data[0]\n",
    "plt.imshow(pixels, cmap='gray')"
   ]
  },
  {
   "cell_type": "markdown",
   "id": "54e5981a-8643-4834-8c0a-8838f8b144a3",
   "metadata": {},
   "source": [
    "## Defining the Neural Network Model"
   ]
  },
  {
   "cell_type": "markdown",
   "id": "53b86bf3-201f-4c21-9157-e6ac943fe3e1",
   "metadata": {},
   "source": [
    "In the following we will look at two ways to define your model.\n",
    "\n",
    "The first one makes it very easy to define simple feed-forward models: PyTorch introduces the `nn.sequential` container which offers a convienient way to define simple multi-layer feed-fordward neural networks. The nn.sequential container executes a list of layers in the order you provide them, and always passes the output of the previous layer to the one that follows. As you advance to other architectures you will usually work with `nn.Module` which allows you to bundle complex combinations of layers into building blocks which you can then combine into more complicated model architectures.\n",
    "\n",
    "In this very simple network we are making use of three very basic primitives that PyTorch provides:\n",
    "\n",
    "* https://pytorch.org/docs/stable/generated/torch.nn.Linear.html\n",
    "* https://pytorch.org/docs/stable/generated/torch.nn.ReLU.html\n",
    "* https://pytorch.org/docs/stable/generated/torch.nn.LogSoftmax.html\n"
   ]
  },
  {
   "cell_type": "code",
   "execution_count": 58,
   "id": "f9cbf90e-3138-4788-a550-a8339e86402c",
   "metadata": {},
   "outputs": [],
   "source": [
    "# some of your hyper parameters\n",
    "input_size = mnist_train.dataset.data.shape[1] * mnist_train.dataset.data.shape[2]\n",
    "hidden_layers = [128,64]\n",
    "output_size = 10"
   ]
  },
  {
   "cell_type": "code",
   "execution_count": 59,
   "id": "41e353ac-fb72-4244-a4d6-d4773bf37126",
   "metadata": {},
   "outputs": [
    {
     "data": {
      "text/plain": [
       "784"
      ]
     },
     "execution_count": 59,
     "metadata": {},
     "output_type": "execute_result"
    }
   ],
   "source": [
    "input_size"
   ]
  },
  {
   "cell_type": "code",
   "execution_count": 53,
   "id": "9c47ba2d-a520-4bae-a556-cf4c485d93f4",
   "metadata": {},
   "outputs": [
    {
     "name": "stdout",
     "output_type": "stream",
     "text": [
      "Sequential(\n",
      "  (0): Linear(in_features=784, out_features=128, bias=True)\n",
      "  (1): ReLU()\n",
      "  (2): Linear(in_features=128, out_features=64, bias=True)\n",
      "  (3): ReLU()\n",
      "  (4): Linear(in_features=64, out_features=10, bias=True)\n",
      "  (5): LogSoftmax(dim=1)\n",
      ")\n"
     ]
    }
   ],
   "source": [
    "modelSequential = nn.Sequential(\n",
    "    nn.Linear(input_size, hidden_layers[0]),\n",
    "    nn.ReLU(),\n",
    "    nn.Linear(hidden_layers[0], hidden_layers[1]),\n",
    "    nn.ReLU(),\n",
    "    nn.Linear(hidden_layers[1], 10),\n",
    "    nn.LogSoftmax(dim=1)\n",
    ")\n",
    "print(modelSequential)"
   ]
  },
  {
   "cell_type": "code",
   "execution_count": 54,
   "id": "d84b3f62-7796-43b4-8a36-e186974e705b",
   "metadata": {},
   "outputs": [],
   "source": [
    "# you can also view the parameters of your model\n",
    "# list(model.parameters())"
   ]
  },
  {
   "cell_type": "markdown",
   "id": "e37b0d46-86b7-41d2-92ac-3b6ff5f06adf",
   "metadata": {},
   "source": [
    "In this seconds step we will consider a slightly more pythonic way to define the same neural network model.\n",
    "As you will turn towards more complex architectures over time, you can hide some complexity into more convienient reuseable building blocks, in PyTorch Jargon these are called `modules`."
   ]
  },
  {
   "cell_type": "code",
   "execution_count": 55,
   "id": "2131966b-2bf9-4b0d-9f9e-191cad5dac15",
   "metadata": {},
   "outputs": [
    {
     "name": "stdout",
     "output_type": "stream",
     "text": [
      "ModelManual(\n",
      "  (layer1): Linear(in_features=784, out_features=128, bias=True)\n",
      "  (layer2): ReLU()\n",
      "  (layer3): Linear(in_features=128, out_features=64, bias=True)\n",
      "  (layer4): ReLU()\n",
      "  (layer5): Linear(in_features=64, out_features=10, bias=True)\n",
      "  (layer6): LogSoftmax(dim=1)\n",
      ")\n"
     ]
    }
   ],
   "source": [
    "# I think we should decide and use only one nn.Module example\n",
    "\n",
    "import torch.nn as nn\n",
    "import torch.nn.functional as F\n",
    "\n",
    "class ModelManual(nn.Module):\n",
    "    def __init__(self, input_size=None, hidden_layers=None, output_size=None):\n",
    "        super(ModelManual, self).__init__()\n",
    "        self.layer1 = nn.Linear(input_size, hidden_layers[0])\n",
    "        self.layer2 = nn.ReLU()\n",
    "        self.layer3 = nn.Linear(hidden_layers[0], hidden_layers[1])\n",
    "        self.layer4 = nn.ReLU()\n",
    "        self.layer5 = nn.Linear(hidden_layers[1], output_size)\n",
    "        self.layer6 = nn.LogSoftmax(dim=1)\n",
    "\n",
    "\n",
    "    def forward(self, x):\n",
    "        x = self.layer1(x)\n",
    "        x = self.layer2(x)\n",
    "        x = self.layer3(x)\n",
    "        x = self.layer4(x)\n",
    "        x = self.layer5(x)\n",
    "        x = self.layer6(x)\n",
    "        return x\n",
    "    \n",
    "modelManual = ModelManual(input_size, hidden_layers, output_size)\n",
    "\n",
    "print(modelManual)"
   ]
  },
  {
   "cell_type": "code",
   "execution_count": 56,
   "id": "db6917ed-7ce2-49ec-a9c9-bab5576fe289",
   "metadata": {},
   "outputs": [
    {
     "name": "stdout",
     "output_type": "stream",
     "text": [
      "ModelForLoop(\n",
      "  (layer1): Linear(in_features=784, out_features=128, bias=True)\n",
      "  (layer2): ReLU()\n",
      "  (layer3): Linear(in_features=128, out_features=64, bias=True)\n",
      "  (layer4): ReLU()\n",
      "  (layer5): Linear(in_features=64, out_features=10, bias=True)\n",
      "  (layer6): LogSoftmax(dim=1)\n",
      ")\n"
     ]
    }
   ],
   "source": [
    "# I think we should decide and use only one nn.Module example\n",
    "\n",
    "import torch.nn as nn\n",
    "import torch.nn.functional as F\n",
    "\n",
    "class ModelForLoop(nn.Module):\n",
    "    def __init__(self, input_size=None, hidden_layers=None, output_size=None):\n",
    "        super(ModelForLoop, self).__init__()\n",
    "        \n",
    "        # attach \n",
    "        self.layer1 = nn.Linear(input_size, hidden_layers[0])\n",
    "        self.layer2 = nn.ReLU()\n",
    "        self.layer3 = nn.Linear(hidden_layers[0], hidden_layers[1])\n",
    "        self.layer4 = nn.ReLU()\n",
    "        self.layer5 = nn.Linear(hidden_layers[1], output_size)\n",
    "        self.layer6 = nn.LogSoftmax(dim=1)\n",
    "        \n",
    "        self.layers = [\n",
    "            self.layer1, self.layer2, self.layer3, self.layer4, self.layer5, self.layer6\n",
    "        ]\n",
    "\n",
    "    def forward(self, x):\n",
    "        for layer in self.layers:\n",
    "            x = layer(x)\n",
    "        return x\n",
    "    \n",
    "    \n",
    "modelForLoop = ModelForLoop(input_size, hidden_layers, output_size)\n",
    "print(modelForLoop)"
   ]
  },
  {
   "cell_type": "markdown",
   "id": "63db1dab-1e1f-487b-b721-e2dac74556b8",
   "metadata": {},
   "source": [
    "## The Training Loop\n",
    "\n",
    "Unfortunetly, there is a variety of other decisions you can make that determine training success such as the choice of loss function, the choice of optimizer, the batch size and various other so called hyperparameters.\n",
    "\n",
    "For this reason, it will often be necessary to write or adapt what is referred to to as the training loop. Later, we will show you how other frameworks can make your life easier with respect to the training loop as well. But for now it is useful to implement or adapt one for yourself, as you will gain a better understanding of the effect som of these hyper parameters have."
   ]
  },
  {
   "cell_type": "code",
   "execution_count": 57,
   "id": "a54d115f-65c4-4809-8bda-b2db565c665e",
   "metadata": {},
   "outputs": [
    {
     "name": "stdout",
     "output_type": "stream",
     "text": [
      "Training loss: 1.8827007725548897\n",
      "Training loss: 0.836697991945342\n",
      "Training loss: 0.5059866161107509\n",
      "Training loss: 0.41756084894956047\n",
      "Training loss: 0.3763190460389357\n",
      "Training loss: 0.3517215777752496\n",
      "Training loss: 0.33407162839987636\n",
      "Training loss: 0.3210883144058907\n",
      "Training loss: 0.31045883361782345\n",
      "Training loss: 0.3013507863844254\n"
     ]
    }
   ],
   "source": [
    "model = modelSequential\n",
    "\n",
    "num_epochs = 10\n",
    "\n",
    "criterion = nn.NLLLoss()\n",
    "optimizer = torch.optim.SGD(model.parameters(), lr=0.003)\n",
    "\n",
    "for e in range(num_epochs):\n",
    "    running_loss = 0\n",
    "    for images, labels in mnist_train:\n",
    "        # Flatten the Image from 28*28 to 784 column vector\n",
    "        images = images.view(images.shape[0], -1)\n",
    "        \n",
    "        # PyTorch allows you to accumulate gradients, which\n",
    "        # can be handy to conserve memory and increase performance.\n",
    "        # But, at this point, we don't to do any of these optimizations as they\n",
    "        # distract and convolute your training logic. \n",
    "        # Thus we have to reset gradients for every new mini-batch.\n",
    "        optimizer.zero_grad()        \n",
    "        output = model(images)\n",
    "        loss = criterion(output, labels)\n",
    "        \n",
    "        # backward propagation\n",
    "        loss.backward()\n",
    "        \n",
    "        # update the gradient to new gradients\n",
    "        optimizer.step()\n",
    "        running_loss += loss.item()\n",
    "    else:\n",
    "        print(f\"Training loss: {(running_loss/len(trainloader))}\")"
   ]
  },
  {
   "cell_type": "markdown",
   "id": "0c07ef01-cf10-474d-907a-9b93da6fea3b",
   "metadata": {},
   "source": [
    "You may have noticed that this cell takes quite a while to execute and even may appear like nothing is happening at first. In fact every epoch takes 5-10 seconds to compute.\n",
    "Because this can be a little bit frustrating to work with, we would like to introduce you to two little helpers that are worth knowing about, as they might make your life a little easier."
   ]
  },
  {
   "cell_type": "markdown",
   "id": "99910d9f-02ca-4598-ae66-75d42937c036",
   "metadata": {},
   "source": [
    "## A little Detour to making your life more convienient/planable?\n",
    "\n",
    "The Python community and the resulting ecosystem has all sorts of helpful packages and utilities to offer.\n",
    "One such example is `tqdm`, a little helper, that augments your loops with a progress bar, which becomes especially handy when you are working interactively in jupyter notebooks, but each iteration may be a little bit more computational intensive than is comfortable when working interactively.\n",
    "tqdm helpfully also attempts to give a time to completion, essential intelligence, to decide if maybe it's a good time to get another coffee ;)"
   ]
  },
  {
   "cell_type": "raw",
   "id": "757ee0eb-6c47-4eca-b30e-127aba109a86",
   "metadata": {},
   "source": [
    "@ALL: Mostly I would include tqdm already here (even though superseeded by pytorch lightning), because it becomes handy for for preprocessing as well. And for those in the course that are not familier with Python, it is useful to repeat over and over again, that there is a very active community.."
   ]
  },
  {
   "cell_type": "code",
   "execution_count": 45,
   "id": "678a369c-9823-43bf-802f-534302f5d1b6",
   "metadata": {},
   "outputs": [
    {
     "name": "stderr",
     "output_type": "stream",
     "text": [
      "  0%|          | 0/4 [00:00<?, ?it/s]\n",
      "  0%|          | 0/20 [00:00<?, ?it/s]\u001b[A\n",
      "  5%|▌         | 1/20 [00:10<03:23, 10.71s/it]\u001b[A\n",
      " 10%|█         | 2/20 [00:21<03:13, 10.74s/it]\u001b[A\n",
      " 15%|█▌        | 3/20 [00:32<03:01, 10.67s/it]\u001b[A\n",
      " 20%|██        | 4/20 [00:42<02:51, 10.70s/it]\u001b[A\n",
      " 25%|██▌       | 5/20 [00:54<02:43, 10.90s/it]\u001b[A\n",
      " 30%|███       | 6/20 [01:04<02:30, 10.76s/it]\u001b[A\n",
      " 35%|███▌      | 7/20 [01:15<02:19, 10.71s/it]\u001b[A\n",
      " 40%|████      | 8/20 [01:26<02:11, 10.98s/it]\u001b[A\n",
      " 45%|████▌     | 9/20 [01:38<02:05, 11.37s/it]\u001b[A\n",
      " 50%|█████     | 10/20 [01:49<01:51, 11.19s/it]\u001b[A\n",
      " 55%|█████▌    | 11/20 [02:01<01:41, 11.31s/it]\u001b[A\n",
      " 60%|██████    | 12/20 [02:11<01:28, 11.00s/it]\u001b[A\n",
      " 65%|██████▌   | 13/20 [02:22<01:16, 10.95s/it]\u001b[A\n",
      " 70%|███████   | 14/20 [02:33<01:06, 11.05s/it]\u001b[A\n",
      " 75%|███████▌  | 15/20 [02:44<00:54, 10.84s/it]\u001b[A\n",
      " 80%|████████  | 16/20 [02:54<00:43, 10.78s/it]\u001b[A\n",
      " 85%|████████▌ | 17/20 [03:05<00:32, 10.82s/it]\u001b[A\n",
      " 90%|█████████ | 18/20 [03:17<00:22, 11.06s/it]\u001b[A\n",
      " 95%|█████████▌| 19/20 [03:29<00:11, 11.34s/it]\u001b[A\n",
      "100%|██████████| 20/20 [03:42<00:00, 11.78s/it]\u001b[A\n",
      " 25%|██▌       | 1/4 [03:42<11:06, 222.05s/it] \u001b[A\n",
      "  0%|          | 0/20 [00:00<?, ?it/s]\u001b[A\n",
      "  5%|▌         | 1/20 [00:13<04:07, 13.05s/it]\u001b[A\n",
      " 10%|█         | 2/20 [00:24<03:39, 12.21s/it]\u001b[A\n",
      " 15%|█▌        | 3/20 [00:38<03:39, 12.90s/it]\u001b[A\n",
      " 20%|██        | 4/20 [00:50<03:23, 12.72s/it]\u001b[A\n",
      " 25%|██▌       | 5/20 [01:04<03:16, 13.13s/it]\u001b[A\n",
      " 30%|███       | 6/20 [01:20<03:15, 13.96s/it]\u001b[A\n",
      " 35%|███▌      | 7/20 [01:35<03:08, 14.50s/it]\u001b[A\n",
      " 40%|████      | 8/20 [01:49<02:48, 14.07s/it]\u001b[A\n",
      " 45%|████▌     | 9/20 [01:59<02:21, 12.87s/it]\u001b[A\n",
      " 50%|█████     | 10/20 [02:10<02:03, 12.40s/it]\u001b[A\n",
      " 55%|█████▌    | 11/20 [02:21<01:46, 11.80s/it]\u001b[A\n",
      " 60%|██████    | 12/20 [02:31<01:30, 11.34s/it]\u001b[A\n",
      " 65%|██████▌   | 13/20 [02:41<01:17, 11.03s/it]\u001b[A\n",
      " 70%|███████   | 14/20 [02:51<01:04, 10.80s/it]\u001b[A\n",
      " 75%|███████▌  | 15/20 [03:02<00:53, 10.66s/it]\u001b[A\n",
      " 80%|████████  | 16/20 [03:12<00:41, 10.47s/it]\u001b[A\n",
      " 85%|████████▌ | 17/20 [03:24<00:33, 11.14s/it]\u001b[A\n",
      " 90%|█████████ | 18/20 [03:37<00:23, 11.56s/it]\u001b[A\n",
      " 95%|█████████▌| 19/20 [03:50<00:12, 12.07s/it]\u001b[A\n",
      "100%|██████████| 20/20 [04:01<00:00, 11.77s/it]\u001b[A\n",
      " 50%|█████     | 2/4 [07:43<07:47, 233.68s/it] \u001b[A\n",
      "  0%|          | 0/20 [00:00<?, ?it/s]\u001b[A\n",
      "  5%|▌         | 1/20 [00:11<03:35, 11.37s/it]\u001b[A\n",
      " 10%|█         | 2/20 [00:23<03:31, 11.77s/it]\u001b[A\n",
      " 15%|█▌        | 3/20 [00:36<03:27, 12.19s/it]\u001b[A\n",
      " 20%|██        | 4/20 [00:46<03:05, 11.59s/it]\u001b[A\n",
      " 25%|██▌       | 5/20 [00:57<02:48, 11.22s/it]\u001b[A\n",
      " 30%|███       | 6/20 [01:08<02:34, 11.05s/it]\u001b[A\n",
      " 35%|███▌      | 7/20 [01:19<02:25, 11.19s/it]\u001b[A\n",
      " 40%|████      | 8/20 [01:33<02:24, 12.04s/it]\u001b[A\n",
      " 45%|████▌     | 9/20 [01:46<02:14, 12.24s/it]\u001b[A\n",
      " 50%|█████     | 10/20 [01:58<02:04, 12.42s/it]\u001b[A\n",
      " 55%|█████▌    | 11/20 [02:10<01:49, 12.21s/it]\u001b[A\n",
      " 60%|██████    | 12/20 [02:23<01:38, 12.27s/it]\u001b[A\n",
      " 65%|██████▌   | 13/20 [02:35<01:25, 12.27s/it]\u001b[A\n",
      " 70%|███████   | 14/20 [02:47<01:13, 12.27s/it]\u001b[A\n",
      " 75%|███████▌  | 15/20 [02:59<01:00, 12.10s/it]\u001b[A\n",
      " 80%|████████  | 16/20 [03:10<00:47, 11.98s/it]\u001b[A\n",
      " 85%|████████▌ | 17/20 [03:21<00:34, 11.51s/it]\u001b[A\n",
      " 90%|█████████ | 18/20 [03:36<00:25, 12.54s/it]\u001b[A\n",
      " 95%|█████████▌| 19/20 [03:58<00:15, 15.29s/it]\u001b[A\n",
      "100%|██████████| 20/20 [04:14<00:00, 15.71s/it]\u001b[A\n",
      " 75%|███████▌  | 3/4 [11:58<04:03, 243.30s/it] \u001b[A\n",
      "  0%|          | 0/20 [00:00<?, ?it/s]\u001b[A\n",
      "  5%|▌         | 1/20 [00:15<04:58, 15.72s/it]\u001b[A\n",
      " 10%|█         | 2/20 [00:30<04:35, 15.31s/it]\u001b[A\n",
      " 15%|█▌        | 3/20 [00:45<04:13, 14.90s/it]\u001b[A\n",
      " 20%|██        | 4/20 [01:01<04:06, 15.41s/it]\u001b[A\n",
      " 25%|██▌       | 5/20 [01:15<03:45, 15.03s/it]\u001b[A\n",
      " 30%|███       | 6/20 [01:28<03:20, 14.34s/it]\u001b[A\n",
      " 35%|███▌      | 7/20 [01:44<03:13, 14.85s/it]\u001b[A\n",
      " 40%|████      | 8/20 [02:00<03:01, 15.08s/it]\u001b[A\n",
      " 45%|████▌     | 9/20 [02:16<02:49, 15.41s/it]\u001b[A\n",
      " 50%|█████     | 10/20 [02:30<02:29, 14.95s/it]\u001b[A\n",
      " 55%|█████▌    | 11/20 [02:46<02:17, 15.24s/it]\u001b[A\n",
      " 60%|██████    | 12/20 [03:02<02:03, 15.50s/it]\u001b[A\n",
      " 65%|██████▌   | 13/20 [03:17<01:47, 15.41s/it]\u001b[A\n",
      " 70%|███████   | 14/20 [03:33<01:33, 15.60s/it]\u001b[A\n",
      " 75%|███████▌  | 15/20 [03:47<01:15, 15.18s/it]\u001b[A\n",
      " 80%|████████  | 16/20 [04:01<00:58, 14.62s/it]\u001b[A\n",
      " 85%|████████▌ | 17/20 [04:15<00:43, 14.47s/it]\u001b[A\n",
      " 90%|█████████ | 18/20 [04:28<00:28, 14.16s/it]\u001b[A\n",
      " 95%|█████████▌| 19/20 [04:43<00:14, 14.37s/it]\u001b[A\n",
      "100%|██████████| 20/20 [04:57<00:00, 14.41s/it]\u001b[A\n",
      "100%|██████████| 4/4 [16:56<00:00, 254.14s/it] \u001b[A\n"
     ]
    },
    {
     "data": {
      "text/html": [
       "<div>\n",
       "<style scoped>\n",
       "    .dataframe tbody tr th:only-of-type {\n",
       "        vertical-align: middle;\n",
       "    }\n",
       "\n",
       "    .dataframe tbody tr th {\n",
       "        vertical-align: top;\n",
       "    }\n",
       "\n",
       "    .dataframe thead th {\n",
       "        text-align: right;\n",
       "    }\n",
       "</style>\n",
       "<table border=\"1\" class=\"dataframe\">\n",
       "  <thead>\n",
       "    <tr style=\"text-align: right;\">\n",
       "      <th></th>\n",
       "      <th>epoch</th>\n",
       "      <th>training_loss_modelSequential</th>\n",
       "      <th>training_loss_modelManual</th>\n",
       "      <th>training_loss_modelForLoop</th>\n",
       "      <th>training_loss_modelWeak</th>\n",
       "    </tr>\n",
       "  </thead>\n",
       "  <tbody>\n",
       "    <tr>\n",
       "      <th>0</th>\n",
       "      <td>0.0</td>\n",
       "      <td>0.291534</td>\n",
       "      <td>NaN</td>\n",
       "      <td>NaN</td>\n",
       "      <td>NaN</td>\n",
       "    </tr>\n",
       "    <tr>\n",
       "      <th>1</th>\n",
       "      <td>1.0</td>\n",
       "      <td>0.283703</td>\n",
       "      <td>NaN</td>\n",
       "      <td>NaN</td>\n",
       "      <td>NaN</td>\n",
       "    </tr>\n",
       "    <tr>\n",
       "      <th>2</th>\n",
       "      <td>2.0</td>\n",
       "      <td>0.275990</td>\n",
       "      <td>NaN</td>\n",
       "      <td>NaN</td>\n",
       "      <td>NaN</td>\n",
       "    </tr>\n",
       "    <tr>\n",
       "      <th>3</th>\n",
       "      <td>3.0</td>\n",
       "      <td>0.269388</td>\n",
       "      <td>NaN</td>\n",
       "      <td>NaN</td>\n",
       "      <td>NaN</td>\n",
       "    </tr>\n",
       "    <tr>\n",
       "      <th>4</th>\n",
       "      <td>4.0</td>\n",
       "      <td>0.262458</td>\n",
       "      <td>NaN</td>\n",
       "      <td>NaN</td>\n",
       "      <td>NaN</td>\n",
       "    </tr>\n",
       "    <tr>\n",
       "      <th>...</th>\n",
       "      <td>...</td>\n",
       "      <td>...</td>\n",
       "      <td>...</td>\n",
       "      <td>...</td>\n",
       "      <td>...</td>\n",
       "    </tr>\n",
       "    <tr>\n",
       "      <th>75</th>\n",
       "      <td>15.0</td>\n",
       "      <td>NaN</td>\n",
       "      <td>NaN</td>\n",
       "      <td>NaN</td>\n",
       "      <td>0.267349</td>\n",
       "    </tr>\n",
       "    <tr>\n",
       "      <th>76</th>\n",
       "      <td>16.0</td>\n",
       "      <td>NaN</td>\n",
       "      <td>NaN</td>\n",
       "      <td>NaN</td>\n",
       "      <td>0.261641</td>\n",
       "    </tr>\n",
       "    <tr>\n",
       "      <th>77</th>\n",
       "      <td>17.0</td>\n",
       "      <td>NaN</td>\n",
       "      <td>NaN</td>\n",
       "      <td>NaN</td>\n",
       "      <td>0.256301</td>\n",
       "    </tr>\n",
       "    <tr>\n",
       "      <th>78</th>\n",
       "      <td>18.0</td>\n",
       "      <td>NaN</td>\n",
       "      <td>NaN</td>\n",
       "      <td>NaN</td>\n",
       "      <td>0.251231</td>\n",
       "    </tr>\n",
       "    <tr>\n",
       "      <th>79</th>\n",
       "      <td>19.0</td>\n",
       "      <td>NaN</td>\n",
       "      <td>NaN</td>\n",
       "      <td>NaN</td>\n",
       "      <td>0.246030</td>\n",
       "    </tr>\n",
       "  </tbody>\n",
       "</table>\n",
       "<p>80 rows × 5 columns</p>\n",
       "</div>"
      ],
      "text/plain": [
       "    epoch  training_loss_modelSequential  training_loss_modelManual  \\\n",
       "0     0.0                       0.291534                        NaN   \n",
       "1     1.0                       0.283703                        NaN   \n",
       "2     2.0                       0.275990                        NaN   \n",
       "3     3.0                       0.269388                        NaN   \n",
       "4     4.0                       0.262458                        NaN   \n",
       "..    ...                            ...                        ...   \n",
       "75   15.0                            NaN                        NaN   \n",
       "76   16.0                            NaN                        NaN   \n",
       "77   17.0                            NaN                        NaN   \n",
       "78   18.0                            NaN                        NaN   \n",
       "79   19.0                            NaN                        NaN   \n",
       "\n",
       "    training_loss_modelForLoop  training_loss_modelWeak  \n",
       "0                          NaN                      NaN  \n",
       "1                          NaN                      NaN  \n",
       "2                          NaN                      NaN  \n",
       "3                          NaN                      NaN  \n",
       "4                          NaN                      NaN  \n",
       "..                         ...                      ...  \n",
       "75                         NaN                 0.267349  \n",
       "76                         NaN                 0.261641  \n",
       "77                         NaN                 0.256301  \n",
       "78                         NaN                 0.251231  \n",
       "79                         NaN                 0.246030  \n",
       "\n",
       "[80 rows x 5 columns]"
      ]
     },
     "execution_count": 45,
     "metadata": {},
     "output_type": "execute_result"
    }
   ],
   "source": [
    "# An alternative way to set up the loop make use of tqdm, a clever helper to display a progress bar.\n",
    "# Besides progress, also iteration times and a remaining time prediction are displayed by default.\n",
    "# You can also add your own information, such as key metrics relevant for your model.\n",
    "\n",
    "import tqdm\n",
    "import pandas as pd\n",
    "\n",
    "num_epochs = 20\n",
    "\n",
    "stats = pd.DataFrame()\n",
    "\n",
    "\n",
    "# Also add a weaker module to show some discrepancy\n",
    "modelWeak = nn.Sequential(\n",
    "    nn.Linear(input_size, hidden_layers[0]),\n",
    "    nn.ReLU(),\n",
    "    nn.Linear(hidden_layers[0], 10),\n",
    "    nn.LogSoftmax(dim=1)\n",
    ")\n",
    "\n",
    "models = {\n",
    "    \"modelSequential\": modelSequential,\n",
    "    \"modelManual\": modelManual,\n",
    "    \"modelForLoop\": modelForLoop,\n",
    "    \"modelWeak\": modelWeak,\n",
    "}\n",
    "\n",
    "\n",
    "for modelname, model in tqdm.tqdm(models.items(), position = 0):\n",
    "    criterion = torch.nn.NLLLoss()\n",
    "    optimizer = torch.optim.SGD(model.parameters(), lr=0.003)\n",
    "\n",
    "    epochs = tqdm.tqdm(range(num_epochs), position = 1, leave=False)\n",
    "    for e in epochs:\n",
    "        running_loss = 0\n",
    "        for images, labels in mnist_train:\n",
    "            # Flatten the Image from 28*28 to 784 column vector\n",
    "            images = images.view(images.shape[0], -1)\n",
    "\n",
    "            # PyTorch allows you to accumulate gradients, which\n",
    "            # can be handy to conserve memory and increase performance.\n",
    "            # \n",
    "            # At this point, we don't to do any of these optimizations as they\n",
    "            # distract and convolute your training logic. \n",
    "            # Thus we reset gradients for every new mini-batch.\n",
    "            optimizer.zero_grad()        \n",
    "            output = model(images)\n",
    "            loss = criterion(output, labels)\n",
    "\n",
    "            # backward propagation\n",
    "            loss.backward()\n",
    "\n",
    "            # update the gradient to new gradients\n",
    "            optimizer.step()\n",
    "            running_loss += loss.item()\n",
    "        else:\n",
    "            epoch_stats = {\n",
    "                \"epoch\": e,\n",
    "                f\"training_loss_{modelname}\": running_loss/len(trainloader)\n",
    "            }\n",
    "            stats = stats.append(epoch_stats, ignore_index=True)\n",
    "        \n",
    "stats"
   ]
  },
  {
   "cell_type": "code",
   "execution_count": 46,
   "id": "d5a0afd9-ca6e-41d9-b16f-460f1598893f",
   "metadata": {},
   "outputs": [
    {
     "data": {
      "text/plain": [
       "<AxesSubplot:xlabel='epoch'>"
      ]
     },
     "execution_count": 46,
     "metadata": {},
     "output_type": "execute_result"
    },
    {
     "data": {
      "image/png": "[encoded data removed]",
      "text/plain": [
       "<Figure size 432x288 with 1 Axes>"
      ]
     },
     "metadata": {
      "needs_background": "light"
     },
     "output_type": "display_data"
    }
   ],
   "source": [
    "stats.plot(x='epoch')"
   ]
  },
  {
   "cell_type": "code",
   "execution_count": 29,
   "id": "a0b12880-c4e5-4c43-876a-f63ee7712d1d",
   "metadata": {},
   "outputs": [],
   "source": [
    "#TODO: We should decide what we deem more useful:\n",
    "# Hide some of the python stuff, but then assume people are comfortable to look things up if necessary?\n",
    "# Expose most of the helper code one is using, but potentially distract from the method?\n",
    "\n",
    "# from utils import visualize_prediction\n",
    "# OR\n",
    "def visualize_prediction(image, prob):\n",
    "    prob = prob.data.numpy().squeeze()\n",
    "    fig, ax = plt.subplots(ncols=2)\n",
    "    ax[0].imshow(image, cmap='gray')\n",
    "    \n",
    "    ax[1].barh(np.arange(10), prob)\n",
    "    ax[1].set_aspect(0.1)\n",
    "    ax[1].set_yticks(np.arange(10))\n",
    "    ax[1].set_yticklabels(np.arange(10))\n",
    "    ax[1].set_title('Probability of Class')\n",
    "    ax[1].set_xlim(0, 1.1)\n",
    "    plt.tight_layout()"
   ]
  },
  {
   "cell_type": "code",
   "execution_count": 30,
   "id": "1be2ab09-735a-4dc2-8e96-664f26bd9a5a",
   "metadata": {},
   "outputs": [
    {
     "data": {
      "image/png": "[encoded data removed]",
      "text/plain": [
       "<Figure size 432x288 with 2 Axes>"
      ]
     },
     "metadata": {
      "needs_background": "light"
     },
     "output_type": "display_data"
    }
   ],
   "source": [
    "model = modelSequential\n",
    "\n",
    "# get a sample for which you would like to generate a prediction\n",
    "images, labels = next(iter(trainloader))\n",
    "image = images[0][0]\n",
    "flattened = images[0].view(1, 784)    # flatten\n",
    "\n",
    "\n",
    "# Turn off gradients to speed up this part\n",
    "with torch.no_grad():\n",
    "    logps = model(flattened)\n",
    "\n",
    "# Output of the network are log-probabilities, need to take exponential for probabilities\n",
    "ps = torch.exp(logps)\n",
    "visualize_prediction(image, ps)"
   ]
  },
  {
   "cell_type": "code",
   "execution_count": null,
   "id": "298a0619-c066-4c4d-9a2c-eaf4636010e0",
   "metadata": {},
   "outputs": [],
   "source": []
  },
  {
   "cell_type": "markdown",
   "id": "2fdaf2fb-5030-426d-9d5b-544a14f6851d",
   "metadata": {},
   "source": [
    "## A Earth System Data Example (e.g., Weatherbench, ...)?\n",
    "\n",
    "Xarray + PyTorch --> keep a few unoptimized parts, for which we could dive deep in the pre-processing course.\n",
    "\n",
    "Classification: Maybe something like month from temperature + precipation might have enough signal also for short training runs.\n",
    "Regression: Could extract a timeseries to fit a curve, while also not needing to much data (and thus have quick training turnaround times to just so barely showcase some predictive skill)\n",
    "\n",
    "(I think it would be good to aim to have some shared goal between different models, and then the participants can see the differences in their expression)"
   ]
  },
  {
   "cell_type": "code",
   "execution_count": null,
   "id": "0f2d4374-329e-420c-aa66-cf993c54206e",
   "metadata": {},
   "outputs": [],
   "source": []
  }
 ],
 "metadata": {
  "kernelspec": {
   "display_name": "Python 3",
   "language": "python",
   "name": "python3"
  },
  "language_info": {
   "codemirror_mode": {
    "name": "ipython",
    "version": 3
   },
   "file_extension": ".py",
   "mimetype": "text/x-python",
   "name": "python",
   "nbconvert_exporter": "python",
   "pygments_lexer": "ipython3",
   "version": "3.9.5"
  }
 },
 "nbformat": 4,
 "nbformat_minor": 5
}
