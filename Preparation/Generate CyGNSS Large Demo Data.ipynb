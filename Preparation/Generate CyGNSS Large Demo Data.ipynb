{
 "cells": [
  {
   "cell_type": "code",
   "execution_count": null,
   "metadata": {},
   "outputs": [],
   "source": [
    "import h5py\n",
    "import numpy as np\n",
    "\n",
    "from matplotlib import pyplot as plt\n",
    "import seaborn as sns\n",
    "\n",
    "import os\n",
    "import datetime\n",
    "import time"
   ]
  },
  {
   "cell_type": "code",
   "execution_count": null,
   "metadata": {},
   "outputs": [],
   "source": [
    "import sys\n",
    "sys.path.append('/work/ka1176/caroline/gitlab/2020-03-gfz-remote-sensing/')\n",
    "from gfz_202003.preprocessing import preprocess as prep"
   ]
  },
  {
   "cell_type": "code",
   "execution_count": null,
   "metadata": {},
   "outputs": [],
   "source": [
    "np.random.seed(1619)"
   ]
  },
  {
   "cell_type": "code",
   "execution_count": null,
   "metadata": {},
   "outputs": [],
   "source": [
    "import xarray as xr\n",
    "xr.__version__\n",
    "\n",
    "import netCDF4 as nc"
   ]
  },
  {
   "cell_type": "code",
   "execution_count": null,
   "metadata": {},
   "outputs": [],
   "source": [
    "raw_data_dir = '/work/ka1176/shared_data/2020-03/raw_data/2020/212/'\n",
    "raw_data_files = [os.path.join(raw_data_dir, ff) for ff in os.listdir(raw_data_dir) if ff.endswith('.nc')]\n",
    "\n",
    "print(raw_data_files)"
   ]
  },
  {
   "cell_type": "code",
   "execution_count": null,
   "metadata": {},
   "outputs": [],
   "source": []
  },
  {
   "cell_type": "code",
   "execution_count": null,
   "metadata": {},
   "outputs": [],
   "source": [
    "ds = xr.open_mfdataset(raw_data_files[1])"
   ]
  },
  {
   "cell_type": "code",
   "execution_count": null,
   "metadata": {},
   "outputs": [],
   "source": [
    "batch_size = 128"
   ]
  },
  {
   "cell_type": "code",
   "execution_count": null,
   "metadata": {},
   "outputs": [],
   "source": [
    "n_samples = len(ds.brcs)"
   ]
  },
  {
   "cell_type": "code",
   "execution_count": null,
   "metadata": {},
   "outputs": [],
   "source": [
    "batches = n_samples // batch_size\n",
    "print(batches)"
   ]
  },
  {
   "cell_type": "code",
   "execution_count": null,
   "metadata": {},
   "outputs": [],
   "source": [
    "%%time\n",
    "for i in range(batches):\n",
    "    X = ds.brcs[i*batch_size:(i+1)*batch_size]\n",
    "    y = ds.ERA5_u10[i*batch_size:(i+1)*batch_size]"
   ]
  },
  {
   "cell_type": "code",
   "execution_count": null,
   "metadata": {},
   "outputs": [],
   "source": [
    "batch_ix = np.arange(n_samples)\n",
    "np.random.shuffle(batch_ix)"
   ]
  },
  {
   "cell_type": "code",
   "execution_count": null,
   "metadata": {},
   "outputs": [],
   "source": [
    "%%time\n",
    "for i in range(batches):\n",
    "    X = ds.brcs[batch_ix[i*batch_size:(i+1)*batch_size]]\n",
    "    y = ds.ERA5_u10[batch_ix[i*batch_size:(i+1)*batch_size]]"
   ]
  },
  {
   "cell_type": "code",
   "execution_count": null,
   "metadata": {},
   "outputs": [],
   "source": [
    "source_file = h5py.File('/work/ka1176/shared_data/2020-03/dev_data/dev_data_random_all_map/train_data.h5', 'r')\n",
    "brcs = source_file['brcs']\n",
    "windspeed = source_file['windspeed']"
   ]
  },
  {
   "cell_type": "code",
   "execution_count": null,
   "metadata": {},
   "outputs": [],
   "source": [
    "%%time\n",
    "for i in range(batches):\n",
    "    X = brcs[i*batch_size:(i+1)*batch_size]\n",
    "    y = windspeed[i*batch_size:(i+1)*batch_size]"
   ]
  },
  {
   "cell_type": "code",
   "execution_count": null,
   "metadata": {},
   "outputs": [],
   "source": [
    "%%time\n",
    "for i in range(batches):\n",
    "    X = brcs[list(np.sort(batch_ix[i*batch_size:(i+1)*batch_size]))]\n",
    "    y = windspeed[i*batch_size:(i+1)*batch_size]"
   ]
  },
  {
   "cell_type": "code",
   "execution_count": null,
   "metadata": {},
   "outputs": [],
   "source": [
    "# try to generate new netcdf files with a bit less complexity than the original ones"
   ]
  },
  {
   "cell_type": "code",
   "execution_count": null,
   "metadata": {},
   "outputs": [],
   "source": [
    "# full set of variables that we would like to use\n",
    "# brcs\n",
    "# eff_scatter\n",
    "# windspeed\n",
    "# sp_lat\n",
    "# sp_lon\n",
    "# ddm_timestamp_unix"
   ]
  },
  {
   "cell_type": "code",
   "execution_count": null,
   "metadata": {},
   "outputs": [],
   "source": [
    "flag = 'valid'\n",
    "source_file = h5py.File(f'/work/ka1176/shared_data/2020-03/dev_data/dev_data_random_all_map/{flag}_data.h5', 'r')\n",
    "\n",
    "brcs = source_file['brcs'][:]\n",
    "eff_scatter = source_file['eff_scatter'][:]\n",
    "sp_lat = source_file['sp_lat'][:]\n",
    "sp_lon = source_file['sp_lon'][:]\n",
    "ddm_timestamp_unix = source_file['ddm_timestamp_unix'][:]\n",
    "windspeed = source_file['windspeed'][:]\n",
    "daystamp = ((ddm_timestamp_unix - ddm_timestamp_unix[0]) / 24 / 3600).astype(int)"
   ]
  },
  {
   "cell_type": "code",
   "execution_count": null,
   "metadata": {},
   "outputs": [],
   "source": [
    "for day in np.unique(daystamp):\n",
    "    ix = daystamp==day\n",
    "    dictionary = dict()\n",
    "    dictionary['coords'] = dict(sample=dict(dims=('sample',), attrs={}, data=np.arange(np.sum(ix))), attrs={}, dims=dict(sample=np.sum(ix)))\n",
    "    dictionary['data_vars'] = dict(#brcs=dict(dims='sample', attrs={}, data=brcs[ix]),\n",
    "                                   windspeed=dict(dims=('sample',), attrs={}, data=windspeed[ix]))\n",
    "    N = np.sum(ix)\n",
    "    dd = {'coords': {'sample': {'dims': ('sample',), \n",
    "                     'attrs': {}, \n",
    "                     'data': np.arange(N)},},\n",
    "          'attrs': {},\n",
    "          'dims': {'sample': N, 'delay': 17, 'doppler': 11},\n",
    "          'data_vars': {'windspeed': {'dims': ('sample',),\n",
    "                                      'attrs': {'Units': 'm/s', 'Source': 'ERA5', 'Description': 'Surface wind speed'},\n",
    "                                      'data': windspeed[ix]},\n",
    "                        'ddm_timestamp_unix': {'dims': ('sample',),\n",
    "                                               'attrs': {'Units': 's', 'Source': 'CyGNSS', 'Description': 'Sample (DDM) time stamp'},\n",
    "                                               'data': ddm_timestamp_unix[ix]},\n",
    "                        'brcs': {'dims': ('sample', 'delay', 'doppler',),\n",
    "                                 'attrs': {'Units': 'm*m', 'Source': 'CyGNSS', 'Description': 'Bistatic radar cross section DDM'},\n",
    "                                 'data': brcs[ix]},\n",
    "                        'eff_scatter': {'dims': ('sample', 'delay', 'doppler',),\n",
    "                                        'attrs': {'Units': 'm*m', 'Source': 'CyGNSS', 'Description': 'Effective scatter area --> DDM'},\n",
    "                                        'data': eff_scatter[ix]}\n",
    "                       }}\n",
    "    \n",
    "    \n",
    "    ds = xr.Dataset.from_dict(dd)\n",
    "    filename = f'/work/ka1176/shared_data/training/CyGNSS-2/{flag}/day_{day:03d}.nc'\n",
    "    if os.path.exists(filename):\n",
    "        os.remove(filename)\n",
    "    ds.to_netcdf(filename)\n",
    "    #print(ds)\n",
    "    #break\n",
    "    print(filename)"
   ]
  },
  {
   "cell_type": "code",
   "execution_count": null,
   "metadata": {},
   "outputs": [],
   "source": [
    "check = xr.open_dataset(filename)\n",
    "check"
   ]
  },
  {
   "cell_type": "code",
   "execution_count": null,
   "metadata": {},
   "outputs": [],
   "source": [
    "raw_ds = xr.open_dataset(raw_data_files[0])\n",
    "print(raw_ds)"
   ]
  },
  {
   "cell_type": "code",
   "execution_count": null,
   "metadata": {},
   "outputs": [],
   "source": [
    "ds"
   ]
  },
  {
   "cell_type": "code",
   "execution_count": null,
   "metadata": {},
   "outputs": [],
   "source": []
  },
  {
   "cell_type": "code",
   "execution_count": null,
   "metadata": {},
   "outputs": [],
   "source": []
  },
  {
   "cell_type": "code",
   "execution_count": null,
   "metadata": {},
   "outputs": [],
   "source": []
  },
  {
   "cell_type": "code",
   "execution_count": null,
   "metadata": {},
   "outputs": [],
   "source": []
  },
  {
   "cell_type": "code",
   "execution_count": null,
   "metadata": {},
   "outputs": [],
   "source": []
  },
  {
   "cell_type": "code",
   "execution_count": null,
   "metadata": {},
   "outputs": [],
   "source": []
  }
 ],
 "metadata": {
  "kernelspec": {
   "display_name": "Python 3 bleeding edge (using the module anaconda3/bleeding_edge)",
   "language": "python",
   "name": "anaconda3_bleeding"
  },
  "language_info": {
   "codemirror_mode": {
    "name": "ipython",
    "version": 3
   },
   "file_extension": ".py",
   "mimetype": "text/x-python",
   "name": "python",
   "nbconvert_exporter": "python",
   "pygments_lexer": "ipython3",
   "version": "3.6.10"
  }
 },
 "nbformat": 4,
 "nbformat_minor": 4
}
