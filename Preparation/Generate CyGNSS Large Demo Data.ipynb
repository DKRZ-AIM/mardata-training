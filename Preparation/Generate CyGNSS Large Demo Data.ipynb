{
 "cells": [
  {
   "cell_type": "code",
   "execution_count": 1,
   "metadata": {},
   "outputs": [],
   "source": [
    "import h5py\n",
    "import numpy as np\n",
    "\n",
    "from matplotlib import pyplot as plt\n",
    "import seaborn as sns\n",
    "\n",
    "import os\n",
    "import datetime\n",
    "import time"
   ]
  },
  {
   "cell_type": "code",
   "execution_count": 2,
   "metadata": {},
   "outputs": [],
   "source": [
    "import sys\n",
    "sys.path.append('/work/ka1176/caroline/gitlab/2020-03-gfz-remote-sensing/')\n",
    "from gfz_202003.preprocessing import preprocess as prep"
   ]
  },
  {
   "cell_type": "code",
   "execution_count": 3,
   "metadata": {},
   "outputs": [],
   "source": [
    "np.random.seed(1619)"
   ]
  },
  {
   "cell_type": "code",
   "execution_count": 4,
   "metadata": {},
   "outputs": [],
   "source": [
    "import xarray as xr\n",
    "xr.__version__\n",
    "\n",
    "import netCDF4 as nc"
   ]
  },
  {
   "cell_type": "code",
   "execution_count": 5,
   "metadata": {},
   "outputs": [
    {
     "name": "stdout",
     "output_type": "stream",
     "text": [
      "['/work/ka1176/shared_data/2020-03/raw_data/2020/212/cyg01.ddmi.s20200730-000000-e20200730-235959.l1.power-brcs.a30.d31.nc', '/work/ka1176/shared_data/2020-03/raw_data/2020/212/cyg03.ddmi.s20200730-000000-e20200730-235959.l1.power-brcs.a30.d31.nc', '/work/ka1176/shared_data/2020-03/raw_data/2020/212/cyg02.ddmi.s20200730-000000-e20200730-235959.l1.power-brcs.a30.d31.nc', '/work/ka1176/shared_data/2020-03/raw_data/2020/212/cyg07.ddmi.s20200730-000000-e20200730-235959.l1.power-brcs.a30.d31.nc', '/work/ka1176/shared_data/2020-03/raw_data/2020/212/cyg08.ddmi.s20200730-000000-e20200730-235959.l1.power-brcs.a30.d31.nc', '/work/ka1176/shared_data/2020-03/raw_data/2020/212/cyg06.ddmi.s20200730-000000-e20200730-235959.l1.power-brcs.a30.d31.nc', '/work/ka1176/shared_data/2020-03/raw_data/2020/212/cyg04.ddmi.s20200730-000000-e20200730-235959.l1.power-brcs.a30.d31.nc', '/work/ka1176/shared_data/2020-03/raw_data/2020/212/cyg05.ddmi.s20200730-000000-e20200730-235959.l1.power-brcs.a30.d31.nc']\n"
     ]
    }
   ],
   "source": [
    "raw_data_dir = '/work/ka1176/shared_data/2020-03/raw_data/2020/212/'\n",
    "raw_data_files = [os.path.join(raw_data_dir, ff) for ff in os.listdir(raw_data_dir) if ff.endswith('.nc')]\n",
    "\n",
    "print(raw_data_files)"
   ]
  },
  {
   "cell_type": "code",
   "execution_count": 6,
   "metadata": {},
   "outputs": [],
   "source": [
    "ds = xr.open_mfdataset(raw_data_files[1])"
   ]
  },
  {
   "cell_type": "code",
   "execution_count": 7,
   "metadata": {},
   "outputs": [],
   "source": [
    "batch_size = 128"
   ]
  },
  {
   "cell_type": "code",
   "execution_count": 8,
   "metadata": {},
   "outputs": [],
   "source": [
    "n_samples = len(ds.brcs)"
   ]
  },
  {
   "cell_type": "code",
   "execution_count": 9,
   "metadata": {},
   "outputs": [
    {
     "name": "stdout",
     "output_type": "stream",
     "text": [
      "1350\n"
     ]
    }
   ],
   "source": [
    "batches = n_samples // batch_size\n",
    "print(batches)"
   ]
  },
  {
   "cell_type": "code",
   "execution_count": 10,
   "metadata": {},
   "outputs": [
    {
     "name": "stdout",
     "output_type": "stream",
     "text": [
      "CPU times: user 4.68 s, sys: 2 ms, total: 4.69 s\n",
      "Wall time: 4.68 s\n"
     ]
    }
   ],
   "source": [
    "%%time\n",
    "for i in range(batches):\n",
    "    X = ds.brcs[i*batch_size:(i+1)*batch_size]\n",
    "    y = ds.ERA5_u10[i*batch_size:(i+1)*batch_size]"
   ]
  },
  {
   "cell_type": "code",
   "execution_count": 11,
   "metadata": {},
   "outputs": [],
   "source": [
    "batch_ix = np.arange(n_samples)\n",
    "np.random.shuffle(batch_ix)"
   ]
  },
  {
   "cell_type": "code",
   "execution_count": 12,
   "metadata": {},
   "outputs": [
    {
     "name": "stdout",
     "output_type": "stream",
     "text": [
      "CPU times: user 6.22 s, sys: 5 ms, total: 6.23 s\n",
      "Wall time: 6.22 s\n"
     ]
    }
   ],
   "source": [
    "%%time\n",
    "for i in range(batches):\n",
    "    X = ds.brcs[batch_ix[i*batch_size:(i+1)*batch_size]]\n",
    "    y = ds.ERA5_u10[batch_ix[i*batch_size:(i+1)*batch_size]]"
   ]
  },
  {
   "cell_type": "code",
   "execution_count": 13,
   "metadata": {},
   "outputs": [],
   "source": [
    "source_file = h5py.File('/work/ka1176/shared_data/2020-03/dev_data/dev_data_random_all_map/train_data.h5', 'r')\n",
    "brcs = source_file['brcs']\n",
    "windspeed = source_file['windspeed']"
   ]
  },
  {
   "cell_type": "code",
   "execution_count": 14,
   "metadata": {},
   "outputs": [
    {
     "name": "stdout",
     "output_type": "stream",
     "text": [
      "CPU times: user 730 ms, sys: 115 ms, total: 845 ms\n",
      "Wall time: 2.5 s\n"
     ]
    }
   ],
   "source": [
    "%%time\n",
    "for i in range(batches):\n",
    "    X = brcs[i*batch_size:(i+1)*batch_size]\n",
    "    y = windspeed[i*batch_size:(i+1)*batch_size]"
   ]
  },
  {
   "cell_type": "code",
   "execution_count": 15,
   "metadata": {},
   "outputs": [
    {
     "name": "stdout",
     "output_type": "stream",
     "text": [
      "CPU times: user 41.1 s, sys: 14 s, total: 55.1 s\n",
      "Wall time: 55.1 s\n"
     ]
    }
   ],
   "source": [
    "%%time\n",
    "for i in range(batches):\n",
    "    X = brcs[list(np.sort(batch_ix[i*batch_size:(i+1)*batch_size]))]\n",
    "    y = windspeed[i*batch_size:(i+1)*batch_size]"
   ]
  },
  {
   "cell_type": "code",
   "execution_count": 16,
   "metadata": {},
   "outputs": [],
   "source": [
    "# try to generate new netcdf files with a bit less complexity than the original ones"
   ]
  },
  {
   "cell_type": "code",
   "execution_count": 17,
   "metadata": {},
   "outputs": [],
   "source": [
    "# full set of variables that we would like to use\n",
    "# brcs\n",
    "# eff_scatter\n",
    "# windspeed\n",
    "# sp_lat\n",
    "# sp_lon\n",
    "# ddm_timestamp_unix"
   ]
  },
  {
   "cell_type": "code",
   "execution_count": 18,
   "metadata": {},
   "outputs": [],
   "source": [
    "source_file = h5py.File(f'/work/ka1176/shared_data/2020-03/dev_data/dev_data_random_all_map/train_data.h5', 'r')\n",
    "\n",
    "brcs = source_file['brcs'][:]\n",
    "eff_scatter = source_file['eff_scatter'][:]\n",
    "sp_lat = source_file['sp_lat'][:]\n",
    "sp_lon = source_file['sp_lon'][:]\n",
    "ddm_timestamp_unix = source_file['ddm_timestamp_unix'][:]\n",
    "ddm_timestamp_unix -= ddm_timestamp_unix[0]\n",
    "windspeed = source_file['windspeed'][:]\n",
    "daystamp = ((ddm_timestamp_unix) / 24 / 3600).astype(int)"
   ]
  },
  {
   "cell_type": "code",
   "execution_count": 19,
   "metadata": {},
   "outputs": [],
   "source": [
    "artificial_nan_fraction = 1e-3\n",
    "artifical_neg_v_fraction = 1e-4"
   ]
  },
  {
   "cell_type": "code",
   "execution_count": 24,
   "metadata": {
    "scrolled": true
   },
   "outputs": [
    {
     "name": "stdout",
     "output_type": "stream",
     "text": [
      "/work/ka1176/shared_data/training/CyGNSS-2/train/day_000.nc\n",
      "/work/ka1176/shared_data/training/CyGNSS-2/train/day_001.nc\n",
      "/work/ka1176/shared_data/training/CyGNSS-2/train/day_002.nc\n",
      "/work/ka1176/shared_data/training/CyGNSS-2/train/day_003.nc\n",
      "/work/ka1176/shared_data/training/CyGNSS-2/train/day_004.nc\n",
      "/work/ka1176/shared_data/training/CyGNSS-2/train/day_005.nc\n",
      "/work/ka1176/shared_data/training/CyGNSS-2/train/day_006.nc\n",
      "/work/ka1176/shared_data/training/CyGNSS-2/train/day_007.nc\n",
      "/work/ka1176/shared_data/training/CyGNSS-2/train/day_008.nc\n",
      "/work/ka1176/shared_data/training/CyGNSS-2/train/day_009.nc\n",
      "/work/ka1176/shared_data/training/CyGNSS-2/train/day_010.nc\n",
      "/work/ka1176/shared_data/training/CyGNSS-2/train/day_011.nc\n",
      "/work/ka1176/shared_data/training/CyGNSS-2/train/day_012.nc\n",
      "/work/ka1176/shared_data/training/CyGNSS-2/train/day_013.nc\n",
      "/work/ka1176/shared_data/training/CyGNSS-2/train/day_014.nc\n",
      "/work/ka1176/shared_data/training/CyGNSS-2/train/day_015.nc\n",
      "/work/ka1176/shared_data/training/CyGNSS-2/train/day_016.nc\n",
      "/work/ka1176/shared_data/training/CyGNSS-2/train/day_017.nc\n",
      "/work/ka1176/shared_data/training/CyGNSS-2/train/day_018.nc\n",
      "/work/ka1176/shared_data/training/CyGNSS-2/train/day_019.nc\n",
      "/work/ka1176/shared_data/training/CyGNSS-2/train/day_020.nc\n",
      "/work/ka1176/shared_data/training/CyGNSS-2/train/day_021.nc\n",
      "/work/ka1176/shared_data/training/CyGNSS-2/train/day_022.nc\n",
      "/work/ka1176/shared_data/training/CyGNSS-2/train/day_023.nc\n",
      "/work/ka1176/shared_data/training/CyGNSS-2/train/day_024.nc\n",
      "/work/ka1176/shared_data/training/CyGNSS-2/train/day_025.nc\n",
      "/work/ka1176/shared_data/training/CyGNSS-2/train/day_026.nc\n",
      "/work/ka1176/shared_data/training/CyGNSS-2/train/day_027.nc\n",
      "/work/ka1176/shared_data/training/CyGNSS-2/train/day_028.nc\n",
      "/work/ka1176/shared_data/training/CyGNSS-2/train/day_029.nc\n",
      "/work/ka1176/shared_data/training/CyGNSS-2/train/day_030.nc\n",
      "/work/ka1176/shared_data/training/CyGNSS-2/train/day_031.nc\n",
      "/work/ka1176/shared_data/training/CyGNSS-2/train/day_032.nc\n",
      "/work/ka1176/shared_data/training/CyGNSS-2/train/day_033.nc\n",
      "/work/ka1176/shared_data/training/CyGNSS-2/train/day_034.nc\n",
      "/work/ka1176/shared_data/training/CyGNSS-2/train/day_035.nc\n",
      "/work/ka1176/shared_data/training/CyGNSS-2/train/day_036.nc\n",
      "/work/ka1176/shared_data/training/CyGNSS-2/train/day_037.nc\n",
      "/work/ka1176/shared_data/training/CyGNSS-2/train/day_038.nc\n",
      "/work/ka1176/shared_data/training/CyGNSS-2/train/day_039.nc\n",
      "/work/ka1176/shared_data/training/CyGNSS-2/train/day_040.nc\n",
      "/work/ka1176/shared_data/training/CyGNSS-2/train/day_041.nc\n",
      "/work/ka1176/shared_data/training/CyGNSS-2/train/day_042.nc\n",
      "/work/ka1176/shared_data/training/CyGNSS-2/train/day_043.nc\n",
      "/work/ka1176/shared_data/training/CyGNSS-2/train/day_044.nc\n",
      "/work/ka1176/shared_data/training/CyGNSS-2/train/day_045.nc\n",
      "/work/ka1176/shared_data/training/CyGNSS-2/train/day_046.nc\n",
      "/work/ka1176/shared_data/training/CyGNSS-2/train/day_047.nc\n",
      "/work/ka1176/shared_data/training/CyGNSS-2/train/day_048.nc\n",
      "/work/ka1176/shared_data/training/CyGNSS-2/train/day_049.nc\n",
      "/work/ka1176/shared_data/training/CyGNSS-2/train/day_050.nc\n",
      "/work/ka1176/shared_data/training/CyGNSS-2/train/day_051.nc\n",
      "/work/ka1176/shared_data/training/CyGNSS-2/train/day_052.nc\n",
      "/work/ka1176/shared_data/training/CyGNSS-2/train/day_053.nc\n",
      "/work/ka1176/shared_data/training/CyGNSS-2/train/day_054.nc\n",
      "/work/ka1176/shared_data/training/CyGNSS-2/train/day_055.nc\n",
      "/work/ka1176/shared_data/training/CyGNSS-2/train/day_056.nc\n",
      "/work/ka1176/shared_data/training/CyGNSS-2/train/day_057.nc\n",
      "/work/ka1176/shared_data/training/CyGNSS-2/train/day_058.nc\n",
      "/work/ka1176/shared_data/training/CyGNSS-2/train/day_059.nc\n",
      "/work/ka1176/shared_data/training/CyGNSS-2/train/day_060.nc\n",
      "/work/ka1176/shared_data/training/CyGNSS-2/train/day_061.nc\n",
      "/work/ka1176/shared_data/training/CyGNSS-2/train/day_062.nc\n",
      "/work/ka1176/shared_data/training/CyGNSS-2/train/day_063.nc\n",
      "/work/ka1176/shared_data/training/CyGNSS-2/train/day_064.nc\n",
      "/work/ka1176/shared_data/training/CyGNSS-2/train/day_065.nc\n",
      "/work/ka1176/shared_data/training/CyGNSS-2/train/day_066.nc\n",
      "/work/ka1176/shared_data/training/CyGNSS-2/train/day_067.nc\n",
      "/work/ka1176/shared_data/training/CyGNSS-2/train/day_068.nc\n",
      "/work/ka1176/shared_data/training/CyGNSS-2/train/day_069.nc\n",
      "/work/ka1176/shared_data/training/CyGNSS-2/train/day_070.nc\n",
      "/work/ka1176/shared_data/training/CyGNSS-2/train/day_071.nc\n",
      "/work/ka1176/shared_data/training/CyGNSS-2/train/day_072.nc\n",
      "/work/ka1176/shared_data/training/CyGNSS-2/train/day_073.nc\n",
      "/work/ka1176/shared_data/training/CyGNSS-2/train/day_074.nc\n",
      "/work/ka1176/shared_data/training/CyGNSS-2/train/day_075.nc\n",
      "/work/ka1176/shared_data/training/CyGNSS-2/train/day_076.nc\n",
      "/work/ka1176/shared_data/training/CyGNSS-2/train/day_077.nc\n",
      "/work/ka1176/shared_data/training/CyGNSS-2/train/day_078.nc\n",
      "/work/ka1176/shared_data/training/CyGNSS-2/train/day_079.nc\n",
      "/work/ka1176/shared_data/training/CyGNSS-2/train/day_080.nc\n",
      "/work/ka1176/shared_data/training/CyGNSS-2/train/day_081.nc\n",
      "/work/ka1176/shared_data/training/CyGNSS-2/train/day_082.nc\n",
      "/work/ka1176/shared_data/training/CyGNSS-2/train/day_083.nc\n",
      "/work/ka1176/shared_data/training/CyGNSS-2/train/day_084.nc\n",
      "/work/ka1176/shared_data/training/CyGNSS-2/train/day_085.nc\n",
      "/work/ka1176/shared_data/training/CyGNSS-2/train/day_086.nc\n",
      "/work/ka1176/shared_data/training/CyGNSS-2/train/day_087.nc\n",
      "/work/ka1176/shared_data/training/CyGNSS-2/train/day_088.nc\n",
      "/work/ka1176/shared_data/training/CyGNSS-2/train/day_089.nc\n",
      "/work/ka1176/shared_data/training/CyGNSS-2/train/day_090.nc\n",
      "/work/ka1176/shared_data/training/CyGNSS-2/train/day_091.nc\n",
      "/work/ka1176/shared_data/training/CyGNSS-2/train/day_092.nc\n",
      "/work/ka1176/shared_data/training/CyGNSS-2/train/day_093.nc\n",
      "/work/ka1176/shared_data/training/CyGNSS-2/train/day_094.nc\n",
      "/work/ka1176/shared_data/training/CyGNSS-2/train/day_095.nc\n",
      "/work/ka1176/shared_data/training/CyGNSS-2/train/day_096.nc\n",
      "/work/ka1176/shared_data/training/CyGNSS-2/train/day_097.nc\n",
      "/work/ka1176/shared_data/training/CyGNSS-2/train/day_098.nc\n",
      "/work/ka1176/shared_data/training/CyGNSS-2/train/day_099.nc\n",
      "/work/ka1176/shared_data/training/CyGNSS-2/valid/day_100.nc\n",
      "/work/ka1176/shared_data/training/CyGNSS-2/valid/day_101.nc\n",
      "/work/ka1176/shared_data/training/CyGNSS-2/valid/day_102.nc\n",
      "/work/ka1176/shared_data/training/CyGNSS-2/valid/day_103.nc\n",
      "/work/ka1176/shared_data/training/CyGNSS-2/valid/day_104.nc\n",
      "/work/ka1176/shared_data/training/CyGNSS-2/valid/day_105.nc\n",
      "/work/ka1176/shared_data/training/CyGNSS-2/valid/day_106.nc\n",
      "/work/ka1176/shared_data/training/CyGNSS-2/valid/day_107.nc\n",
      "/work/ka1176/shared_data/training/CyGNSS-2/valid/day_108.nc\n",
      "/work/ka1176/shared_data/training/CyGNSS-2/valid/day_109.nc\n",
      "/work/ka1176/shared_data/training/CyGNSS-2/valid/day_110.nc\n",
      "/work/ka1176/shared_data/training/CyGNSS-2/valid/day_111.nc\n",
      "/work/ka1176/shared_data/training/CyGNSS-2/valid/day_112.nc\n",
      "/work/ka1176/shared_data/training/CyGNSS-2/valid/day_113.nc\n",
      "/work/ka1176/shared_data/training/CyGNSS-2/valid/day_114.nc\n",
      "/work/ka1176/shared_data/training/CyGNSS-2/valid/day_115.nc\n",
      "/work/ka1176/shared_data/training/CyGNSS-2/valid/day_116.nc\n",
      "/work/ka1176/shared_data/training/CyGNSS-2/valid/day_117.nc\n",
      "/work/ka1176/shared_data/training/CyGNSS-2/valid/day_118.nc\n",
      "/work/ka1176/shared_data/training/CyGNSS-2/valid/day_119.nc\n",
      "/work/ka1176/shared_data/training/CyGNSS-2/test/day_120.nc\n",
      "/work/ka1176/shared_data/training/CyGNSS-2/test/day_121.nc\n",
      "/work/ka1176/shared_data/training/CyGNSS-2/test/day_122.nc\n",
      "/work/ka1176/shared_data/training/CyGNSS-2/test/day_123.nc\n",
      "/work/ka1176/shared_data/training/CyGNSS-2/test/day_124.nc\n",
      "/work/ka1176/shared_data/training/CyGNSS-2/test/day_125.nc\n",
      "/work/ka1176/shared_data/training/CyGNSS-2/test/day_126.nc\n",
      "/work/ka1176/shared_data/training/CyGNSS-2/test/day_127.nc\n",
      "/work/ka1176/shared_data/training/CyGNSS-2/test/day_128.nc\n",
      "/work/ka1176/shared_data/training/CyGNSS-2/test/day_129.nc\n",
      "/work/ka1176/shared_data/training/CyGNSS-2/test/day_130.nc\n",
      "/work/ka1176/shared_data/training/CyGNSS-2/test/day_131.nc\n",
      "/work/ka1176/shared_data/training/CyGNSS-2/test/day_132.nc\n",
      "/work/ka1176/shared_data/training/CyGNSS-2/test/day_133.nc\n",
      "/work/ka1176/shared_data/training/CyGNSS-2/test/day_134.nc\n",
      "/work/ka1176/shared_data/training/CyGNSS-2/test/day_135.nc\n",
      "/work/ka1176/shared_data/training/CyGNSS-2/test/day_136.nc\n",
      "/work/ka1176/shared_data/training/CyGNSS-2/test/day_137.nc\n",
      "/work/ka1176/shared_data/training/CyGNSS-2/test/day_138.nc\n",
      "/work/ka1176/shared_data/training/CyGNSS-2/test/day_139.nc\n"
     ]
    }
   ],
   "source": [
    "for day in np.unique(daystamp):\n",
    "    if day < 100:\n",
    "        flag = 'train'\n",
    "    elif day < 120:\n",
    "        flag = 'valid'\n",
    "    elif day < 140:\n",
    "        flag = 'test'\n",
    "    else:\n",
    "        continue\n",
    "    ix = daystamp==day\n",
    "    dictionary = dict()\n",
    "    dictionary['coords'] = dict(sample=dict(dims=('sample',), attrs={}, data=np.arange(np.sum(ix))), attrs={}, dims=dict(sample=np.sum(ix)))\n",
    "    dictionary['data_vars'] = dict(#brcs=dict(dims='sample', attrs={}, data=brcs[ix]),\n",
    "                                   windspeed=dict(dims=('sample',), attrs={}, data=windspeed[ix]))\n",
    "    \n",
    "    N = np.sum(ix)\n",
    "    \n",
    "    brcs_vals = brcs[ix]\n",
    "    # replace BRCS by NaN randomly\n",
    "    zeta = np.random.rand(N)\n",
    "    brcs_vals[zeta < artificial_nan_fraction, :, :] = None\n",
    "    \n",
    "    windspeed_vals = windspeed[ix]\n",
    "    zeta = np.random.rand(N)\n",
    "    windspeed_vals[zeta < artifical_neg_v_fraction] = -1.0\n",
    "    \n",
    "    zeta = np.random.rand(N)\n",
    "    windspeed_vals[zeta < artificial_nan_fraction] = None\n",
    "    \n",
    "    dd = {'coords': {'sample': {'dims': ('sample',), \n",
    "                     'attrs': {'Description': 'CyGNSS dataset for the Efficient Data Preprocessing Tutorial'}, \n",
    "                     'data': np.arange(N)},},\n",
    "          'attrs': {},\n",
    "          'dims': {'sample': N, 'delay': 17, 'doppler': 11},\n",
    "          'data_vars': {'windspeed': {'dims': ('sample',),\n",
    "                                      'attrs': {'Unit': 'meter/second', 'Source': 'ERA5', 'Description': 'Surface wind speed', 'Fill value': '-1'},\n",
    "                                      'data': windspeed_vals},\n",
    "                        'ddm_timestamp': {'dims': ('sample',),\n",
    "                                          'attrs': {'Unit': 'second', 'Source': 'CyGNSS', 'Description': 'Sample (DDM) time stamp'},\n",
    "                                          'data': ddm_timestamp_unix[ix]},\n",
    "                        'brcs': {'dims': ('sample', 'delay', 'doppler',),\n",
    "                                 'attrs': {'Unit': 'meter2', 'Source': 'CyGNSS', 'Description': 'Bistatic radar cross section DDM'},\n",
    "                                 'data': brcs_vals},\n",
    "                        #'eff_scatter': {'dims': ('sample', 'delay', 'doppler',),\n",
    "                        #                'attrs': {'Unit': 'meter2', 'Source': 'CyGNSS', 'Description': 'Effective scatter area --> DDM'},\n",
    "                        #                'data': eff_scatter[ix]}\n",
    "                       }}\n",
    "    \n",
    "    \n",
    "    ds = xr.Dataset.from_dict(dd)\n",
    "    filename = f'/work/ka1176/shared_data/training/CyGNSS-2/{flag}/day_{day:03d}.nc'\n",
    "    if os.path.exists(filename):\n",
    "        os.remove(filename)\n",
    "    ds.to_netcdf(filename)\n",
    "    #print(ds)\n",
    "    #break\n",
    "    print(filename)"
   ]
  },
  {
   "cell_type": "code",
   "execution_count": null,
   "metadata": {},
   "outputs": [],
   "source": [
    "ds = xr.open_dataset(raw_data_files[-1])"
   ]
  },
  {
   "cell_type": "code",
   "execution_count": null,
   "metadata": {},
   "outputs": [],
   "source": [
    "ds"
   ]
  },
  {
   "cell_type": "code",
   "execution_count": null,
   "metadata": {},
   "outputs": [],
   "source": []
  },
  {
   "cell_type": "code",
   "execution_count": null,
   "metadata": {},
   "outputs": [],
   "source": []
  },
  {
   "cell_type": "code",
   "execution_count": null,
   "metadata": {},
   "outputs": [],
   "source": []
  }
 ],
 "metadata": {
  "kernelspec": {
   "display_name": "Python 3 bleeding edge (using the module anaconda3/bleeding_edge)",
   "language": "python",
   "name": "anaconda3_bleeding"
  },
  "language_info": {
   "codemirror_mode": {
    "name": "ipython",
    "version": 3
   },
   "file_extension": ".py",
   "mimetype": "text/x-python",
   "name": "python",
   "nbconvert_exporter": "python",
   "pygments_lexer": "ipython3",
   "version": "3.6.10"
  }
 },
 "nbformat": 4,
 "nbformat_minor": 4
}
