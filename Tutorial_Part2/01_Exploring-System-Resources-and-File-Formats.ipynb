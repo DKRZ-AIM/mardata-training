{
 "cells": [
  {
   "cell_type": "markdown",
   "metadata": {},
   "source": [
    "# Using File-Formats and exploring Resources\n",
    "\n",
    "Pre-Processing your data requires you to be somewhat familier with three aspects related to file formats on the one hand and system resources on the other:\n",
    "    \n",
    "1. The data model that is implemented by data description formats such as HDF5 and NetCDF (We covered those already in the lecture slides)\n",
    "2. Some idea of the Application Programming Interface (API) that the related helper utilities and libraries expose for you to use.\n",
    "3. A basic system understanding to know which tuneables you might want to explore and activate/deactivate.\n",
    "4. A performance expectation and a strategy to evalute how well you are doing in comparison what may be possible."
   ]
  },
  {
   "cell_type": "markdown",
   "metadata": {},
   "source": [
    "In this notebook you will become more familier with important basics on these 4 points. Exhaustively covering these is unfortunetly not possible. Technologies continue to evolve and some tools and details are only valid on particular systems, so that including them here may not be a good use of your time.\n",
    "\n",
    "We can try, however,to equip you with familiarity with some common tools and a set of expectations that allow you to ask the right questions to the operators that are providing you with compute and storage resources."
   ]
  },
  {
   "cell_type": "code",
   "execution_count": 149,
   "metadata": {},
   "outputs": [],
   "source": [
    "# package imports we are going to need (please make yourself noticeable if this cell fails so we can help ;)\n",
    "# The YAMLLoadWarning is expected and can be ignored.\n",
    "import os\n",
    "import netCDF4\n",
    "import h5py\n",
    "import xarray"
   ]
  },
  {
   "cell_type": "markdown",
   "metadata": {},
   "source": [
    "# 0. HPC System Information\n",
    "\n",
    "On your own computer you often only have a single storage device, and thus do not need to v\n",
    "worry about different performance properties or quota and capacity limits.\n",
    "This can differ on most supercopmuters and many cloud systems."
   ]
  },
  {
   "cell_type": "markdown",
   "metadata": {},
   "source": [
    "## Hardware Information"
   ]
  },
  {
   "cell_type": "markdown",
   "metadata": {},
   "source": [
    "### CPU"
   ]
  },
  {
   "cell_type": "code",
   "execution_count": 150,
   "metadata": {},
   "outputs": [
    {
     "name": "stdout",
     "output_type": "stream",
     "text": [
      "Architecture:          x86_64\n",
      "CPU op-mode(s):        32-bit, 64-bit\n",
      "Byte Order:            Little Endian\n",
      "CPU(s):                48\n",
      "On-line CPU(s) list:   0-47\n",
      "Thread(s) per core:    2\n",
      "Core(s) per socket:    12\n",
      "Socket(s):             2\n",
      "NUMA node(s):          2\n",
      "Vendor ID:             GenuineIntel\n",
      "CPU family:            6\n",
      "Model:                 63\n",
      "Model name:            Intel(R) Xeon(R) CPU E5-2680 v3 @ 2.50GHz\n",
      "Stepping:              2\n",
      "CPU MHz:               1200.000\n",
      "CPU max MHz:           2501.0000\n",
      "CPU min MHz:           1200.0000\n",
      "BogoMIPS:              5000.01\n",
      "Virtualization:        VT-x\n",
      "L1d cache:             32K\n",
      "L1i cache:             32K\n",
      "L2 cache:              256K\n",
      "L3 cache:              30720K\n",
      "NUMA node0 CPU(s):     0-11,24-35\n",
      "NUMA node1 CPU(s):     12-23,36-47\n",
      "Flags:                 fpu vme de pse tsc msr pae mce cx8 apic sep mtrr pge mca cmov pat pse36 clflush dts acpi mmx fxsr sse sse2 ss ht tm pbe syscall nx pdpe1gb rdtscp lm constant_tsc arch_perfmon pebs bts rep_good xtopology nonstop_tsc aperfmperf eagerfpu pni pclmulqdq dtes64 monitor ds_cpl vmx smx est tm2 ssse3 fma cx16 xtpr pdcm pcid dca sse4_1 sse4_2 x2apic movbe popcnt tsc_deadline_timer aes xsave avx f16c rdrand lahf_lm abm ida arat epb xsaveopt pln pts dtherm invpcid_single pti retpoline ibrs ibpb stibp tpr_shadow vnmi flexpriority ept vpid fsgsbase bmi1 avx2 smep bmi2 erms invpcid cqm cqm_llc cqm_occup_llc\n"
     ]
    }
   ],
   "source": [
    "!lscpu"
   ]
  },
  {
   "cell_type": "code",
   "execution_count": 4,
   "metadata": {},
   "outputs": [],
   "source": [
    "# in a terminal try top/htop (htop is not always available)"
   ]
  },
  {
   "cell_type": "markdown",
   "metadata": {},
   "source": [
    "### Memory"
   ]
  },
  {
   "cell_type": "code",
   "execution_count": 5,
   "metadata": {},
   "outputs": [],
   "source": [
    "# in a seperate terminal try:\n",
    "# free -h"
   ]
  },
  {
   "cell_type": "markdown",
   "metadata": {},
   "source": [
    "### GPUs"
   ]
  },
  {
   "cell_type": "code",
   "execution_count": 6,
   "metadata": {},
   "outputs": [
    {
     "name": "stdout",
     "output_type": "stream",
     "text": [
      "Wed Sep 29 06:48:00 2021       \n",
      "+-----------------------------------------------------------------------------+\n",
      "| NVIDIA-SMI 418.87.00    Driver Version: 418.87.00    CUDA Version: 10.1     |\n",
      "|-------------------------------+----------------------+----------------------+\n",
      "| GPU  Name        Persistence-M| Bus-Id        Disp.A | Volatile Uncorr. ECC |\n",
      "| Fan  Temp  Perf  Pwr:Usage/Cap|         Memory-Usage | GPU-Util  Compute M. |\n",
      "|===============================+======================+======================|\n",
      "|   0  Tesla K80           Off  | 00000000:04:00.0 Off |                    0 |\n",
      "| N/A   32C    P8    25W / 149W |     11MiB / 11441MiB |      0%      Default |\n",
      "+-------------------------------+----------------------+----------------------+\n",
      "|   1  Tesla K80           Off  | 00000000:05:00.0 Off |                    0 |\n",
      "| N/A   29C    P8    29W / 149W |     16MiB / 11441MiB |      0%      Default |\n",
      "+-------------------------------+----------------------+----------------------+\n",
      "|   2  Tesla K80           Off  | 00000000:84:00.0 Off |                    0 |\n",
      "| N/A   31C    P8    26W / 149W |     16MiB / 11441MiB |      0%      Default |\n",
      "+-------------------------------+----------------------+----------------------+\n",
      "|   3  Tesla K80           Off  | 00000000:85:00.0 Off |                    0 |\n",
      "| N/A   36C    P8    29W / 149W |     16MiB / 11441MiB |      0%      Default |\n",
      "+-------------------------------+----------------------+----------------------+\n",
      "                                                                               \n",
      "+-----------------------------------------------------------------------------+\n",
      "| Processes:                                                       GPU Memory |\n",
      "|  GPU       PID   Type   Process name                             Usage      |\n",
      "|=============================================================================|\n",
      "|    0     19933      G   /usr/bin/Xorg                                 10MiB |\n",
      "|    1     19933      G   /usr/bin/Xorg                                 15MiB |\n",
      "|    2     19933      G   /usr/bin/Xorg                                 15MiB |\n",
      "|    3     19933      G   /usr/bin/Xorg                                 15MiB |\n",
      "+-----------------------------------------------------------------------------+\n"
     ]
    }
   ],
   "source": [
    "!nvidia-smi"
   ]
  },
  {
   "cell_type": "markdown",
   "metadata": {},
   "source": [
    "### Some Visual Tools"
   ]
  },
  {
   "cell_type": "code",
   "execution_count": 7,
   "metadata": {},
   "outputs": [],
   "source": [
    "# in a seperate terminal try:\n",
    "# cd ~/mardata/training/Tutorial_Part2 && lstopo --of png lstopo.png"
   ]
  },
  {
   "cell_type": "markdown",
   "metadata": {},
   "source": [
    "## Storage Information and Locations to Store your Data\n",
    "\n",
    "A good first step is therefor to familiarize with the available storage locations.\n",
    "A useful utility to do so is for example the `df` command which lists available storage locations."
   ]
  },
  {
   "cell_type": "code",
   "execution_count": 8,
   "metadata": {},
   "outputs": [
    {
     "name": "stdout",
     "output_type": "stream",
     "text": [
      "Filesystem                                   Size  Used Avail Use% Mounted on\n",
      "tmpfs                                         16M   12K   16M   1% /\n",
      "/dev/loop3                                   4.6G  4.6G     0 100% /bin\n",
      "devtmpfs                                     126G  292K  126G   1% /mnt/lustre01/spack-workplace/spack-rhel6/singularity-3.6.1-k6cdmk/var/singularity/mnt/session/final/dev\n",
      "/dev/mapper/vg_01-lv_tmp                     408G   78M  387G   1% /tmp\n",
      "tmpfs                                        126G  628K  126G   1% /dev/shm\n",
      "/dev/mapper/vg_01-lv_root                     50G   17G   30G  36% /var/tmp\n",
      "10.50.32.53@o2ib:10.50.32.54@o2ib:/lustre01   21P   18P  2.8P  87% /work\n",
      "10.50.33.12@o2ib:10.50.33.13@o2ib:/lustre02   33P   29P  3.5P  90% /mnt/lustre02\n"
     ]
    }
   ],
   "source": [
    "!df -h"
   ]
  },
  {
   "cell_type": "code",
   "execution_count": 9,
   "metadata": {},
   "outputs": [
    {
     "name": "stdout",
     "output_type": "stream",
     "text": [
      "NAME             MAJ:MIN RM   SIZE RO TYPE MOUNTPOINT\n",
      "loop0              7:0    0   4.6G  1 loop \n",
      "loop1              7:1    0   4.6G  1 loop \n",
      "loop2              7:2    0   4.6G  1 loop \n",
      "loop3              7:3    0   4.6G  1 loop /mnt/lustre01/spack-workplace/spack-r\n",
      "sda                8:0    0 465.8G  0 disk \n",
      "├─sda1             8:1    0   500M  0 part \n",
      "└─sda2             8:2    0 465.3G  0 part \n",
      "  ├─vg_01-lv_root\n",
      "  │              253:0    0    50G  0 lvm  /mnt/lustre01/spack-workplace/spack-r\n",
      "  ├─vg_01-lv_swap\n",
      "  │              253:1    0  1000M  0 lvm  [SWAP]\n",
      "  └─vg_01-lv_tmp 253:2    0 414.3G  0 lvm  /mnt/lustre01/spack-workplace/spack-r\n"
     ]
    }
   ],
   "source": [
    "!lsblk"
   ]
  },
  {
   "cell_type": "markdown",
   "metadata": {},
   "source": [
    "In many cases, especially for files that are not large datasets (think multiple hundreds of MiB or GiB) there is usually no need to look beyond the `PATH` of your dataset.\n",
    "When you are dealing with large datasets however, you can quickly run out of quota or will be notified by a sites operating to change how you are using the system.\n",
    "\n",
    "Very common are the following three locations to look out for:\n",
    "\n",
    "* `/home/<username>`: Your home directory, use mostly for user configuration und links to your projects. Some sites discourage users from storing large amounts of data in here, especially if backups are provided\n",
    "* `/work/<project>`: Typically your project gets some storage capacity granted for which the site provides you with a path were to store your project data\n",
    "* `/scratch/...`: It is common to create many files that are only temporarilly needed when running applications or pre/post-processing tasks. As it is easy to forget or can become very cumbersome to keep track manually which files can be deleted, some locations come with \"automatic\" housekeeping routines. The scratch space is often not counted against your quota, but data in this locations will automatically deleted after some time if you do not move or copy it to a permanent location.\n",
    "\n",
    "Usually a site documents their recommendations somewhere. DKRZ, for example, has a entry on file systems in its wiki: https://www.dkrz.de/up/systems/mistral/file-systems"
   ]
  },
  {
   "cell_type": "markdown",
   "metadata": {},
   "source": [
    "Often it is useful to define a link in the filesystem or a variable in your program that allows you to easily change storage locations, without needing to search and replace hardcoded locations:"
   ]
  },
  {
   "cell_type": "code",
   "execution_count": 151,
   "metadata": {},
   "outputs": [],
   "source": [
    "# a variable available all the following Python cells\n",
    "DATA = \"/mnt/lustre01/work/ka1176/shared_data/training/weatherbench\""
   ]
  },
  {
   "cell_type": "code",
   "execution_count": 25,
   "metadata": {},
   "outputs": [
    {
     "name": "stdout",
     "output_type": "stream",
     "text": [
      "ln: failed to create symbolic link 'scratch/k202109': File exists\n"
     ]
    }
   ],
   "source": [
    "# Your scratch space directory may not be automatically created, so you can create it yourself\n",
    "SCRATCH = f'/mnt/lustre01/scratch/k/k202109'\n",
    "!mkdir -p \"{SCRATCH}\"\n",
    "\n",
    "# Sometimes, a variable with an absolute path is unconvienient to have in a code base.\n",
    "# As an alternative you can work with relative paths in your program, or create symbolic links that points to the actual storage location.\n",
    "# Here we create such a link which allows you to access the scratch space for example using \"./scratch\" as a your path\n",
    "!ln -s \"{SCRATCH}\" scratch"
   ]
  },
  {
   "cell_type": "code",
   "execution_count": 115,
   "metadata": {},
   "outputs": [],
   "source": [
    "# lets also create one for data\n",
    "!ln -s \"{DATA}\" scratch"
   ]
  },
  {
   "cell_type": "markdown",
   "metadata": {},
   "source": [
    "## Inspecting Files"
   ]
  },
  {
   "cell_type": "code",
   "execution_count": 13,
   "metadata": {},
   "outputs": [
    {
     "name": "stdout",
     "output_type": "stream",
     "text": [
      "total 568K\n",
      "-rw-r--r-- 1 k202109 ku0598  54K Sep 29 06:48 01_Exploring-System-Resources-and-File-Formats.ipynb\n",
      "-rw-r--r-- 1 k202109 ku0598  22K Sep 28 13:51 02_CyGNSS_RawData_To_PyTorch.ipynb\n",
      "-rw-r--r-- 1 k202109 ku0598 280K Sep 29 00:00 data.h5\n",
      "-rw-r--r-- 1 k202109 ku0598 1.4K Sep 29 00:00 data_chunked.h5\n",
      "-rw-r--r-- 1 k202109 ku0598  71K Sep 28 18:44 logical.png\n",
      "-rw-r--r-- 1 k202109 ku0598  63K Sep 29 06:34 lstopo.png\n",
      "-rw-r--r-- 1 k202109 ku0598  62K Sep 28 18:44 physical.png\n",
      "lrwxrwxrwx 1 k202109 ku0598   31 Sep 29 06:22 scratch -> /mnt/lustre01/scratch/k/k202109\n",
      "-rw-r--r-- 1 k202109 ku0598  331 Sep 28 18:56 test.nc\n"
     ]
    }
   ],
   "source": [
    "# list files\n",
    "!ls -lh"
   ]
  },
  {
   "cell_type": "code",
   "execution_count": 20,
   "metadata": {},
   "outputs": [
    {
     "name": "stdout",
     "output_type": "stream",
     "text": [
      "  File: ./scratch -> /mnt/lustre01/scratch/k/k202109\n",
      "  Size: 31        \tBlocks: 0          IO Block: 4096   symbolic link\n",
      "Device: 4f53a12ah/1330880810d\tInode: 144123863154856523  Links: 1\n",
      "Access: (0777/lrwxrwxrwx)  Uid: (23913/ k202109)   Gid: ( 1301/  ku0598)\n",
      "Access: 2021-09-29 06:22:41.000000000 +0200\n",
      "Modify: 2021-09-29 06:22:41.000000000 +0200\n",
      "Change: 2021-09-29 06:22:41.000000000 +0200\n",
      " Birth: -\n"
     ]
    }
   ],
   "source": [
    "# Look our for the \"Inode\" of the link itself\n",
    "!stat ./scratch"
   ]
  },
  {
   "cell_type": "code",
   "execution_count": 123,
   "metadata": {},
   "outputs": [
    {
     "name": "stdout",
     "output_type": "stream",
     "text": [
      "stat: cannot stat '{SCRATCH}': No such file or directory\n"
     ]
    }
   ],
   "source": [
    "# And the actual entry when providing the true path:\n",
    "!stat \"{SCRATCH}\""
   ]
  },
  {
   "cell_type": "markdown",
   "metadata": {},
   "source": [
    "## 1. Data Formats\n",
    "\n",
    "In the lecture earlier we already saw examples for different technologies and learned how they relate to each other.\n",
    "In this notebook we will take a handson approach to get started with using some of these."
   ]
  },
  {
   "cell_type": "markdown",
   "metadata": {},
   "source": [
    "## Command-line Utilities\n",
    "\n",
    "Much of the still existing tooling did not consider Python as the primary mode of usage:\n",
    "* Applications typically would have used a C or Fortran API to access HDF5 or NetCDF.\n",
    "* Users most of the time used various command-line interface (CLI) utilities to interact.\n",
    "\n",
    "These are still useful today, even though most of the information can also be accessed from the Python API we will learn about later."
   ]
  },
  {
   "cell_type": "markdown",
   "metadata": {},
   "source": [
    "**Task:** Briefly familiarize yourself with the two utilities `h5dump` and `ncdump` to display some basic information."
   ]
  },
  {
   "cell_type": "code",
   "execution_count": 23,
   "metadata": {},
   "outputs": [
    {
     "name": "stdout",
     "output_type": "stream",
     "text": [
      "usage: h5dump [OPTIONS] files\n",
      "  OPTIONS\n",
      "     -h,   --help         Print a usage message and exit\n",
      "     -V,   --version      Print version number and exit\n",
      "--------------- File Options ---------------\n",
      "     -n,   --contents     Print a list of the file contents and exit\n",
      "                          Optional value 1 also prints attributes.\n",
      "     -B,   --superblock   Print the content of the super block\n",
      "     -H,   --header       Print the header only; no data is displayed\n",
      "     -f D, --filedriver=D Specify which driver to open the file with\n",
      "     -o F, --output=F     Output raw data into file F\n",
      "     -b B, --binary=B     Binary file output, of form B\n",
      "     -O F, --ddl=F        Output ddl text into file F\n",
      "                          Use blank(empty) filename F to suppress ddl display\n",
      "--------------- Object Options ---------------\n",
      "     -a P, --attribute=P  Print the specified attribute\n",
      "                          If an attribute name contains a slash (/), escape the\n",
      "                          slash with a preceding backslash (\\).\n",
      "                          (See example section below.)\n",
      "     -d P, --dataset=P    Print the specified dataset\n",
      "     -g P, --group=P      Print the specified group and all members\n",
      "     -l P, --soft-link=P  Print the value(s) of the specified soft link\n",
      "     -t P, --datatype=P   Print the specified named datatype\n",
      "     -N P, --any_path=P   Print any attribute, dataset, group, datatype, or link that matches P\n",
      "                          P can be the absolute path or just a relative path.\n",
      "     -A,   --onlyattr     Print the header and value of attributes\n",
      "                          Optional value 0 suppresses printing attributes.\n",
      "     --vds-view-first-missing Set the VDS bounds to first missing mapped elements.\n",
      "     --vds-gap-size=N     Set the missing file gap size, N=non-negative integers\n",
      "--------------- Object Property Options ---------------\n",
      "     -i,   --object-ids   Print the object ids\n",
      "     -p,   --properties   Print dataset filters, storage layout and fill value\n",
      "     -M L, --packedbits=L Print packed bits as unsigned integers, using mask\n",
      "                          format L for an integer dataset specified with\n",
      "                          option -d. L is a list of offset,length values,\n",
      "                          separated by commas. Offset is the beginning bit in\n",
      "                          the data value and length is the number of bits of\n",
      "                          the mask.\n",
      "     -R,   --region       Print dataset pointed by region references\n",
      "--------------- Formatting Options ---------------\n",
      "     -e,   --escape       Escape non printing characters\n",
      "     -r,   --string       Print 1-byte integer datasets as ASCII\n",
      "     -y,   --noindex      Do not print array indices with the data\n",
      "     -m T, --format=T     Set the floating point output format\n",
      "     -q Q, --sort_by=Q    Sort groups and attributes by index Q\n",
      "     -z Z, --sort_order=Z Sort groups and attributes by order Z\n",
      "     --enable-error-stack Prints messages from the HDF5 error stack as they occur.\n",
      "                          Optional value 2 also prints file open errors.\n",
      "     --no-compact-subset  Disable compact form of subsetting and allow the use\n",
      "                          of \"[\" in dataset names.\n",
      "     -w N, --width=N      Set the number of columns of output. A value of 0 (zero)\n",
      "                          sets the number of columns to the maximum (65535).\n",
      "                          Default width is 80 columns.\n",
      "--------------- XML Options ---------------\n",
      "     -x,   --xml          Output in XML using Schema\n",
      "     -u,   --use-dtd      Output in XML using DTD\n",
      "     -D U, --xml-dtd=U    Use the DTD or schema at U\n",
      "     -X S, --xml-ns=S     (XML Schema) Use qualified names n the XML\n",
      "                          \":\": no namespace, default: \"hdf5:\"\n",
      "                          E.g., to dump a file called `-f', use h5dump -- -f\n",
      "\n",
      "--------------- Subsetting Options ---------------\n",
      " Subsetting is available by using the following options with a dataset\n",
      " option. Subsetting is done by selecting a hyperslab from the data.\n",
      " Thus, the options mirror those for performing a hyperslab selection.\n",
      " One of the START, COUNT, STRIDE, or BLOCK parameters are mandatory if you do subsetting.\n",
      " The STRIDE, COUNT, and BLOCK parameters are optional and will default to 1 in\n",
      " each dimension. START is optional and will default to 0 in each dimension.\n",
      "\n",
      "      -s START,  --start=START    Offset of start of subsetting selection\n",
      "      -S STRIDE, --stride=STRIDE  Hyperslab stride\n",
      "      -c COUNT,  --count=COUNT    Number of blocks to include in selection\n",
      "      -k BLOCK,  --block=BLOCK    Size of block in hyperslab\n",
      "  START, COUNT, STRIDE, and BLOCK - is a list of integers the number of which are equal to the\n",
      "      number of dimensions in the dataspace being queried\n",
      "      (Alternate compact form of subsetting is described in the Reference Manual)\n",
      "\n",
      "--------------- Option Argument Conventions ---------------\n",
      "  D - is the file driver to use in opening the file. Acceptable values\n",
      "      are \"sec2\", \"family\", \"split\", \"multi\", \"direct\", and \"stream\". Without\n",
      "      the file driver flag, the file will be opened with each driver in\n",
      "      turn and in the order specified above until one driver succeeds\n",
      "      in opening the file.\n",
      "      See examples below for family, split, and multi driver special file name usage.\n",
      "\n",
      "  F - is a filename.\n",
      "  P - is the full path from the root group to the object.\n",
      "  N - is an integer greater than 1.\n",
      "  T - is a string containing the floating point format, e.g '%.3f'\n",
      "  U - is a URI reference (as defined in [IETF RFC 2396],\n",
      "        updated by [IETF RFC 2732])\n",
      "  B - is the form of binary output: NATIVE for a memory type, FILE for the\n",
      "        file type, LE or BE for pre-existing little or big endian types.\n",
      "        Must be used with -o (output file) and it is recommended that\n",
      "        -d (dataset) is used. B is an optional argument, defaults to NATIVE\n",
      "  Q - is the sort index type. It can be \"creation_order\" or \"name\" (default)\n",
      "  Z - is the sort order type. It can be \"descending\" or \"ascending\" (default)\n",
      "\n",
      "--------------- Examples ---------------\n",
      "\n",
      "  1) Attribute foo of the group /bar_none in file quux.h5\n",
      "\n",
      "      h5dump -a /bar_none/foo quux.h5\n",
      "\n",
      "     Attribute \"high/low\" of the group /bar_none in the file quux.h5\n",
      "\n",
      "      h5dump -a \"/bar_none/high\\/low\" quux.h5\n",
      "\n",
      "  2) Selecting a subset from dataset /foo in file quux.h5\n",
      "\n",
      "      h5dump -d /foo -s \"0,1\" -S \"1,1\" -c \"2,3\" -k \"2,2\" quux.h5\n",
      "\n",
      "  3) Saving dataset 'dset' in file quux.h5 to binary file 'out.bin'\n",
      "        using a little-endian type\n",
      "\n",
      "      h5dump -d /dset -b LE -o out.bin quux.h5\n",
      "\n",
      "  4) Display two packed bits (bits 0-1 and bits 4-6) in the dataset /dset\n",
      "\n",
      "      h5dump -d /dset -M 0,1,4,3 quux.h5\n",
      "\n",
      "  5) Dataset foo in files file1.h5 file2.h5 file3.h5\n",
      "\n",
      "      h5dump -d /foo file1.h5 file2.h5 file3.h5\n",
      "\n",
      "  6) Dataset foo in split files splitfile-m.h5 splitfile-r.h5\n",
      "\n",
      "      h5dump -d /foo -f split splitfile\n",
      "\n",
      "  7) Dataset foo in multi files mf-s.h5, mf-b.h5, mf-r.h5, mf-g.h5, mf-l.h5 and mf-o.h5\n",
      "\n",
      "      h5dump -d /foo -f multi mf\n",
      "\n",
      "  8) Dataset foo in family files fam00000.h5 fam00001.h5 and fam00002.h5\n",
      "\n",
      "      h5dump -d /foo -f family fam%05d.h5\n",
      "\n"
     ]
    }
   ],
   "source": [
    "!h5dump --help"
   ]
  },
  {
   "cell_type": "code",
   "execution_count": 75,
   "metadata": {},
   "outputs": [
    {
     "name": "stdout",
     "output_type": "stream",
     "text": [
      "ncdump [-c|-h] [-v ...] [[-b|-f] [c|f]] [-l len] [-n name] [-p n[,n]] [-k] [-x] [-s] [-t|-i] [-g ...] [-w] [-Ln] file\n",
      "  [-c]             Coordinate variable data and header information\n",
      "  [-h]             Header information only, no data\n",
      "  [-v var1[,...]]  Data for variable(s) <var1>,... only\n",
      "  [-b [c|f]]       Brief annotations for C or Fortran indices in data\n",
      "  [-f [c|f]]       Full annotations for C or Fortran indices in data\n",
      "  [-l len]         Line length maximum in data section (default 80)\n",
      "  [-n name]        Name for netCDF (default derived from file name)\n",
      "  [-p n[,n]]       Display floating-point values with less precision\n",
      "  [-k]             Output kind of netCDF file\n",
      "  [-s]             Output special (virtual) attributes\n",
      "  [-t]             Output time data as date-time strings\n",
      "  [-i]             Output time data as date-time strings with ISO-8601 'T' separator\n",
      "  [-g grp1[,...]]  Data and metadata for group(s) <grp1>,... only\n",
      "  [-w]             With client-side caching of variables for DAP URLs\n",
      "  [-x]             Output XML (NcML) instead of CDL\n",
      "  [-Xp]            Unconditionally suppress output of the properties attribute\n",
      "  [-Ln]            Set log level to n (>= 0); ignore if logging not enabled.\n",
      "  file             Name of netCDF file (or URL if DAP access enabled)\n",
      "netcdf library version 4.6.1 of Dec 20 2018 23:47:22 $\n"
     ]
    }
   ],
   "source": [
    "!ncdump"
   ]
  },
  {
   "cell_type": "markdown",
   "metadata": {},
   "source": [
    "## 2. HDF5 & NetCDF: Lower-level APIs even though you may most often use xarray \n",
    "\n",
    "HDF5 and NetCDF are two popular data formats used by many scientists. Especially NetCDF is common in the climate sciences.\n",
    "in the following two sections we will have a closer look at their APIs and the resulting data that is written to disk using the h5dump and ncdump utilities."
   ]
  },
  {
   "cell_type": "code",
   "execution_count": 106,
   "metadata": {},
   "outputs": [],
   "source": [
    "# Use this to reset your working directory in case you ran the notebook already, because some of the examples are ment to operate on files that should not exist yet\n",
    "!rm -f data.h5 data_chunked.h5 data_compressed.h5 data.nc"
   ]
  },
  {
   "cell_type": "markdown",
   "metadata": {},
   "source": [
    "#### Writing HDF5"
   ]
  },
  {
   "cell_type": "code",
   "execution_count": 99,
   "metadata": {},
   "outputs": [],
   "source": [
    "import numpy as np\n",
    "import h5py"
   ]
  },
  {
   "cell_type": "code",
   "execution_count": 100,
   "metadata": {},
   "outputs": [],
   "source": [
    "d1 = np.random.random(size = (1000,20))\n",
    "d2 = np.random.random(size = (1000,200))"
   ]
  },
  {
   "cell_type": "code",
   "execution_count": 101,
   "metadata": {},
   "outputs": [
    {
     "name": "stdout",
     "output_type": "stream",
     "text": [
      "(1000, 20) (1000, 200)\n"
     ]
    }
   ],
   "source": [
    "print(d1.shape, d2.shape)"
   ]
  },
  {
   "cell_type": "code",
   "execution_count": 107,
   "metadata": {},
   "outputs": [],
   "source": [
    "hf = h5py.File('data.h5', 'w')"
   ]
  },
  {
   "cell_type": "code",
   "execution_count": 108,
   "metadata": {},
   "outputs": [
    {
     "data": {
      "text/plain": [
       "<HDF5 dataset \"dataset_2\": shape (1000, 200), type \"<f8\">"
      ]
     },
     "execution_count": 108,
     "metadata": {},
     "output_type": "execute_result"
    }
   ],
   "source": [
    "hf.create_dataset('dataset_1', data=d1)\n",
    "hf.create_dataset('dataset_2', data=d2)"
   ]
  },
  {
   "cell_type": "code",
   "execution_count": 109,
   "metadata": {},
   "outputs": [],
   "source": [
    "hf.close()"
   ]
  },
  {
   "cell_type": "code",
   "execution_count": 110,
   "metadata": {},
   "outputs": [
    {
     "name": "stdout",
     "output_type": "stream",
     "text": [
      "HDF5 \"data.h5\" {\n",
      "GROUP \"/\" {\n",
      "   DATASET \"dataset_1\" {\n",
      "      DATATYPE  H5T_IEEE_F64LE\n",
      "      DATASPACE  SIMPLE { ( 1000, 20 ) / ( 1000, 20 ) }\n",
      "      STORAGE_LAYOUT {\n",
      "         CONTIGUOUS\n",
      "         SIZE 160000\n",
      "         OFFSET 2048\n",
      "      }\n",
      "      FILTERS {\n",
      "         NONE\n",
      "      }\n",
      "      FILLVALUE {\n",
      "         FILL_TIME H5D_FILL_TIME_IFSET\n",
      "         VALUE  H5D_FILL_VALUE_DEFAULT\n",
      "      }\n",
      "      ALLOCATION_TIME {\n",
      "         H5D_ALLOC_TIME_LATE\n",
      "      }\n",
      "   }\n",
      "   DATASET \"dataset_2\" {\n",
      "      DATATYPE  H5T_IEEE_F64LE\n",
      "      DATASPACE  SIMPLE { ( 1000, 200 ) / ( 1000, 200 ) }\n",
      "      STORAGE_LAYOUT {\n",
      "         CONTIGUOUS\n",
      "         SIZE 1600000\n",
      "         OFFSET 162048\n",
      "      }\n",
      "      FILTERS {\n",
      "         NONE\n",
      "      }\n",
      "      FILLVALUE {\n",
      "         FILL_TIME H5D_FILL_TIME_IFSET\n",
      "         VALUE  H5D_FILL_VALUE_DEFAULT\n",
      "      }\n",
      "      ALLOCATION_TIME {\n",
      "         H5D_ALLOC_TIME_LATE\n",
      "      }\n",
      "   }\n",
      "}\n",
      "}\n"
     ]
    }
   ],
   "source": [
    "!h5dump -Hp data.h5"
   ]
  },
  {
   "cell_type": "markdown",
   "metadata": {},
   "source": [
    "#### Reading HDF5\n",
    "\n",
    "Similar to creating a HDF5 file you can also only read from it.\n",
    "\n",
    "\n",
    "Documentation for the HDF5 Python API can be found at:\n",
    "\n",
    "https://docs.h5py.org/en/stable/high/file.html#reference\n",
    "https://docs.h5py.org/en/stable/high/group.html#reference\n",
    "https://docs.h5py.org/en/stable/high/dataset.html#reference"
   ]
  },
  {
   "cell_type": "code",
   "execution_count": 93,
   "metadata": {},
   "outputs": [],
   "source": [
    "hf = h5py.File('data.h5', 'r')"
   ]
  },
  {
   "cell_type": "code",
   "execution_count": 94,
   "metadata": {},
   "outputs": [
    {
     "data": {
      "text/plain": [
       "<KeysViewHDF5 ['dataset_1', 'dataset_2', 'group1', 'group2']>"
      ]
     },
     "execution_count": 94,
     "metadata": {},
     "output_type": "execute_result"
    }
   ],
   "source": [
    "hf.keys()"
   ]
  },
  {
   "cell_type": "code",
   "execution_count": 95,
   "metadata": {},
   "outputs": [
    {
     "data": {
      "text/plain": [
       "<HDF5 dataset \"dataset_1\": shape (1000, 20), type \"<f8\">"
      ]
     },
     "execution_count": 95,
     "metadata": {},
     "output_type": "execute_result"
    }
   ],
   "source": [
    "n1 = hf.get('dataset_1')\n",
    "n1"
   ]
  },
  {
   "cell_type": "code",
   "execution_count": 96,
   "metadata": {},
   "outputs": [
    {
     "data": {
      "text/plain": [
       "(1000, 20)"
      ]
     },
     "execution_count": 96,
     "metadata": {},
     "output_type": "execute_result"
    }
   ],
   "source": [
    "n1 = np.array(n1)\n",
    "n1.shape"
   ]
  },
  {
   "cell_type": "code",
   "execution_count": 97,
   "metadata": {},
   "outputs": [],
   "source": [
    "hf.close()"
   ]
  },
  {
   "cell_type": "markdown",
   "metadata": {},
   "source": [
    "### Working with Groups and Adding to Existing HDF5 Files"
   ]
  },
  {
   "cell_type": "code",
   "execution_count": null,
   "metadata": {},
   "outputs": [],
   "source": [
    "d1 = np.random.random(size = (100,33))\n",
    "d2 = np.random.random(size = (100,333))\n",
    "d3 = np.random.random(size = (100,3333))\n",
    "\n",
    "hf = h5py.File('data.h5', 'a')\n",
    "\n",
    "g1 = hf.create_group('group1')\n",
    "\n",
    "g1.create_dataset('data1',data=d1)\n",
    "g1.create_dataset('data2',data=d1)\n",
    "\n",
    "g2 = hf.create_group('group2/subfolder')\n",
    "g2.create_dataset('data3',data=d3)\n",
    "\n",
    "group2 = hf.get('group2/subfolder')\n",
    "group2.items()\n",
    "\n",
    "group1 = hf.get('group1')\n",
    "group1.items()\n",
    "\n",
    "n1 = group1.get('data1')\n",
    "np.array(n1).shape\n",
    "\n",
    "hf.close()"
   ]
  },
  {
   "cell_type": "code",
   "execution_count": 88,
   "metadata": {},
   "outputs": [
    {
     "name": "stdout",
     "output_type": "stream",
     "text": [
      "HDF5 \"data.h5\" {\n",
      "GROUP \"/\" {\n",
      "   DATASET \"dataset_1\" {\n",
      "      DATATYPE  H5T_IEEE_F64LE\n",
      "      DATASPACE  SIMPLE { ( 1000, 20 ) / ( 1000, 20 ) }\n",
      "      STORAGE_LAYOUT {\n",
      "         CONTIGUOUS\n",
      "         SIZE 160000\n",
      "         OFFSET 2048\n",
      "      }\n",
      "      FILTERS {\n",
      "         NONE\n",
      "      }\n",
      "      FILLVALUE {\n",
      "         FILL_TIME H5D_FILL_TIME_IFSET\n",
      "         VALUE  H5D_FILL_VALUE_DEFAULT\n",
      "      }\n",
      "      ALLOCATION_TIME {\n",
      "         H5D_ALLOC_TIME_LATE\n",
      "      }\n",
      "   }\n",
      "   DATASET \"dataset_2\" {\n",
      "      DATATYPE  H5T_IEEE_F64LE\n",
      "      DATASPACE  SIMPLE { ( 1000, 200 ) / ( 1000, 200 ) }\n",
      "      STORAGE_LAYOUT {\n",
      "         CONTIGUOUS\n",
      "         SIZE 1600000\n",
      "         OFFSET 162048\n",
      "      }\n",
      "      FILTERS {\n",
      "         NONE\n",
      "      }\n",
      "      FILLVALUE {\n",
      "         FILL_TIME H5D_FILL_TIME_IFSET\n",
      "         VALUE  H5D_FILL_VALUE_DEFAULT\n",
      "      }\n",
      "      ALLOCATION_TIME {\n",
      "         H5D_ALLOC_TIME_LATE\n",
      "      }\n",
      "   }\n",
      "   GROUP \"group1\" {\n",
      "      DATASET \"data1\" {\n",
      "         DATATYPE  H5T_IEEE_F64LE\n",
      "         DATASPACE  SIMPLE { ( 100, 33 ) / ( 100, 33 ) }\n",
      "         STORAGE_LAYOUT {\n",
      "            CONTIGUOUS\n",
      "            SIZE 26400\n",
      "            OFFSET 1764096\n",
      "         }\n",
      "         FILTERS {\n",
      "            NONE\n",
      "         }\n",
      "         FILLVALUE {\n",
      "            FILL_TIME H5D_FILL_TIME_IFSET\n",
      "            VALUE  H5D_FILL_VALUE_DEFAULT\n",
      "         }\n",
      "         ALLOCATION_TIME {\n",
      "            H5D_ALLOC_TIME_LATE\n",
      "         }\n",
      "      }\n",
      "      DATASET \"data2\" {\n",
      "         DATATYPE  H5T_IEEE_F64LE\n",
      "         DATASPACE  SIMPLE { ( 100, 33 ) / ( 100, 33 ) }\n",
      "         STORAGE_LAYOUT {\n",
      "            CONTIGUOUS\n",
      "            SIZE 26400\n",
      "            OFFSET 1790496\n",
      "         }\n",
      "         FILTERS {\n",
      "            NONE\n",
      "         }\n",
      "         FILLVALUE {\n",
      "            FILL_TIME H5D_FILL_TIME_IFSET\n",
      "            VALUE  H5D_FILL_VALUE_DEFAULT\n",
      "         }\n",
      "         ALLOCATION_TIME {\n",
      "            H5D_ALLOC_TIME_LATE\n",
      "         }\n",
      "      }\n",
      "   }\n",
      "   GROUP \"group2\" {\n",
      "      GROUP \"subfolder\" {\n",
      "         DATASET \"data3\" {\n",
      "            DATATYPE  H5T_IEEE_F64LE\n",
      "            DATASPACE  SIMPLE { ( 100, 3333 ) / ( 100, 3333 ) }\n",
      "            STORAGE_LAYOUT {\n",
      "               CONTIGUOUS\n",
      "               SIZE 2666400\n",
      "               OFFSET 1818944\n",
      "            }\n",
      "            FILTERS {\n",
      "               NONE\n",
      "            }\n",
      "            FILLVALUE {\n",
      "               FILL_TIME H5D_FILL_TIME_IFSET\n",
      "               VALUE  H5D_FILL_VALUE_DEFAULT\n",
      "            }\n",
      "            ALLOCATION_TIME {\n",
      "               H5D_ALLOC_TIME_LATE\n",
      "            }\n",
      "         }\n",
      "      }\n",
      "   }\n",
      "}\n",
      "}\n"
     ]
    }
   ],
   "source": [
    "!h5dump -Hp data.h5"
   ]
  },
  {
   "cell_type": "markdown",
   "metadata": {},
   "source": [
    "### Add chunking"
   ]
  },
  {
   "cell_type": "code",
   "execution_count": 61,
   "metadata": {},
   "outputs": [],
   "source": [
    "import h5py\n",
    "import numpy as np\n",
    "\n",
    "d1 = np.random.random(size = (100,33))\n",
    "d2 = np.random.random(size = (100,333))\n",
    "d3 = np.random.random(size = (100,3333))\n",
    "\n",
    "hf = h5py.File('data_chunked.h5', 'w')\n",
    "dset = hf.create_dataset(\"dataset\", (1000, 1000), chunks=(100, 100))\n",
    "hf.close()"
   ]
  },
  {
   "cell_type": "code",
   "execution_count": 62,
   "metadata": {},
   "outputs": [
    {
     "name": "stdout",
     "output_type": "stream",
     "text": [
      "HDF5 \"data_chunked.h5\" {\n",
      "GROUP \"/\" {\n",
      "   DATASET \"dataset\" {\n",
      "      DATATYPE  H5T_IEEE_F32LE\n",
      "      DATASPACE  SIMPLE { ( 1000, 1000 ) / ( 1000, 1000 ) }\n",
      "      STORAGE_LAYOUT {\n",
      "         CHUNKED ( 100, 100 )\n",
      "         SIZE 0\n",
      "      }\n",
      "      FILTERS {\n",
      "         NONE\n",
      "      }\n",
      "      FILLVALUE {\n",
      "         FILL_TIME H5D_FILL_TIME_ALLOC\n",
      "         VALUE  H5D_FILL_VALUE_DEFAULT\n",
      "      }\n",
      "      ALLOCATION_TIME {\n",
      "         H5D_ALLOC_TIME_INCR\n",
      "      }\n",
      "   }\n",
      "}\n",
      "}\n"
     ]
    }
   ],
   "source": [
    "!h5dump -Hp data_chunked.h5"
   ]
  },
  {
   "cell_type": "markdown",
   "metadata": {},
   "source": [
    "### Adding compressions"
   ]
  },
  {
   "cell_type": "code",
   "execution_count": 66,
   "metadata": {},
   "outputs": [],
   "source": [
    "import h5py\n",
    "import numpy as np\n",
    "\n",
    "d1 = np.random.random(size = (100,33))\n",
    "d2 = np.random.random(size = (100,333))\n",
    "d3 = np.random.random(size = (100,3333))\n",
    "\n",
    "hf = h5py.File('data_compressed.h5', 'w')\n",
    "\n",
    "hf.create_dataset('dataset_1', data=d1, compression=\"gzip\", compression_opts=9)\n",
    "hf.create_dataset('dataset_2', data=d2, compression=\"gzip\", compression_opts=6)\n",
    "\n",
    "hf.close()"
   ]
  },
  {
   "cell_type": "code",
   "execution_count": 67,
   "metadata": {},
   "outputs": [
    {
     "name": "stdout",
     "output_type": "stream",
     "text": [
      "HDF5 \"data_compressed.h5\" {\n",
      "GROUP \"/\" {\n",
      "   DATASET \"dataset_1\" {\n",
      "      DATATYPE  H5T_IEEE_F64LE\n",
      "      DATASPACE  SIMPLE { ( 100, 33 ) / ( 100, 33 ) }\n",
      "      STORAGE_LAYOUT {\n",
      "         CHUNKED ( 50, 17 )\n",
      "         SIZE 25182 (1.048:1 COMPRESSION)\n",
      "      }\n",
      "      FILTERS {\n",
      "         COMPRESSION DEFLATE { LEVEL 9 }\n",
      "      }\n",
      "      FILLVALUE {\n",
      "         FILL_TIME H5D_FILL_TIME_ALLOC\n",
      "         VALUE  H5D_FILL_VALUE_DEFAULT\n",
      "      }\n",
      "      ALLOCATION_TIME {\n",
      "         H5D_ALLOC_TIME_INCR\n",
      "      }\n",
      "   }\n",
      "   DATASET \"dataset_2\" {\n",
      "      DATATYPE  H5T_IEEE_F64LE\n",
      "      DATASPACE  SIMPLE { ( 100, 333 ) / ( 100, 333 ) }\n",
      "      STORAGE_LAYOUT {\n",
      "         CHUNKED ( 13, 84 )\n",
      "         SIZE 252397 (1.055:1 COMPRESSION)\n",
      "      }\n",
      "      FILTERS {\n",
      "         COMPRESSION DEFLATE { LEVEL 6 }\n",
      "      }\n",
      "      FILLVALUE {\n",
      "         FILL_TIME H5D_FILL_TIME_ALLOC\n",
      "         VALUE  H5D_FILL_VALUE_DEFAULT\n",
      "      }\n",
      "      ALLOCATION_TIME {\n",
      "         H5D_ALLOC_TIME_INCR\n",
      "      }\n",
      "   }\n",
      "}\n",
      "}\n"
     ]
    }
   ],
   "source": [
    "!h5dump -Hp data_compressed.h5"
   ]
  },
  {
   "cell_type": "markdown",
   "metadata": {},
   "source": [
    "## NetCDF4\n",
    "\n",
    "Another format very commonly found in earth and environment contexts is NetCDF4.\n",
    "Modern NetCDF4 internally uses the HDF5 data format that is stored to storage, while preserving the simplefied API NetCDF users are used to."
   ]
  },
  {
   "cell_type": "markdown",
   "metadata": {},
   "source": [
    "About NetCDF: \"The NetCDF library is designed to read and write data that has been structured according to well-defined rules and is easily ported across various computer platforms.\n",
    "The netCDF interface enables but does not require the creation of self-describing datasets.\n",
    "The purpose of the CF conventions is to require conforming datasets to contain sufficient metadata that they are self-describing in the sense that each variable in the file has an associated description of what it represents,\n",
    "including physical units if appropriate,\n",
    "and that each value can be located in space\n",
    "(relative to earth-based coordinates)\n",
    "and time.\"\n",
    "\n",
    "http://cfconventions.org/Data/cf-conventions/cf-conventions-1.6/build/cf-conventions.html"
   ]
  },
  {
   "cell_type": "code",
   "execution_count": 38,
   "metadata": {},
   "outputs": [],
   "source": [
    "import netCDF4 as nc\n",
    "\n",
    "ncdset = nc.Dataset('data.nc', 'w')"
   ]
  },
  {
   "cell_type": "code",
   "execution_count": 39,
   "metadata": {},
   "outputs": [
    {
     "data": {
      "text/plain": [
       "<class 'netCDF4._netCDF4.Dimension'>: name = 'x', size = 398"
      ]
     },
     "execution_count": 39,
     "metadata": {},
     "output_type": "execute_result"
    }
   ],
   "source": [
    "ncdset.createDimension('t', None)\n",
    "ncdset.createDimension('z', 40)\n",
    "ncdset.createDimension('y', 898)\n",
    "ncdset.createDimension('x', 398)"
   ]
  },
  {
   "cell_type": "code",
   "execution_count": 40,
   "metadata": {},
   "outputs": [],
   "source": [
    "ncdset.close()"
   ]
  },
  {
   "cell_type": "code",
   "execution_count": 41,
   "metadata": {},
   "outputs": [
    {
     "name": "stdout",
     "output_type": "stream",
     "text": [
      "netcdf data {\n",
      "dimensions:\n",
      "\tt = UNLIMITED ; // (0 currently)\n",
      "\tz = 40 ;\n",
      "\ty = 898 ;\n",
      "\tx = 398 ;\n",
      "}\n"
     ]
    }
   ],
   "source": [
    "!ncdump data.nc"
   ]
  },
  {
   "cell_type": "code",
   "execution_count": 36,
   "metadata": {},
   "outputs": [
    {
     "name": "stdout",
     "output_type": "stream",
     "text": [
      "HDF5 \"data.nc\" {\n",
      "GROUP \"/\" {\n",
      "   ATTRIBUTE \"_NCProperties\" {\n",
      "      DATATYPE  H5T_STRING {\n",
      "         STRSIZE 55;\n",
      "         STRPAD H5T_STR_NULLTERM;\n",
      "         CSET H5T_CSET_ASCII;\n",
      "         CTYPE H5T_C_S1;\n",
      "      }\n",
      "      DATASPACE  SCALAR\n",
      "   }\n",
      "   DATASET \"t\" {\n",
      "      DATATYPE  H5T_IEEE_F32BE\n",
      "      DATASPACE  SIMPLE { ( 0 ) / ( H5S_UNLIMITED ) }\n",
      "      STORAGE_LAYOUT {\n",
      "         CHUNKED ( 1 )\n",
      "         SIZE 0\n",
      "      }\n",
      "      FILTERS {\n",
      "         NONE\n",
      "      }\n",
      "      FILLVALUE {\n",
      "         FILL_TIME H5D_FILL_TIME_IFSET\n",
      "         VALUE  H5D_FILL_VALUE_DEFAULT\n",
      "      }\n",
      "      ALLOCATION_TIME {\n",
      "         H5D_ALLOC_TIME_INCR\n",
      "      }\n",
      "      ATTRIBUTE \"CLASS\" {\n",
      "         DATATYPE  H5T_STRING {\n",
      "            STRSIZE 16;\n",
      "            STRPAD H5T_STR_NULLTERM;\n",
      "            CSET H5T_CSET_ASCII;\n",
      "            CTYPE H5T_C_S1;\n",
      "         }\n",
      "         DATASPACE  SCALAR\n",
      "      }\n",
      "      ATTRIBUTE \"NAME\" {\n",
      "         DATATYPE  H5T_STRING {\n",
      "            STRSIZE 64;\n",
      "            STRPAD H5T_STR_NULLTERM;\n",
      "            CSET H5T_CSET_ASCII;\n",
      "            CTYPE H5T_C_S1;\n",
      "         }\n",
      "         DATASPACE  SCALAR\n",
      "      }\n",
      "   }\n",
      "   DATASET \"x\" {\n",
      "      DATATYPE  H5T_IEEE_F32BE\n",
      "      DATASPACE  SIMPLE { ( 398 ) / ( 398 ) }\n",
      "      STORAGE_LAYOUT {\n",
      "         CONTIGUOUS\n",
      "         SIZE 0\n",
      "         OFFSET 18446744073709551615\n",
      "      }\n",
      "      FILTERS {\n",
      "         NONE\n",
      "      }\n",
      "      FILLVALUE {\n",
      "         FILL_TIME H5D_FILL_TIME_IFSET\n",
      "         VALUE  H5D_FILL_VALUE_DEFAULT\n",
      "      }\n",
      "      ALLOCATION_TIME {\n",
      "         H5D_ALLOC_TIME_LATE\n",
      "      }\n",
      "      ATTRIBUTE \"CLASS\" {\n",
      "         DATATYPE  H5T_STRING {\n",
      "            STRSIZE 16;\n",
      "            STRPAD H5T_STR_NULLTERM;\n",
      "            CSET H5T_CSET_ASCII;\n",
      "            CTYPE H5T_C_S1;\n",
      "         }\n",
      "         DATASPACE  SCALAR\n",
      "      }\n",
      "      ATTRIBUTE \"NAME\" {\n",
      "         DATATYPE  H5T_STRING {\n",
      "            STRSIZE 64;\n",
      "            STRPAD H5T_STR_NULLTERM;\n",
      "            CSET H5T_CSET_ASCII;\n",
      "            CTYPE H5T_C_S1;\n",
      "         }\n",
      "         DATASPACE  SCALAR\n",
      "      }\n",
      "   }\n",
      "   DATASET \"y\" {\n",
      "      DATATYPE  H5T_IEEE_F32BE\n",
      "      DATASPACE  SIMPLE { ( 898 ) / ( 898 ) }\n",
      "      STORAGE_LAYOUT {\n",
      "         CONTIGUOUS\n",
      "         SIZE 0\n",
      "         OFFSET 18446744073709551615\n",
      "      }\n",
      "      FILTERS {\n",
      "         NONE\n",
      "      }\n",
      "      FILLVALUE {\n",
      "         FILL_TIME H5D_FILL_TIME_IFSET\n",
      "         VALUE  H5D_FILL_VALUE_DEFAULT\n",
      "      }\n",
      "      ALLOCATION_TIME {\n",
      "         H5D_ALLOC_TIME_LATE\n",
      "      }\n",
      "      ATTRIBUTE \"CLASS\" {\n",
      "         DATATYPE  H5T_STRING {\n",
      "            STRSIZE 16;\n",
      "            STRPAD H5T_STR_NULLTERM;\n",
      "            CSET H5T_CSET_ASCII;\n",
      "            CTYPE H5T_C_S1;\n",
      "         }\n",
      "         DATASPACE  SCALAR\n",
      "      }\n",
      "      ATTRIBUTE \"NAME\" {\n",
      "         DATATYPE  H5T_STRING {\n",
      "            STRSIZE 64;\n",
      "            STRPAD H5T_STR_NULLTERM;\n",
      "            CSET H5T_CSET_ASCII;\n",
      "            CTYPE H5T_C_S1;\n",
      "         }\n",
      "         DATASPACE  SCALAR\n",
      "      }\n",
      "   }\n",
      "   DATASET \"z\" {\n",
      "      DATATYPE  H5T_IEEE_F32BE\n",
      "      DATASPACE  SIMPLE { ( 40 ) / ( 40 ) }\n",
      "      STORAGE_LAYOUT {\n",
      "         CONTIGUOUS\n",
      "         SIZE 0\n",
      "         OFFSET 18446744073709551615\n",
      "      }\n",
      "      FILTERS {\n",
      "         NONE\n",
      "      }\n",
      "      FILLVALUE {\n",
      "         FILL_TIME H5D_FILL_TIME_IFSET\n",
      "         VALUE  H5D_FILL_VALUE_DEFAULT\n",
      "      }\n",
      "      ALLOCATION_TIME {\n",
      "         H5D_ALLOC_TIME_LATE\n",
      "      }\n",
      "      ATTRIBUTE \"CLASS\" {\n",
      "         DATATYPE  H5T_STRING {\n",
      "            STRSIZE 16;\n",
      "            STRPAD H5T_STR_NULLTERM;\n",
      "            CSET H5T_CSET_ASCII;\n",
      "            CTYPE H5T_C_S1;\n",
      "         }\n",
      "         DATASPACE  SCALAR\n",
      "      }\n",
      "      ATTRIBUTE \"NAME\" {\n",
      "         DATATYPE  H5T_STRING {\n",
      "            STRSIZE 64;\n",
      "            STRPAD H5T_STR_NULLTERM;\n",
      "            CSET H5T_CSET_ASCII;\n",
      "            CTYPE H5T_C_S1;\n",
      "         }\n",
      "         DATASPACE  SCALAR\n",
      "      }\n",
      "   }\n",
      "}\n",
      "}\n"
     ]
    }
   ],
   "source": [
    "!h5dump -Hp data.nc"
   ]
  },
  {
   "cell_type": "markdown",
   "metadata": {},
   "source": [
    "### XArray: High-level but sometimes not as performant as you might expect\n",
    "\n",
    "Convienience vs. performance is a common struggle in computer science."
   ]
  },
  {
   "cell_type": "code",
   "execution_count": 124,
   "metadata": {},
   "outputs": [
    {
     "data": {
      "text/html": [
       "<pre>&lt;xarray.Dataset&gt;\n",
       "Dimensions:  (lat: 32, level: 13, lon: 64, time: 350640)\n",
       "Coordinates:\n",
       "  * level    (level) int32 50 100 150 200 250 300 400 500 600 700 850 925 1000\n",
       "  * lon      (lon) float64 0.0 5.625 11.25 16.88 ... 337.5 343.1 348.8 354.4\n",
       "  * lat      (lat) float64 -87.19 -81.56 -75.94 -70.31 ... 75.94 81.56 87.19\n",
       "  * time     (time) datetime64[ns] 1979-01-01 ... 2018-12-31T23:00:00\n",
       "Data variables:\n",
       "    t        (time, level, lat, lon) float32 dask.array&lt;chunksize=(8760, 13, 32, 64), meta=np.ndarray&gt;\n",
       "Attributes:\n",
       "    Conventions:  CF-1.6\n",
       "    history:      2020-03-03 19:31:21 GMT by grib_to_netcdf-2.16.0: /opt/ecmw...</pre>"
      ],
      "text/plain": [
       "<xarray.Dataset>\n",
       "Dimensions:  (lat: 32, level: 13, lon: 64, time: 350640)\n",
       "Coordinates:\n",
       "  * level    (level) int32 50 100 150 200 250 300 400 500 600 700 850 925 1000\n",
       "  * lon      (lon) float64 0.0 5.625 11.25 16.88 ... 337.5 343.1 348.8 354.4\n",
       "  * lat      (lat) float64 -87.19 -81.56 -75.94 -70.31 ... 75.94 81.56 87.19\n",
       "  * time     (time) datetime64[ns] 1979-01-01 ... 2018-12-31T23:00:00\n",
       "Data variables:\n",
       "    t        (time, level, lat, lon) float32 dask.array<chunksize=(8760, 13, 32, 64), meta=np.ndarray>\n",
       "Attributes:\n",
       "    Conventions:  CF-1.6\n",
       "    history:      2020-03-03 19:31:21 GMT by grib_to_netcdf-2.16.0: /opt/ecmw..."
      ]
     },
     "execution_count": 124,
     "metadata": {},
     "output_type": "execute_result"
    }
   ],
   "source": [
    "import xarray as xr\n",
    "\n",
    "dataroot = DATA\n",
    "resolution = \"5.625\"\n",
    "variable = \"temperature\"\n",
    "\n",
    "xr.open_mfdataset(f'{dataroot}/{resolution}deg/{variable}/*deg.nc', combine='by_coords')"
   ]
  },
  {
   "cell_type": "code",
   "execution_count": null,
   "metadata": {},
   "outputs": [],
   "source": []
  },
  {
   "cell_type": "code",
   "execution_count": 1,
   "metadata": {},
   "outputs": [
    {
     "name": "stderr",
     "output_type": "stream",
     "text": [
      "/opt/conda/lib/python3.7/site-packages/dask/config.py:168: YAMLLoadWarning: calling yaml.load() without Loader=... is deprecated, as the default Loader is unsafe. Please read https://msg.pyyaml.org/load for full details.\n",
      "  data = yaml.load(f.read()) or {}\n",
      "/opt/conda/lib/python3.7/site-packages/distributed/config.py:20: YAMLLoadWarning: calling yaml.load() without Loader=... is deprecated, as the default Loader is unsafe. Please read https://msg.pyyaml.org/load for full details.\n",
      "  defaults = yaml.load(f)\n"
     ]
    }
   ],
   "source": [
    "# As the above can be cumbersome, lets define a little helper function to initialize a weatherbench multifile dataset\n",
    "import xarray as xr\n",
    "\n",
    "DATA = \"/mnt/lustre01/work/ka1176/shared_data/training/weatherbench\"\n",
    "\n",
    "def mf_dataset(dataroot=None, resolution='5.625', variables=None, year=None, years=None, levels=None, chunks=None, combine=None):\n",
    "    \"\"\" Return initialized multifile dataset.\n",
    "\n",
    "    Args:\n",
    "        dataroot (str): root directory containing weatherbench data\n",
    "        resolution (str): which resolution data to load (default: 5.625) [5.625, 2.8125, 1.40625]\n",
    "        variables (list): list of variables to include\n",
    "\n",
    "    Return:\n",
    "        xarray.dataset\n",
    "\n",
    "    \"\"\"\n",
    "\n",
    "    if dataroot is None:\n",
    "        dataroot = DATA\n",
    "\n",
    "    if variables is None:\n",
    "        variables = [        \n",
    "            \"10m_u_component_of_wind\",\n",
    "            \"10m_v_component_of_wind\",\n",
    "            \"2m_temperature\",\n",
    "            #\"constants\",\n",
    "            \"geopotential\",\n",
    "            #\"geopotential_500\",\n",
    "            \"potential_vorticity\",\n",
    "            \"relative_humidity\",\n",
    "            \"specific_humidity\",\n",
    "            \"temperature\",\n",
    "            #\"temperature_850\",\n",
    "            \"toa_incident_solar_radiation\",\n",
    "            \"total_cloud_cover\",\n",
    "            \"total_precipitation\",\n",
    "            \"u_component_of_wind\",\n",
    "            \"v_component_of_wind\",\n",
    "            \"vorticity\"\n",
    "            ]\n",
    "\n",
    "    if chunks is None:\n",
    "        chunks = {'lat': 10, 'lon': 10}\n",
    "        \n",
    "    if combine is None:\n",
    "        combine='by_coords'\n",
    "        #combine='nested'   \n",
    "        \n",
    "    datadir = f'{dataroot}/{resolution}deg/'\n",
    "\n",
    "    handles = {}\n",
    "    for variable in variables:\n",
    "        if variable in ['constants']:\n",
    "            handles[variable] = xr.open_mfdataset(f'{datadir}/{variable}/*deg.nc',\n",
    "                    combine=combine,\n",
    "                    chunks=chunks,\n",
    "                    parallel=True,\n",
    "                    lock=False)\n",
    "            continue\n",
    "\n",
    "        if year is not None:\n",
    "            handles[variable] = xr.open_mfdataset(f'{datadir}/{variable}/*_{year}_*deg.nc', \n",
    "                    combine=combine,\n",
    "                    chunks=chunks,\n",
    "                    parallel=True,\n",
    "                    lock=False)\n",
    "        else:\n",
    "            handles[variable] = xr.open_mfdataset(f'{datadir}/{variable}/*deg.nc',\n",
    "                    combine=combine,\n",
    "                    chunks=chunks,\n",
    "                    parallel=True,\n",
    "                    lock=False)\n",
    "\n",
    "\n",
    "        if levels is not None:\n",
    "            handles[variable] = handles[variable].sel(level=levels)\n",
    "\n",
    "\n",
    "    data = xr.merge([handle for variable, handle in handles.items()])\n",
    "\n",
    "    return data"
   ]
  },
  {
   "cell_type": "markdown",
   "metadata": {},
   "source": [
    "## On-Demand vs. Prefetching\n",
    "\n",
    "In the lecture we learned about the memory hierarchy. Here we will have a hands-on look at demonstrating it's effect.\n",
    "\n",
    "1) We will initialize 3 different datsets in different resolutions\n",
    "2) We will then will plot them:\n",
    "\n",
    "* First fetching data on-demand\n",
    "* Then fetching data after preloading"
   ]
  },
  {
   "cell_type": "code",
   "execution_count": 9,
   "metadata": {},
   "outputs": [
    {
     "data": {
      "text/html": [
       "<pre>&lt;xarray.Dataset&gt;\n",
       "Dimensions:  (lat: 32, level: 13, lon: 64, time: 8760)\n",
       "Coordinates:\n",
       "  * lon      (lon) float64 0.0 5.625 11.25 16.88 ... 337.5 343.1 348.8 354.4\n",
       "  * lat      (lat) float64 -87.19 -81.56 -75.94 -70.31 ... 75.94 81.56 87.19\n",
       "  * level    (level) int32 50 100 150 200 250 300 400 500 600 700 850 925 1000\n",
       "  * time     (time) datetime64[ns] 1979-01-01 ... 1979-12-31T23:00:00\n",
       "Data variables:\n",
       "    t        (time, level, lat, lon) float32 dask.array&lt;chunksize=(8760, 13, 10, 10), meta=np.ndarray&gt;</pre>"
      ],
      "text/plain": [
       "<xarray.Dataset>\n",
       "Dimensions:  (lat: 32, level: 13, lon: 64, time: 8760)\n",
       "Coordinates:\n",
       "  * lon      (lon) float64 0.0 5.625 11.25 16.88 ... 337.5 343.1 348.8 354.4\n",
       "  * lat      (lat) float64 -87.19 -81.56 -75.94 -70.31 ... 75.94 81.56 87.19\n",
       "  * level    (level) int32 50 100 150 200 250 300 400 500 600 700 850 925 1000\n",
       "  * time     (time) datetime64[ns] 1979-01-01 ... 1979-12-31T23:00:00\n",
       "Data variables:\n",
       "    t        (time, level, lat, lon) float32 dask.array<chunksize=(8760, 13, 10, 10), meta=np.ndarray>"
      ]
     },
     "execution_count": 9,
     "metadata": {},
     "output_type": "execute_result"
    }
   ],
   "source": [
    "data_5 = mf_dataset(resolution='5.625', year=1979, variables=['temperature'])\n",
    "data_5"
   ]
  },
  {
   "cell_type": "code",
   "execution_count": 8,
   "metadata": {},
   "outputs": [
    {
     "data": {
      "text/html": [
       "<pre>&lt;xarray.Dataset&gt;\n",
       "Dimensions:  (lat: 64, level: 13, lon: 128, time: 8760)\n",
       "Coordinates:\n",
       "  * lon      (lon) float64 0.0 2.812 5.625 8.438 ... 348.8 351.6 354.4 357.2\n",
       "  * level    (level) int32 50 100 150 200 250 300 400 500 600 700 850 925 1000\n",
       "  * lat      (lat) float64 -88.59 -85.78 -82.97 -80.16 ... 82.97 85.78 88.59\n",
       "  * time     (time) datetime64[ns] 1979-01-01 ... 1979-12-31T23:00:00\n",
       "Data variables:\n",
       "    t        (time, level, lat, lon) float32 dask.array&lt;chunksize=(8760, 13, 10, 10), meta=np.ndarray&gt;</pre>"
      ],
      "text/plain": [
       "<xarray.Dataset>\n",
       "Dimensions:  (lat: 64, level: 13, lon: 128, time: 8760)\n",
       "Coordinates:\n",
       "  * lon      (lon) float64 0.0 2.812 5.625 8.438 ... 348.8 351.6 354.4 357.2\n",
       "  * level    (level) int32 50 100 150 200 250 300 400 500 600 700 850 925 1000\n",
       "  * lat      (lat) float64 -88.59 -85.78 -82.97 -80.16 ... 82.97 85.78 88.59\n",
       "  * time     (time) datetime64[ns] 1979-01-01 ... 1979-12-31T23:00:00\n",
       "Data variables:\n",
       "    t        (time, level, lat, lon) float32 dask.array<chunksize=(8760, 13, 10, 10), meta=np.ndarray>"
      ]
     },
     "execution_count": 8,
     "metadata": {},
     "output_type": "execute_result"
    }
   ],
   "source": [
    "data_2 = mf_dataset(resolution='2.8125', year=1979, variables=['temperature'])\n",
    "data_2"
   ]
  },
  {
   "cell_type": "code",
   "execution_count": 10,
   "metadata": {},
   "outputs": [
    {
     "data": {
      "text/html": [
       "<pre>&lt;xarray.Dataset&gt;\n",
       "Dimensions:  (lat: 128, level: 13, lon: 256, time: 8760)\n",
       "Coordinates:\n",
       "  * lat      (lat) float64 -89.3 -87.89 -86.48 -85.08 ... 85.08 86.48 87.89 89.3\n",
       "  * lon      (lon) float64 0.0 1.406 2.812 4.219 ... 354.4 355.8 357.2 358.6\n",
       "  * level    (level) int32 50 100 150 200 250 300 400 500 600 700 850 925 1000\n",
       "  * time     (time) datetime64[ns] 1979-01-01 ... 1979-12-31T23:00:00\n",
       "Data variables:\n",
       "    t        (time, level, lat, lon) float32 dask.array&lt;chunksize=(8760, 13, 10, 10), meta=np.ndarray&gt;</pre>"
      ],
      "text/plain": [
       "<xarray.Dataset>\n",
       "Dimensions:  (lat: 128, level: 13, lon: 256, time: 8760)\n",
       "Coordinates:\n",
       "  * lat      (lat) float64 -89.3 -87.89 -86.48 -85.08 ... 85.08 86.48 87.89 89.3\n",
       "  * lon      (lon) float64 0.0 1.406 2.812 4.219 ... 354.4 355.8 357.2 358.6\n",
       "  * level    (level) int32 50 100 150 200 250 300 400 500 600 700 850 925 1000\n",
       "  * time     (time) datetime64[ns] 1979-01-01 ... 1979-12-31T23:00:00\n",
       "Data variables:\n",
       "    t        (time, level, lat, lon) float32 dask.array<chunksize=(8760, 13, 10, 10), meta=np.ndarray>"
      ]
     },
     "execution_count": 10,
     "metadata": {},
     "output_type": "execute_result"
    }
   ],
   "source": [
    "data_1 = mf_dataset(resolution='1.40625', year=1979, variables=['temperature'])\n",
    "data_1"
   ]
  },
  {
   "cell_type": "markdown",
   "metadata": {},
   "source": [
    "### Let's plot some data (thus triggering a fetch in the background)"
   ]
  },
  {
   "cell_type": "code",
   "execution_count": 13,
   "metadata": {},
   "outputs": [
    {
     "name": "stdout",
     "output_type": "stream",
     "text": [
      "CPU times: user 508 ms, sys: 3.97 s, total: 4.48 s\n",
      "Wall time: 4.44 s\n"
     ]
    },
    {
     "data": {
      "image/png": "[encoded data removed]",
      "text/plain": [
       "<Figure size 1440x720 with 2 Axes>"
      ]
     },
     "metadata": {
      "needs_background": "light"
     },
     "output_type": "display_data"
    }
   ],
   "source": [
    "%%time\n",
    "import matplotlib.pyplot as plt\n",
    "data_5.t[0, ('level', [10])][0].plot(figsize=(20,10))"
   ]
  },
  {
   "cell_type": "code",
   "execution_count": 12,
   "metadata": {},
   "outputs": [
    {
     "name": "stdout",
     "output_type": "stream",
     "text": [
      "CPU times: user 3.13 s, sys: 50.3 s, total: 53.4 s\n",
      "Wall time: 53.7 s\n"
     ]
    },
    {
     "data": {
      "image/png": "[encoded data removed]",
      "text/plain": [
       "<Figure size 1440x720 with 2 Axes>"
      ]
     },
     "metadata": {
      "needs_background": "light"
     },
     "output_type": "display_data"
    }
   ],
   "source": [
    "%%time\n",
    "import matplotlib.pyplot as plt\n",
    "data_2.t[0, ('level', [10])][0].plot(figsize=(20,10))"
   ]
  },
  {
   "cell_type": "code",
   "execution_count": null,
   "metadata": {},
   "outputs": [],
   "source": [
    "%%time\n",
    "import matplotlib.pyplot as plt\n",
    "data_1.t[0, ('level', [10])][0].plot(figsize=(20,10))"
   ]
  },
  {
   "cell_type": "raw",
   "metadata": {},
   "source": [
    "# 5'\n",
    "CPU times: user 7.39 s, sys: 26.7 s, total: 34 s\n",
    "Wall time: 27.8 s\n",
    "<matplotlib.collections.QuadMesh at 0x2b0145480590>\n",
    "\n",
    "# 2'\n",
    "CPU times: user 27.1 s, sys: 8min 13s, total: 8min 40s\n",
    "Wall time: 21min 39s\n",
    "<matplotlib.collections.QuadMesh at 0x2b01b858b610>\n",
    "\n",
    "# 1'\n",
    "CPU times: user 27.1 s, sys: 8min 13s, total: 8min 40s\n",
    "Wall time: 21min 39s\n",
    "<matplotlib.collections.QuadMesh at 0x2b01b858b610>"
   ]
  },
  {
   "cell_type": "markdown",
   "metadata": {},
   "source": [
    "## On Measuring Performance\n",
    "\n",
    "We already learned a little bit about performance measurements, in the following two examples, you can try it yourself:"
   ]
  },
  {
   "cell_type": "code",
   "execution_count": 138,
   "metadata": {},
   "outputs": [
    {
     "name": "stdout",
     "output_type": "stream",
     "text": [
      "Size (MiB): 480.44277572631836\n",
      "Elapsed:    7.428376913070679\n",
      "MiB/s:      64.67668258471782\n",
      "\n",
      "CPU times: user 1.89 s, sys: 5.73 s, total: 7.62 s\n",
      "Wall time: 7.48 s\n"
     ]
    }
   ],
   "source": [
    "%%time \n",
    "# single year ()\n",
    "import time\n",
    "\n",
    "times = []\n",
    "\n",
    "data = mf_dataset(resolution='5.625', year=1980, variables=['temperature'])\n",
    "data = data.isel(level=[0, 4, 7, 8, 9, 10, 11])\n",
    "singleyear = data\n",
    "\n",
    "mib = data.nbytes/(1024**2)\n",
    "print(\"Size (MiB):\", mib)\n",
    "\n",
    "times.append(time.time())\n",
    "data.load()\n",
    "times.append(time.time())\n",
    "\n",
    "\n",
    "elapsed = times[-1] - times[0]\n",
    "throughput = mib/elapsed\n",
    "\n",
    "print(\"Elapsed:   \", elapsed)\n",
    "print(\"MiB/s:     \", throughput)\n",
    "print()"
   ]
  },
  {
   "cell_type": "code",
   "execution_count": 142,
   "metadata": {},
   "outputs": [
    {
     "name": "stdout",
     "output_type": "stream",
     "text": [
      "Size (MiB): 19178.300930023193\n"
     ]
    }
   ],
   "source": [
    "# 40 years\n",
    "import time\n",
    "\n",
    "times = []\n",
    "\n",
    "data = mf_dataset(resolution='5.625', variables=['temperature'])\n",
    "data = data.isel(level=[0, 4, 7, 8, 9, 10, 11])\n",
    "fourty = data\n",
    "\n",
    "mib = data.nbytes/(1024**2)\n",
    "print(\"Size (MiB):\", mib)"
   ]
  },
  {
   "cell_type": "code",
   "execution_count": 145,
   "metadata": {},
   "outputs": [],
   "source": [
    "# Before you run this cell, be aware that it may crash your kernel if you did not allocate enough memory during job submission!\n",
    "# Also note: Loading data adds some overhead for managment data structures: So the reported 19 GiB is the raw-data size without the overhead.\n",
    "\n",
    "#times.append(time.time())\n",
    "#data.load()\n",
    "#times.append(time.time())\n",
    "\n",
    "\n",
    "#elapsed = times[-1] - times[0]\n",
    "#throughput = mib/elapsed\n",
    "\n",
    "#print(\"Elapsed:   \", elapsed)\n",
    "#print(\"MiB/s:     \", throughput)"
   ]
  }
 ],
 "metadata": {
  "kernelspec": {
   "display_name": "aim-training2021-singularity",
   "language": "python",
   "name": "aim-training2021-singularity"
  },
  "language_info": {
   "codemirror_mode": {
    "name": "ipython",
    "version": 3
   },
   "file_extension": ".py",
   "mimetype": "text/x-python",
   "name": "python",
   "nbconvert_exporter": "python",
   "pygments_lexer": "ipython3",
   "version": "3.7.3"
  }
 },
 "nbformat": 4,
 "nbformat_minor": 5
}

