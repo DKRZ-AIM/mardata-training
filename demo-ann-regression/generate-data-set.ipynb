{
 "cells": [
  {
   "cell_type": "code",
   "execution_count": null,
   "metadata": {},
   "outputs": [],
   "source": [
    "import numpy as np\n",
    "import h5py"
   ]
  },
  {
   "cell_type": "code",
   "execution_count": null,
   "metadata": {},
   "outputs": [],
   "source": [
    "from matplotlib import pyplot as plt\n",
    "import seaborn as sns"
   ]
  },
  {
   "cell_type": "code",
   "execution_count": null,
   "metadata": {},
   "outputs": [],
   "source": [
    "sourcefile='/work/ka1176/shared_data/2020-03/dev_data/dev_data_random_all_map/train_data.h5'"
   ]
  },
  {
   "cell_type": "code",
   "execution_count": null,
   "metadata": {},
   "outputs": [],
   "source": [
    "ddm_timestamp_unix = h5py.File(sourcefile, 'r')['ddm_timestamp_unix'][:]"
   ]
  },
  {
   "cell_type": "code",
   "execution_count": null,
   "metadata": {},
   "outputs": [],
   "source": [
    "ddm_timestamp_day = ((ddm_timestamp_unix - ddm_timestamp_unix[0]) / 24 / 3600).astype(int)"
   ]
  },
  {
   "cell_type": "code",
   "execution_count": null,
   "metadata": {},
   "outputs": [],
   "source": [
    "ix_start_valid = 130 #int(np.quantile(ddm_timestamp_day, 0.585))\n",
    "ix_start_test =  210 #int(np.quantile(ddm_timestamp_day, 0.65))"
   ]
  },
  {
   "cell_type": "code",
   "execution_count": null,
   "metadata": {},
   "outputs": [],
   "source": [
    "plt.hist(ddm_timestamp_day, bins=range(250));\n",
    "plt.vlines(ix_start_valid, 0, 250000);\n",
    "plt.vlines(ix_start_test, 0, 250000);"
   ]
  },
  {
   "cell_type": "code",
   "execution_count": null,
   "metadata": {},
   "outputs": [],
   "source": [
    "N_train = 60000\n",
    "N_valid = 10000\n",
    "N_test  = 15000"
   ]
  },
  {
   "cell_type": "code",
   "execution_count": null,
   "metadata": {},
   "outputs": [],
   "source": [
    "ix_train = np.sort(np.random.choice(np.sum(ddm_timestamp_day < ix_start_valid), N_train, replace=False))\n",
    "ix_valid = np.sort(np.random.choice(np.sum((ddm_timestamp_day >= ix_start_valid) & (ddm_timestamp_day < ix_start_test)), N_valid, replace=False)) + ix_start_valid\n",
    "ix_test = np.sort(np.random.choice(np.sum(ddm_timestamp_day >= ix_start_test), N_test, replace=False)) + ix_start_test"
   ]
  },
  {
   "cell_type": "code",
   "execution_count": null,
   "metadata": {},
   "outputs": [],
   "source": [
    "%%time\n",
    "windspeed = h5py.File(sourcefile, 'r')['windspeed'][:]\n",
    "windspeed_train = windspeed[ix_train]\n",
    "windspeed_valid = windspeed[ix_valid]\n",
    "windspeed_test  = windspeed[ix_test]"
   ]
  },
  {
   "cell_type": "code",
   "execution_count": null,
   "metadata": {},
   "outputs": [],
   "source": [
    "# Possible source of error - the validation set wind speed statistic is skewed wrto the train wind speed statistic\n",
    "sns.distplot(windspeed_train);\n",
    "sns.distplot(windspeed_valid);\n",
    "sns.distplot(windspeed_test);"
   ]
  },
  {
   "cell_type": "code",
   "execution_count": null,
   "metadata": {},
   "outputs": [],
   "source": [
    "%%time\n",
    "brcs = h5py.File(sourcefile, 'r')['brcs'][:]\n",
    "brcs_train = brcs[ix_train]\n",
    "brcs_valid = brcs[ix_valid]\n",
    "brcs_test  = brcs[ix_test]\n",
    "del windspeed, brcs"
   ]
  },
  {
   "cell_type": "code",
   "execution_count": null,
   "metadata": {},
   "outputs": [],
   "source": [
    "## Linear regression"
   ]
  },
  {
   "cell_type": "markdown",
   "metadata": {},
   "source": [
    "From brcs, we extract the quantity \"sigma0\", which is related to the wind speed. Actually, the relation is exponential. To fit a linear model, we take the logarithm and fit\n",
    "\n",
    "y = a * log(sigma0) + b"
   ]
  },
  {
   "cell_type": "code",
   "execution_count": null,
   "metadata": {},
   "outputs": [],
   "source": [
    "sigma0_train = np.max(brcs_train, axis=(1,2))\n",
    "sigma0_valid = np.max(brcs_valid, axis=(1,2))\n",
    "sigma0_test  = np.max(brcs_test, axis=(1,2))"
   ]
  },
  {
   "cell_type": "code",
   "execution_count": null,
   "metadata": {},
   "outputs": [],
   "source": [
    "plt.hexbin(np.log(sigma0_train), windspeed_train)\n",
    "plt.xlabel('log(sigma0)')\n",
    "plt.ylabel('wind speed');"
   ]
  },
  {
   "cell_type": "code",
   "execution_count": null,
   "metadata": {},
   "outputs": [],
   "source": [
    "from sklearn.linear_model import LinearRegression"
   ]
  },
  {
   "cell_type": "code",
   "execution_count": null,
   "metadata": {},
   "outputs": [],
   "source": [
    "lreg = LinearRegression()\n",
    "lreg.fit(np.log(sigma0_train).reshape(-1,1), windspeed_train)"
   ]
  },
  {
   "cell_type": "code",
   "execution_count": null,
   "metadata": {},
   "outputs": [],
   "source": [
    "print(lreg.score(np.log(sigma0_train).reshape(-1,1), windspeed_train))\n",
    "print(lreg.score(np.log(sigma0_valid).reshape(-1,1), windspeed_valid))\n",
    "print(lreg.score(np.log(sigma0_test).reshape(-1,1), windspeed_test))"
   ]
  },
  {
   "cell_type": "code",
   "execution_count": null,
   "metadata": {},
   "outputs": [],
   "source": [
    "y_pred = lreg.predict(np.log(sigma0_test.reshape(-1,1)))"
   ]
  },
  {
   "cell_type": "code",
   "execution_count": null,
   "metadata": {},
   "outputs": [],
   "source": [
    "plt.hexbin(windspeed_test, y_pred);\n",
    "plt.colorbar(label='Bin count')\n",
    "plt.xlabel('true wind speed')\n",
    "plt.ylabel('predicted wind speed');\n",
    "ax=plt.gca()\n",
    "ax.set_aspect('equal')\n",
    "ax.plot(range(0, 15), range(0, 15), 'r:');"
   ]
  },
  {
   "cell_type": "code",
   "execution_count": null,
   "metadata": {},
   "outputs": [],
   "source": [
    "lreg.coef_, lreg.intercept_"
   ]
  },
  {
   "cell_type": "code",
   "execution_count": null,
   "metadata": {},
   "outputs": [],
   "source": [
    "print(f'RMSE: {np.sqrt(np.mean((y_pred - windspeed_test)**2)):.2f} m/s')"
   ]
  },
  {
   "cell_type": "code",
   "execution_count": null,
   "metadata": {},
   "outputs": [],
   "source": [
    "# RMSE if we would just always predict the mean value\n",
    "print(f'RMSE: {np.sqrt(np.mean((np.mean(windspeed_test) - windspeed_test)**2)):.2f} m/s')"
   ]
  },
  {
   "cell_type": "code",
   "execution_count": null,
   "metadata": {},
   "outputs": [],
   "source": [
    "# TODO\n",
    "# save as hdf5\n",
    "# separate notebook for the linear regression\n",
    "# ANN with the flattened BRCS\n",
    "# CNN with the BRCS\n",
    "# Bonus: CNN with the BRCS and the EFF_SCATTER"
   ]
  }
 ],
 "metadata": {
  "kernelspec": {
   "display_name": "Python 3 bleeding edge (using the module anaconda3/bleeding_edge)",
   "language": "python",
   "name": "anaconda3_bleeding"
  },
  "language_info": {
   "codemirror_mode": {
    "name": "ipython",
    "version": 3
   },
   "file_extension": ".py",
   "mimetype": "text/x-python",
   "name": "python",
   "nbconvert_exporter": "python",
   "pygments_lexer": "ipython3",
   "version": "3.6.10"
  }
 },
 "nbformat": 4,
 "nbformat_minor": 4
}
