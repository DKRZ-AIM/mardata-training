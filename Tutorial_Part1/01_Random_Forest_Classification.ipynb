{
 "cells": [
  {
   "cell_type": "markdown",
   "metadata": {},
   "source": [
    "# Objective\n",
    "\n",
    "Use a Random Forest to fit a classification model to hand-written digits (MNIST).\n",
    "\n",
    "Data: https://www.kaggle.com/c/digit-recognizer/data"
   ]
  },
  {
   "cell_type": "markdown",
   "metadata": {},
   "source": [
    "# Setup\n",
    "\n",
    "Import the relevant packages."
   ]
  },
  {
   "cell_type": "code",
   "execution_count": null,
   "metadata": {},
   "outputs": [],
   "source": [
    "import os\n",
    "import pandas as pd\n",
    "import numpy as np\n",
    "import random\n",
    "\n",
    "# packages for modelling and evaluation\n",
    "from sklearn.ensemble import RandomForestClassifier\n",
    "from sklearn.model_selection import train_test_split\n",
    "from sklearn.metrics import classification_report, plot_confusion_matrix #needs to be version >=0.24.2\n",
    "\n",
    "# packages for plotting\n",
    "import matplotlib.pyplot as plt\n",
    "import seaborn as sns\n",
    "\n",
    "# set a fixed random state to produce the same results\n",
    "RANDOM_STATE = 42\n",
    "random.seed(RANDOM_STATE)\n",
    "np.random.seed(RANDOM_STATE)"
   ]
  },
  {
   "cell_type": "markdown",
   "metadata": {},
   "source": [
    "# Read Data\n",
    "\n",
    "The data are given in a csv table. The first column is the label, the other coloumns are the pixels of the flattened image. "
   ]
  },
  {
   "cell_type": "code",
   "execution_count": null,
   "metadata": {},
   "outputs": [],
   "source": [
    "path = \"/work/ka1176/shared_data/training/MNIST\"\n",
    "data = pd.read_csv(os.path.join(path, \"train.csv\"))\n",
    "data.head()"
   ]
  },
  {
   "cell_type": "markdown",
   "metadata": {},
   "source": [
    "# Generate Train and Validation Set\n",
    "\n",
    "Use the ```train_test_split``` method from the ```sklearn``` package (https://scikit-learn.org/stable/modules/generated/sklearn.model_selection.train_test_split.html)."
   ]
  },
  {
   "cell_type": "code",
   "execution_count": null,
   "metadata": {},
   "outputs": [],
   "source": [
    "# save labels and samples separately\n",
    "X = np.array(data.iloc[:,1:])\n",
    "y = np.array(data.iloc[:,0])\n",
    "print(f'Data shape: X: {X.shape}, y: {y.shape}')"
   ]
  },
  {
   "cell_type": "code",
   "execution_count": null,
   "metadata": {},
   "outputs": [],
   "source": [
    "# generate train and validation set\n",
    "X_train, X_valid, y_train, y_valid = train_test_split(X, y, test_size=0.2, shuffle=True, random_state=RANDOM_STATE)\n",
    "print(f'Data shape after splitting:')\n",
    "print(f'Train Dataset: X: {X_train.shape}, y: {y_train.shape}')\n",
    "print(f'Validation Dataset: X: {X_valid.shape}, y: {y_valid.shape}')"
   ]
  },
  {
   "cell_type": "markdown",
   "metadata": {},
   "source": [
    "# Visualize the Data"
   ]
  },
  {
   "cell_type": "code",
   "execution_count": null,
   "metadata": {
    "scrolled": true
   },
   "outputs": [],
   "source": [
    "X_image = X_train.reshape(X_train.shape[0], 28, 28)\n",
    "\n",
    "fig, axes = plt.subplots(2,10, figsize=(20,5))\n",
    "\n",
    "for i, ax in enumerate(axes.flatten()):\n",
    "    ax.imshow(X_image[i].reshape(28,28), cmap='gray')\n",
    "    ax.axis('off')\n",
    "    ax.set_title(f'Label = {y_train[i]}')"
   ]
  },
  {
   "cell_type": "code",
   "execution_count": null,
   "metadata": {},
   "outputs": [],
   "source": [
    "# plot number of each class to see if the dataset is balanced\n",
    "sns.countplot(y_train);"
   ]
  },
  {
   "cell_type": "markdown",
   "metadata": {},
   "source": [
    "# Predictive Modelling\n",
    "\n",
    "Use the random forest classifier from the ```sklearn``` package to fit a model. See https://scikit-learn.org/stable/modules/generated/sklearn.ensemble.RandomForestClassifier.html for more details."
   ]
  },
  {
   "cell_type": "code",
   "execution_count": null,
   "metadata": {},
   "outputs": [],
   "source": [
    "# how many \"estimators\" (decision trees) should be used \n",
    "n_estimators = 100\n",
    "rf = RandomForestClassifier(n_estimators=n_estimators, random_state=RANDOM_STATE)\n",
    "rf.fit(X_train,y_train)\n",
    "y_pred = rf.predict(X_valid)"
   ]
  },
  {
   "cell_type": "markdown",
   "metadata": {},
   "source": [
    "# Evaluation\n",
    "\n",
    "The classification report gives a summary of the most common metrics for each class and the overall accuracy. The confusion matrix visualizes how good your model performs. See https://scikit-learn.org/stable/modules/generated/sklearn.metrics.classification_report.html and\n",
    "https://scikit-learn.org/stable/modules/generated/sklearn.metrics.plot_confusion_matrix.html for more details."
   ]
  },
  {
   "cell_type": "code",
   "execution_count": null,
   "metadata": {},
   "outputs": [],
   "source": [
    "print (\"Classification Report\")\n",
    "print(classification_report(y_valid, y_pred))"
   ]
  },
  {
   "cell_type": "code",
   "execution_count": null,
   "metadata": {},
   "outputs": [],
   "source": [
    "print (\"Confusion Matrix\")\n",
    "plot_confusion_matrix(rf, X_valid, y_valid,\n",
    "                      cmap=plt.cm.Blues,values_format=\"d\")\n",
    "plt.show()"
   ]
  },
  {
   "cell_type": "markdown",
   "metadata": {},
   "source": [
    "# Plot Predictions\n",
    "\n",
    "Visualize the model results with some example plots from the validation set."
   ]
  },
  {
   "cell_type": "code",
   "execution_count": null,
   "metadata": {},
   "outputs": [],
   "source": [
    "fig, axes = plt.subplots(4,10, figsize=(20,10))\n",
    "\n",
    "for i, ax in enumerate(axes.flatten()):\n",
    "    ax.imshow(X_valid[i].reshape(28, 28), cmap=\"gray\")\n",
    "    ax.axis('off')\n",
    "    ax.set_title(f\"Pred: {y_pred[i]} - True: {y_valid[i]}\",\n",
    "                color=(\"green\" if y_pred[i]==y_valid[i] else \"red\"))"
   ]
  },
  {
   "cell_type": "code",
   "execution_count": null,
   "metadata": {},
   "outputs": [],
   "source": []
  }
 ],
 "metadata": {
  "kernelspec": {
   "display_name": "Python 3 bleeding edge (using the module anaconda3/bleeding_edge)",
   "language": "python",
   "name": "anaconda3_bleeding"
  },
  "language_info": {
   "codemirror_mode": {
    "name": "ipython",
    "version": 3
   },
   "file_extension": ".py",
   "mimetype": "text/x-python",
   "name": "python",
   "nbconvert_exporter": "python",
   "pygments_lexer": "ipython3",
   "version": "3.6.10"
  }
 },
 "nbformat": 4,
 "nbformat_minor": 4
}
